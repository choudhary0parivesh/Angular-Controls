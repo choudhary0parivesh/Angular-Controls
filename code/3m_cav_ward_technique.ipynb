{
 "cells": [
  {
   "cell_type": "code",
   "execution_count": 1,
   "metadata": {},
   "outputs": [
    {
     "name": "stdout",
     "output_type": "stream",
     "text": [
      "                                              ..-\n",
      "    PyKat 1.2.81          _                  '(\n",
      "                          \\`.|\\.__...-\"\"\"\"-_.\" )\n",
      "       ..+-----.._        /  ' `            .-'\n",
      "   . '            `:      7/* _/._\\    \\   (\n",
      "  (        '::;;+;;:      `-\"' =\" /,`\"\" `) /\n",
      "  L.        \\`:::a:f            c_/     n_'\n",
      "  ..`--...___`.  .    ,\n",
      "   `^-....____:   +.      www.gwoptics.org/pykat\n",
      "\n"
     ]
    }
   ],
   "source": [
    "from pykat import finesse \n",
    "       \n",
    "from pykat.commands import *     \n",
    "import numpy as np               \n",
    "import matplotlib.pyplot as plt  \n",
    "import scipy                     \n",
    "from IPython import display\n",
    "              \n",
    "\n",
    "pykat.init_pykat_plotting(dpi=200)\n",
    "\n"
   ]
  },
  {
   "cell_type": "code",
   "execution_count": null,
   "metadata": {},
   "outputs": [],
   "source": [
    "kat3 = finesse.kat()\n",
    "kat3.verbose=True\n",
    "kat3.parse(\"\"\"\n",
    "\n",
    "\n",
    "l laser 1 0 nin                  \n",
    "mod EOM 55.55M 0.001 1 pm nin n0 \n",
    "maxtem 3                         \n",
    "s s0 0 n0 n1\n",
    "bs pickoff 0.1 0.9 0 45 n1 dump n2 n3 \n",
    "s s1 0.1 n2 n4                        \n",
    "m ITM 0.98997 0.01 0 n4 n5               \n",
    "s scavity 3.3 n5 n6                   \n",
    "m ETM 0.99996 0.00001 0 n6 n7               \n",
    "\n",
    "s s2 0.1 n3 n8                       \n",
    "bs bsQPD 0.5 0.5 0 45 n8 n9 n10 dump \n",
    "s sQPD1 0.1 n9 n11                   \n",
    "s sQPD2 0.1 n10 n12                  \n",
    "\n",
    "cav cavity ITM n5 ETM n6 \n",
    "trace 2                  \n",
    "attr ETM Rc 11.3         \n",
    "attr ETM xbeta 0         \n",
    "attr ITM xbeta 0         \n",
    "pd1 PDrefl 55.55M 0 n8*   \n",
    "\n",
    "attr sQPD1 g 40   \n",
    "attr sQPD2 g 130 \n",
    "\n",
    "pd1 QPDrefl1 55.55M 0 n11 \n",
    "pdtype QPDrefl1 x-split   \n",
    "\n",
    "pd1 QPDrefl2 55.55M 0 n12 \n",
    "pdtype QPDrefl2 x-split   \n",
    "\n",
    "set err PDrefl re    \n",
    "lock z $err 3000 10n \n",
    "put ETM phi $z       \n",
    "noplot z             \n",
    "%xaxis ITM xbeta lin 0 0.8m 500 \n",
    "xaxis ETM xbeta lin 0 0.8m 800  \n",
    "\"\"\")"
   ]
  },
  {
   "cell_type": "code",
   "execution_count": null,
   "metadata": {},
   "outputs": [],
   "source": [
    "out2 = kat3.run()\n",
    "out2.info()\n",
    "out2.plot()"
   ]
  },
  {
   "cell_type": "code",
   "execution_count": null,
   "metadata": {},
   "outputs": [],
   "source": [
    "out2.plot(['QPDrefl1'])"
   ]
  },
  {
   "cell_type": "code",
   "execution_count": null,
   "metadata": {},
   "outputs": [],
   "source": [
    "out2.plot(['QPDrefl2'])"
   ]
  },
  {
   "cell_type": "code",
   "execution_count": null,
   "metadata": {},
   "outputs": [],
   "source": [
    "out2.plot(['QPDrefl1','QPDrefl2','PDrefl'],title='Ward Technique')"
   ]
  },
  {
   "cell_type": "code",
   "execution_count": null,
   "metadata": {},
   "outputs": [],
   "source": [
    "out2.plot(['PDrefl'])"
   ]
  },
  {
   "cell_type": "code",
   "execution_count": null,
   "metadata": {},
   "outputs": [],
   "source": []
  },
  {
   "cell_type": "code",
   "execution_count": null,
   "metadata": {},
   "outputs": [],
   "source": []
  }
 ],
 "metadata": {
  "kernelspec": {
   "display_name": "Python 3.9.12 ('base')",
   "language": "python",
   "name": "python3"
  },
  "language_info": {
   "codemirror_mode": {
    "name": "ipython",
    "version": 3
   },
   "file_extension": ".py",
   "mimetype": "text/x-python",
   "name": "python",
   "nbconvert_exporter": "python",
   "pygments_lexer": "ipython3",
   "version": "3.9.12"
  },
  "orig_nbformat": 4,
  "vscode": {
   "interpreter": {
    "hash": "47624b2bb3dc4c88571923476099f3ba28f698f5edc93b8ba13c075c510daf2f"
   }
  }
 },
 "nbformat": 4,
 "nbformat_minor": 2
}
