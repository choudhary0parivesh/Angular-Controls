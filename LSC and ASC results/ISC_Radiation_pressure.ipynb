{
 "cells": [
  {
   "cell_type": "code",
   "execution_count": 1,
   "metadata": {},
   "outputs": [
    {
     "name": "stdout",
     "output_type": "stream",
     "text": [
      "                                              ..-\n",
      "    PyKat 1.2.81          _                  '(\n",
      "                          \\`.|\\.__...-\"\"\"\"-_.\" )\n",
      "       ..+-----.._        /  ' `            .-'\n",
      "   . '            `:      7/* _/._\\    \\   (\n",
      "  (        '::;;+;;:      `-\"' =\" /,`\"\" `) /\n",
      "  L.        \\`:::a:f            c_/     n_'\n",
      "  ..`--...___`.  .    ,\n",
      "   `^-....____:   +.      www.gwoptics.org/pykat\n",
      "\n"
     ]
    }
   ],
   "source": [
    "from pykat import finesse \n",
    "       \n",
    "from pykat.commands import *     \n",
    "import numpy as np   \n",
    "import pandas as pd            \n",
    "import matplotlib.pyplot as plt  \n",
    "import scipy.signal                \n",
    "from IPython import display\n",
    "              \n",
    "%matplotlib inline\n",
    "pykat.init_pykat_plotting(dpi=200)"
   ]
  },
  {
   "cell_type": "code",
   "execution_count": 2,
   "metadata": {},
   "outputs": [
    {
     "name": "stdout",
     "output_type": "stream",
     "text": [
      "MoI Iz 0.000375\n",
      "MoI Ix 0.00025\n"
     ]
    }
   ],
   "source": [
    "m = 300/1000 ## mass 300gm\n",
    "r = 5/100    ## radius 5cm\n",
    "d = 5/100    ## thickness 5cm\n",
    "\n",
    "Iz = 0.5*m*r*r\n",
    "Ix = (0.25*m*r*r) + (1/12)*(m*d*d)\n",
    "\n",
    "print(\"MoI Iz\",Iz)\n",
    "print(\"MoI Ix\",Ix)"
   ]
  },
  {
   "cell_type": "code",
   "execution_count": null,
   "metadata": {},
   "outputs": [],
   "source": []
  }
 ],
 "metadata": {
  "kernelspec": {
   "display_name": "Python 3.9.15 ('base')",
   "language": "python",
   "name": "python3"
  },
  "language_info": {
   "codemirror_mode": {
    "name": "ipython",
    "version": 3
   },
   "file_extension": ".py",
   "mimetype": "text/x-python",
   "name": "python",
   "nbconvert_exporter": "python",
   "pygments_lexer": "ipython3",
   "version": "3.9.15"
  },
  "orig_nbformat": 4,
  "vscode": {
   "interpreter": {
    "hash": "47624b2bb3dc4c88571923476099f3ba28f698f5edc93b8ba13c075c510daf2f"
   }
  }
 },
 "nbformat": 4,
 "nbformat_minor": 2
}
