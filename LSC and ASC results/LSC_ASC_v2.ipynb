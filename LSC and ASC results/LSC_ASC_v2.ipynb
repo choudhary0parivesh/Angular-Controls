{
 "cells": [
  {
   "cell_type": "markdown",
   "metadata": {},
   "source": [
    "# Contents\n",
    "\n",
    "<h4>1) Basecode</h4>\n",
    "<h4>2) PRM tune for maximum power</h4>\n",
    "<h4>3) LSC using Decoupling Slope Method</h4>\n",
    "<h4>4) LSC using Maximum Slope Method</h4>\n",
    "<h4>5) ASC sensing matrix</h4>\n",
    "<h4>6) Diagonalisation of ASC matrix</h4>"
   ]
  },
  {
   "cell_type": "code",
   "execution_count": 1,
   "metadata": {},
   "outputs": [
    {
     "name": "stdout",
     "output_type": "stream",
     "text": [
      "                                              ..-\n",
      "    PyKat 1.2.81          _                  '(\n",
      "                          \\`.|\\.__...-\"\"\"\"-_.\" )\n",
      "       ..+-----.._        /  ' `            .-'\n",
      "   . '            `:      7/* _/._\\    \\   (\n",
      "  (        '::;;+;;:      `-\"' =\" /,`\"\" `) /\n",
      "  L.        \\`:::a:f            c_/     n_'\n",
      "  ..`--...___`.  .    ,\n",
      "   `^-....____:   +.      www.gwoptics.org/pykat\n",
      "\n"
     ]
    }
   ],
   "source": [
    "from pykat import finesse \n",
    "       \n",
    "from pykat.commands import *     \n",
    "import numpy as np               \n",
    "import matplotlib.pyplot as plt  \n",
    "import scipy                     \n",
    "from IPython import display\n",
    "from scipy.signal import find_peaks \n",
    "\n",
    "              \n",
    "\n",
    "pykat.init_pykat_plotting(dpi=200)\n",
    "\n",
    "kat=finesse.kat()\n",
    "kat.verbose=1\n"
   ]
  },
  {
   "cell_type": "markdown",
   "metadata": {},
   "source": [
    "<h2>BASECODE</h2>"
   ]
  },
  {
   "cell_type": "code",
   "execution_count": 2,
   "metadata": {},
   "outputs": [],
   "source": [
    "kat.parse(\"\"\"\n",
    "\n",
    "l laser 0.08 0 n1                          #laser 30W\n",
    "maxtem 3\n",
    "s gap01 1 n1 n2                         #space b/w mod and laser  \n",
    "mod eom1 $sb1 0.18 3 pm n2 n3         #modulator PM $sb1 3f\n",
    "s gap02 0.5 n3 n31a                     #space b/w mod and PRM      \n",
    "\n",
    "\n",
    "##### FOR ANGULAR SENSING PRM #####\n",
    "bs pickoff 0.0001 0.9999 0 45 n31a dump n32 refl_a\n",
    "s s2 0.1 refl_a a8                       \n",
    "bs bsQPD 0.5 0.5 0 45 a8 a9 a10 dump            #bs to split power between two detectors \n",
    "\n",
    "s sQPD1 0.1 a9 a11                   \n",
    "s sQPD2 0.1 a10 a12\n",
    "#########################\n",
    "\n",
    "\n",
    "\n",
    "##### FOR ANGULAR SENSING ITM/ETM #####\n",
    "s sr 0.01 bs12tr n12a    \n",
    "#bs pickoff1 0.0001 0.9999 0 45 n12a dump dump refl_itm\n",
    "#s s21 0.1 refl_itm a81                       \n",
    "bs bsQPD1 0.5 0.5 0 45 n12a a91 a101 dump            #bs to split power between two detectors \n",
    "\n",
    "s sQPD11 0.1 a91 a11a                   \n",
    "s sQPD21 0.1 a101 a12a\n",
    "#########################\n",
    "\n",
    "\n",
    "\n",
    "####### 3 m setup ###########\n",
    "\n",
    "s gap03 0.5 n32 refl\n",
    "\n",
    "m PRM 0.859 0.1 0 refl pop               #PRM                ---> POP <---\n",
    "\n",
    "##### folding mirrors #####\n",
    "s prc 0.5 pop bs1a\n",
    "bs bs1 0.999 0.001 0 0 bs1a bs12 bs12tr dump\n",
    "s b1 0.350 bs12 bs21\n",
    "bs bs2 0.999 0.001 0 0 bs21 bs21a bs21tr dump\n",
    "s b2 0.5 bs21a b3    \n",
    "###########################\n",
    "\n",
    "#m PRM 0 1 90 refl pop               #PRM\n",
    "#s PRC 1.33 pop b3                        #PRC \n",
    "m ITM 0.98997 0.01 0 b3 n12              #ITM\n",
    "s ARM 3.3 n12 b5                        #ARM length 3.3 (0.01 from sr length) \n",
    "m ETM 0.99996 0.00001 0 b5 b6           #ETM\n",
    "#m ETM 0 1 0 b5 b6 \n",
    "\n",
    "################################\n",
    "\n",
    "\n",
    "cav ARML ITM n12 ETM b5 \n",
    "cav PRCL PRM pop ITM b3\n",
    "\n",
    "\n",
    "##### attr for TM ######\n",
    "attr ETM Rc 11.3            # RoC of ETM\n",
    "attr PRM Rc -23.6           # RoC of PRM\n",
    "attr PRM xbeta 0            # misalgnment PRM\n",
    "attr ETM xbeta 0            # misalgnment ETM\n",
    "attr ITM xbeta 0            # misalgnment ITM\n",
    "######################\n",
    "\n",
    "\n",
    "#trace 2 \n",
    "#phase 2\n",
    "\n",
    "const sb1 55.556M\n",
    "const sb2 111.112M\n",
    "const sb3 166.668M\n",
    "\n",
    "\n",
    "\"\"\")\n"
   ]
  },
  {
   "cell_type": "code",
   "execution_count": 3,
   "metadata": {},
   "outputs": [],
   "source": [
    "#### DC PDs ##########\n",
    "\n",
    "kat_dc = kat.deepcopy()\n",
    "kat_dc.parse(\"\"\"\n",
    "\n",
    "pd circ_arm b5\n",
    "pd circ_prc pop\n",
    "pd refl refl\n",
    "pd trans b6\n",
    "\n",
    "\n",
    "xaxis PRM phi lin 10 140 8000\n",
    "\n",
    "\n",
    "\"\"\")"
   ]
  },
  {
   "cell_type": "markdown",
   "metadata": {},
   "source": [
    "<h2>PRM tune for maximum power</h2>"
   ]
  },
  {
   "cell_type": "code",
   "execution_count": 4,
   "metadata": {},
   "outputs": [
    {
     "name": "stdout",
     "output_type": "stream",
     "text": [
      "--------------------------------------------------------------\n",
      "Running kat - Started at 2022-12-07 19:47:38.156444\n"
     ]
    },
    {
     "name": "stderr",
     "output_type": "stream",
     "text": [
      "100% | ETA:  0:00:00 | Calculating                                             "
     ]
    },
    {
     "name": "stdout",
     "output_type": "stream",
     "text": [
      "Used Finesse None at C:\\Users\\Parivesh\\anaconda3\\Library\\bin\\kat.exe\n",
      "\n",
      "Finished in 16.6098 seconds\n",
      "\n",
      "--- Output info ---\n",
      "\n",
      "Run date and time: 2022-12-07 19:47:38.163332\n",
      "Detectors used: circ_arm, circ_prc, refl, trans\n",
      "\n",
      "One xaxis used: ['xaxis PRM phi lin 10 140 8000']\n",
      "circ_arm : min = 8.711714408011410e-01 max = 3.989258581913480e+02\n",
      "circ_prc : min = 2.284391722420270e-03 max = 1.041502988587090e+00\n",
      "refl     : min = 3.260526364111610e-03 max = 7.655147644964121e-02\n",
      "trans    : min = 8.712062890527031e-06 max = 3.989418158639830e-03\n"
     ]
    },
    {
     "data": {
      "image/svg+xml": "<?xml version=\"1.0\" encoding=\"utf-8\" standalone=\"no\"?>\n<!DOCTYPE svg PUBLIC \"-//W3C//DTD SVG 1.1//EN\"\n  \"http://www.w3.org/Graphics/SVG/1.1/DTD/svg11.dtd\">\n<svg xmlns:xlink=\"http://www.w3.org/1999/xlink\" width=\"415.837715pt\" height=\"250.811625pt\" viewBox=\"0 0 415.837715 250.811625\" xmlns=\"http://www.w3.org/2000/svg\" version=\"1.1\">\n <metadata>\n  <rdf:RDF xmlns:dc=\"http://purl.org/dc/elements/1.1/\" xmlns:cc=\"http://creativecommons.org/ns#\" xmlns:rdf=\"http://www.w3.org/1999/02/22-rdf-syntax-ns#\">\n   <cc:Work>\n    <dc:type rdf:resource=\"http://purl.org/dc/dcmitype/StillImage\"/>\n    <dc:date>2022-12-07T19:47:55.478282</dc:date>\n    <dc:format>image/svg+xml</dc:format>\n    <dc:creator>\n     <cc:Agent>\n      <dc:title>Matplotlib v3.5.3, https://matplotlib.org/</dc:title>\n     </cc:Agent>\n    </dc:creator>\n   </cc:Work>\n  </rdf:RDF>\n </metadata>\n <defs>\n  <style type=\"text/css\">*{stroke-linejoin: round; stroke-linecap: butt}</style>\n </defs>\n <g id=\"figure_1\">\n  <g id=\"patch_1\">\n   <path d=\"M 0 250.811625 \nL 415.837715 250.811625 \nL 415.837715 0 \nL 0 0 \nz\n\" style=\"fill: #ffffff\"/>\n  </g>\n  <g id=\"axes_1\">\n   <g id=\"patch_2\">\n    <path d=\"M 42.435938 217.681 \nL 403.642715 217.681 \nL 403.642715 3.6 \nL 42.435938 3.6 \nz\n\" style=\"fill: #ffffff\"/>\n   </g>\n   <g id=\"matplotlib.axis_1\">\n    <g id=\"xtick_1\">\n     <g id=\"line2d_1\">\n      <defs>\n       <path id=\"ma63b3b0748\" d=\"M 0 0 \nL 0 3.5 \n\" style=\"stroke: #000000; stroke-width: 0.8\"/>\n      </defs>\n      <g>\n       <use xlink:href=\"#ma63b3b0748\" x=\"70.221074\" y=\"217.681\" style=\"stroke: #000000; stroke-width: 0.8\"/>\n      </g>\n     </g>\n     <g id=\"text_1\">\n      <!-- $\\mathdefault{20}$ -->\n      <g transform=\"translate(64.461074 231.519594)scale(0.09 -0.09)\">\n       <defs>\n        <path id=\"DejaVuSerif-32\" d=\"M 819 3553 \nL 469 3553 \nL 469 4384 \nQ 803 4563 1142 4656 \nQ 1481 4750 1806 4750 \nQ 2534 4750 2956 4397 \nQ 3378 4044 3378 3438 \nQ 3378 2753 2422 1800 \nQ 2347 1728 2309 1691 \nL 1131 513 \nL 3078 513 \nL 3078 1088 \nL 3444 1088 \nL 3444 0 \nL 434 0 \nL 434 341 \nL 1850 1753 \nQ 2319 2222 2519 2614 \nQ 2719 3006 2719 3438 \nQ 2719 3909 2473 4175 \nQ 2228 4441 1797 4441 \nQ 1350 4441 1106 4219 \nQ 863 3997 819 3553 \nz\n\" transform=\"scale(0.015625)\"/>\n        <path id=\"DejaVuSerif-30\" d=\"M 2034 219 \nQ 2513 219 2750 744 \nQ 2988 1269 2988 2328 \nQ 2988 3391 2750 3916 \nQ 2513 4441 2034 4441 \nQ 1556 4441 1318 3916 \nQ 1081 3391 1081 2328 \nQ 1081 1269 1318 744 \nQ 1556 219 2034 219 \nz\nM 2034 -91 \nQ 1275 -91 848 546 \nQ 422 1184 422 2328 \nQ 422 3475 848 4112 \nQ 1275 4750 2034 4750 \nQ 2797 4750 3222 4112 \nQ 3647 3475 3647 2328 \nQ 3647 1184 3222 546 \nQ 2797 -91 2034 -91 \nz\n\" transform=\"scale(0.015625)\"/>\n       </defs>\n       <use xlink:href=\"#DejaVuSerif-32\" transform=\"translate(0 0.78125)\"/>\n       <use xlink:href=\"#DejaVuSerif-30\" transform=\"translate(63.623047 0.78125)\"/>\n      </g>\n     </g>\n    </g>\n    <g id=\"xtick_2\">\n     <g id=\"line2d_2\">\n      <g>\n       <use xlink:href=\"#ma63b3b0748\" x=\"125.791348\" y=\"217.681\" style=\"stroke: #000000; stroke-width: 0.8\"/>\n      </g>\n     </g>\n     <g id=\"text_2\">\n      <!-- $\\mathdefault{40}$ -->\n      <g transform=\"translate(120.031348 231.519594)scale(0.09 -0.09)\">\n       <defs>\n        <path id=\"DejaVuSerif-34\" d=\"M 2234 1581 \nL 2234 4063 \nL 641 1581 \nL 2234 1581 \nz\nM 3609 0 \nL 1484 0 \nL 1484 331 \nL 2234 331 \nL 2234 1247 \nL 197 1247 \nL 197 1588 \nL 2241 4750 \nL 2859 4750 \nL 2859 1581 \nL 3750 1581 \nL 3750 1247 \nL 2859 1247 \nL 2859 331 \nL 3609 331 \nL 3609 0 \nz\n\" transform=\"scale(0.015625)\"/>\n       </defs>\n       <use xlink:href=\"#DejaVuSerif-34\" transform=\"translate(0 0.78125)\"/>\n       <use xlink:href=\"#DejaVuSerif-30\" transform=\"translate(63.623047 0.78125)\"/>\n      </g>\n     </g>\n    </g>\n    <g id=\"xtick_3\">\n     <g id=\"line2d_3\">\n      <g>\n       <use xlink:href=\"#ma63b3b0748\" x=\"181.361621\" y=\"217.681\" style=\"stroke: #000000; stroke-width: 0.8\"/>\n      </g>\n     </g>\n     <g id=\"text_3\">\n      <!-- $\\mathdefault{60}$ -->\n      <g transform=\"translate(175.601621 231.519594)scale(0.09 -0.09)\">\n       <defs>\n        <path id=\"DejaVuSerif-36\" d=\"M 2094 219 \nQ 2534 219 2771 542 \nQ 3009 866 3009 1472 \nQ 3009 2078 2771 2401 \nQ 2534 2725 2094 2725 \nQ 1647 2725 1412 2412 \nQ 1178 2100 1178 1509 \nQ 1178 888 1415 553 \nQ 1653 219 2094 219 \nz\nM 1075 2569 \nQ 1288 2803 1556 2918 \nQ 1825 3034 2163 3034 \nQ 2859 3034 3264 2615 \nQ 3669 2197 3669 1472 \nQ 3669 763 3233 336 \nQ 2797 -91 2069 -91 \nQ 1278 -91 853 498 \nQ 428 1088 428 2181 \nQ 428 3406 931 4078 \nQ 1434 4750 2350 4750 \nQ 2597 4750 2869 4703 \nQ 3141 4656 3425 4563 \nL 3425 3794 \nL 3072 3794 \nQ 3034 4109 2831 4275 \nQ 2628 4441 2284 4441 \nQ 1678 4441 1381 3981 \nQ 1084 3522 1075 2569 \nz\n\" transform=\"scale(0.015625)\"/>\n       </defs>\n       <use xlink:href=\"#DejaVuSerif-36\" transform=\"translate(0 0.78125)\"/>\n       <use xlink:href=\"#DejaVuSerif-30\" transform=\"translate(63.623047 0.78125)\"/>\n      </g>\n     </g>\n    </g>\n    <g id=\"xtick_4\">\n     <g id=\"line2d_4\">\n      <g>\n       <use xlink:href=\"#ma63b3b0748\" x=\"236.931895\" y=\"217.681\" style=\"stroke: #000000; stroke-width: 0.8\"/>\n      </g>\n     </g>\n     <g id=\"text_4\">\n      <!-- $\\mathdefault{80}$ -->\n      <g transform=\"translate(231.171895 231.519594)scale(0.09 -0.09)\">\n       <defs>\n        <path id=\"DejaVuSerif-38\" d=\"M 2981 1275 \nQ 2981 1775 2732 2051 \nQ 2484 2328 2034 2328 \nQ 1584 2328 1336 2051 \nQ 1088 1775 1088 1275 \nQ 1088 772 1336 495 \nQ 1584 219 2034 219 \nQ 2484 219 2732 495 \nQ 2981 772 2981 1275 \nz\nM 2853 3541 \nQ 2853 3966 2637 4203 \nQ 2422 4441 2034 4441 \nQ 1650 4441 1433 4203 \nQ 1216 3966 1216 3541 \nQ 1216 3113 1433 2875 \nQ 1650 2638 2034 2638 \nQ 2422 2638 2637 2875 \nQ 2853 3113 2853 3541 \nz\nM 2516 2484 \nQ 3047 2413 3344 2092 \nQ 3641 1772 3641 1275 \nQ 3641 619 3225 264 \nQ 2809 -91 2034 -91 \nQ 1263 -91 845 264 \nQ 428 619 428 1275 \nQ 428 1772 725 2092 \nQ 1022 2413 1556 2484 \nQ 1084 2569 832 2842 \nQ 581 3116 581 3541 \nQ 581 4103 968 4426 \nQ 1356 4750 2034 4750 \nQ 2713 4750 3100 4426 \nQ 3488 4103 3488 3541 \nQ 3488 3116 3236 2842 \nQ 2984 2569 2516 2484 \nz\n\" transform=\"scale(0.015625)\"/>\n       </defs>\n       <use xlink:href=\"#DejaVuSerif-38\" transform=\"translate(0 0.78125)\"/>\n       <use xlink:href=\"#DejaVuSerif-30\" transform=\"translate(63.623047 0.78125)\"/>\n      </g>\n     </g>\n    </g>\n    <g id=\"xtick_5\">\n     <g id=\"line2d_5\">\n      <g>\n       <use xlink:href=\"#ma63b3b0748\" x=\"292.502168\" y=\"217.681\" style=\"stroke: #000000; stroke-width: 0.8\"/>\n      </g>\n     </g>\n     <g id=\"text_5\">\n      <!-- $\\mathdefault{100}$ -->\n      <g transform=\"translate(283.907168 231.519594)scale(0.09 -0.09)\">\n       <defs>\n        <path id=\"DejaVuSerif-31\" d=\"M 909 0 \nL 909 331 \nL 1722 331 \nL 1722 4213 \nL 781 3603 \nL 781 4013 \nL 1919 4750 \nL 2350 4750 \nL 2350 331 \nL 3163 331 \nL 3163 0 \nL 909 0 \nz\n\" transform=\"scale(0.015625)\"/>\n       </defs>\n       <use xlink:href=\"#DejaVuSerif-31\" transform=\"translate(0 0.78125)\"/>\n       <use xlink:href=\"#DejaVuSerif-30\" transform=\"translate(63.623047 0.78125)\"/>\n       <use xlink:href=\"#DejaVuSerif-30\" transform=\"translate(127.246094 0.78125)\"/>\n      </g>\n     </g>\n    </g>\n    <g id=\"xtick_6\">\n     <g id=\"line2d_6\">\n      <g>\n       <use xlink:href=\"#ma63b3b0748\" x=\"348.072441\" y=\"217.681\" style=\"stroke: #000000; stroke-width: 0.8\"/>\n      </g>\n     </g>\n     <g id=\"text_6\">\n      <!-- $\\mathdefault{120}$ -->\n      <g transform=\"translate(339.477441 231.519594)scale(0.09 -0.09)\">\n       <use xlink:href=\"#DejaVuSerif-31\" transform=\"translate(0 0.78125)\"/>\n       <use xlink:href=\"#DejaVuSerif-32\" transform=\"translate(63.623047 0.78125)\"/>\n       <use xlink:href=\"#DejaVuSerif-30\" transform=\"translate(127.246094 0.78125)\"/>\n      </g>\n     </g>\n    </g>\n    <g id=\"xtick_7\">\n     <g id=\"line2d_7\">\n      <g>\n       <use xlink:href=\"#ma63b3b0748\" x=\"403.642715\" y=\"217.681\" style=\"stroke: #000000; stroke-width: 0.8\"/>\n      </g>\n     </g>\n     <g id=\"text_7\">\n      <!-- $\\mathdefault{140}$ -->\n      <g transform=\"translate(395.047715 231.519594)scale(0.09 -0.09)\">\n       <use xlink:href=\"#DejaVuSerif-31\" transform=\"translate(0 0.78125)\"/>\n       <use xlink:href=\"#DejaVuSerif-34\" transform=\"translate(63.623047 0.78125)\"/>\n       <use xlink:href=\"#DejaVuSerif-30\" transform=\"translate(127.246094 0.78125)\"/>\n      </g>\n     </g>\n    </g>\n    <g id=\"text_8\">\n     <!--  phi [deg] (PRM) -->\n     <g transform=\"translate(180.839326 244.98975)scale(0.1 -0.1)\">\n      <defs>\n       <path id=\"DejaVuSerif-20\" transform=\"scale(0.015625)\"/>\n       <path id=\"DejaVuSerif-70\" d=\"M 1313 1825 \nL 1313 1497 \nQ 1313 897 1542 583 \nQ 1772 269 2209 269 \nQ 2650 269 2876 622 \nQ 3103 975 3103 1663 \nQ 3103 2353 2876 2703 \nQ 2650 3053 2209 3053 \nQ 1772 3053 1542 2737 \nQ 1313 2422 1313 1825 \nz\nM 738 2988 \nL 184 2988 \nL 184 3322 \nL 1313 3322 \nL 1313 2803 \nQ 1481 3116 1742 3264 \nQ 2003 3413 2388 3413 \nQ 3000 3413 3387 2928 \nQ 3775 2444 3775 1663 \nQ 3775 881 3387 395 \nQ 3000 -91 2388 -91 \nQ 2003 -91 1742 57 \nQ 1481 206 1313 519 \nL 1313 -997 \nL 1856 -997 \nL 1856 -1331 \nL 184 -1331 \nL 184 -997 \nL 738 -997 \nL 738 2988 \nz\n\" transform=\"scale(0.015625)\"/>\n       <path id=\"DejaVuSerif-68\" d=\"M 263 0 \nL 263 331 \nL 781 331 \nL 781 4531 \nL 231 4531 \nL 231 4863 \nL 1356 4863 \nL 1356 2731 \nQ 1516 3069 1770 3241 \nQ 2025 3413 2363 3413 \nQ 2913 3413 3172 3097 \nQ 3431 2781 3431 2113 \nL 3431 331 \nL 3944 331 \nL 3944 0 \nL 2356 0 \nL 2356 331 \nL 2853 331 \nL 2853 1931 \nQ 2853 2541 2704 2764 \nQ 2556 2988 2175 2988 \nQ 1775 2988 1565 2697 \nQ 1356 2406 1356 1850 \nL 1356 331 \nL 1856 331 \nL 1856 0 \nL 263 0 \nz\n\" transform=\"scale(0.015625)\"/>\n       <path id=\"DejaVuSerif-69\" d=\"M 622 4353 \nQ 622 4497 726 4603 \nQ 831 4709 978 4709 \nQ 1122 4709 1226 4603 \nQ 1331 4497 1331 4353 \nQ 1331 4206 1228 4103 \nQ 1125 4000 978 4000 \nQ 831 4000 726 4103 \nQ 622 4206 622 4353 \nz\nM 1356 331 \nL 1900 331 \nL 1900 0 \nL 231 0 \nL 231 331 \nL 781 331 \nL 781 2988 \nL 231 2988 \nL 231 3322 \nL 1356 3322 \nL 1356 331 \nz\n\" transform=\"scale(0.015625)\"/>\n       <path id=\"DejaVuSerif-5b\" d=\"M 550 4863 \nL 2003 4863 \nL 2003 4531 \nL 1147 4531 \nL 1147 -513 \nL 2003 -513 \nL 2003 -844 \nL 550 -844 \nL 550 4863 \nz\n\" transform=\"scale(0.015625)\"/>\n       <path id=\"DejaVuSerif-64\" d=\"M 3359 331 \nL 3909 331 \nL 3909 0 \nL 2784 0 \nL 2784 519 \nQ 2616 206 2355 57 \nQ 2094 -91 1709 -91 \nQ 1097 -91 708 395 \nQ 319 881 319 1663 \nQ 319 2444 706 2928 \nQ 1094 3413 1709 3413 \nQ 2094 3413 2355 3264 \nQ 2616 3116 2784 2803 \nL 2784 4531 \nL 2241 4531 \nL 2241 4863 \nL 3359 4863 \nL 3359 331 \nz\nM 2784 1497 \nL 2784 1825 \nQ 2784 2422 2554 2737 \nQ 2325 3053 1888 3053 \nQ 1444 3053 1217 2703 \nQ 991 2353 991 1663 \nQ 991 975 1217 622 \nQ 1444 269 1888 269 \nQ 2325 269 2554 583 \nQ 2784 897 2784 1497 \nz\n\" transform=\"scale(0.015625)\"/>\n       <path id=\"DejaVuSerif-65\" d=\"M 3469 1600 \nL 991 1600 \nL 991 1575 \nQ 991 903 1244 561 \nQ 1497 219 1991 219 \nQ 2369 219 2611 417 \nQ 2853 616 2950 1006 \nL 3413 1006 \nQ 3275 459 2904 184 \nQ 2534 -91 1931 -91 \nQ 1203 -91 761 389 \nQ 319 869 319 1663 \nQ 319 2450 753 2931 \nQ 1188 3413 1894 3413 \nQ 2647 3413 3050 2948 \nQ 3453 2484 3469 1600 \nz\nM 2791 1931 \nQ 2772 2513 2545 2808 \nQ 2319 3103 1894 3103 \nQ 1497 3103 1269 2806 \nQ 1041 2509 991 1931 \nL 2791 1931 \nz\n\" transform=\"scale(0.015625)\"/>\n       <path id=\"DejaVuSerif-67\" d=\"M 3359 2988 \nL 3359 72 \nQ 3359 -644 2965 -1033 \nQ 2572 -1422 1844 -1422 \nQ 1516 -1422 1216 -1362 \nQ 916 -1303 641 -1184 \nL 641 -488 \nL 941 -488 \nQ 997 -813 1206 -963 \nQ 1416 -1113 1806 -1113 \nQ 2313 -1113 2548 -827 \nQ 2784 -541 2784 72 \nL 2784 519 \nQ 2616 206 2355 57 \nQ 2094 -91 1709 -91 \nQ 1097 -91 708 395 \nQ 319 881 319 1663 \nQ 319 2444 706 2928 \nQ 1094 3413 1709 3413 \nQ 2094 3413 2355 3264 \nQ 2616 3116 2784 2803 \nL 2784 3322 \nL 3909 3322 \nL 3909 2988 \nL 3359 2988 \nz\nM 2784 1825 \nQ 2784 2422 2554 2737 \nQ 2325 3053 1888 3053 \nQ 1444 3053 1217 2703 \nQ 991 2353 991 1663 \nQ 991 975 1217 622 \nQ 1444 269 1888 269 \nQ 2325 269 2554 583 \nQ 2784 897 2784 1497 \nL 2784 1825 \nz\n\" transform=\"scale(0.015625)\"/>\n       <path id=\"DejaVuSerif-5d\" d=\"M 1947 4863 \nL 1947 -844 \nL 494 -844 \nL 494 -513 \nL 1350 -513 \nL 1350 4531 \nL 494 4531 \nL 494 4863 \nL 1947 4863 \nz\n\" transform=\"scale(0.015625)\"/>\n       <path id=\"DejaVuSerif-28\" d=\"M 2041 -997 \nQ 1281 -656 893 83 \nQ 506 822 506 1931 \nQ 506 3044 893 3783 \nQ 1281 4522 2041 4863 \nL 2041 4556 \nQ 1559 4225 1350 3623 \nQ 1141 3022 1141 1931 \nQ 1141 844 1350 242 \nQ 1559 -359 2041 -691 \nL 2041 -997 \nz\n\" transform=\"scale(0.015625)\"/>\n       <path id=\"DejaVuSerif-50\" d=\"M 1581 2375 \nL 2406 2375 \nQ 2872 2375 3115 2626 \nQ 3359 2878 3359 3353 \nQ 3359 3831 3115 4081 \nQ 2872 4331 2406 4331 \nL 1581 4331 \nL 1581 2375 \nz\nM 353 0 \nL 353 331 \nL 947 331 \nL 947 4331 \nL 353 4331 \nL 353 4666 \nL 2559 4666 \nQ 3259 4666 3668 4311 \nQ 4078 3956 4078 3353 \nQ 4078 2753 3668 2397 \nQ 3259 2041 2559 2041 \nL 1581 2041 \nL 1581 331 \nL 2303 331 \nL 2303 0 \nL 353 0 \nz\n\" transform=\"scale(0.015625)\"/>\n       <path id=\"DejaVuSerif-52\" d=\"M 3066 2316 \nQ 3284 2256 3442 2114 \nQ 3600 1972 3725 1716 \nL 4403 331 \nL 4972 331 \nL 4972 0 \nL 3872 0 \nL 3144 1484 \nQ 2934 1916 2759 2042 \nQ 2584 2169 2278 2169 \nL 1581 2169 \nL 1581 331 \nL 2241 331 \nL 2241 0 \nL 353 0 \nL 353 331 \nL 947 331 \nL 947 4331 \nL 353 4331 \nL 353 4666 \nL 2719 4666 \nQ 3400 4666 3770 4341 \nQ 4141 4016 4141 3419 \nQ 4141 2938 3870 2661 \nQ 3600 2384 3066 2316 \nz\nM 1581 2503 \nL 2503 2503 \nQ 2975 2503 3200 2726 \nQ 3425 2950 3425 3419 \nQ 3425 3888 3200 4109 \nQ 2975 4331 2503 4331 \nL 1581 4331 \nL 1581 2503 \nz\n\" transform=\"scale(0.015625)\"/>\n       <path id=\"DejaVuSerif-4d\" d=\"M 353 0 \nL 353 331 \nL 947 331 \nL 947 4331 \nL 319 4331 \nL 319 4666 \nL 1678 4666 \nL 3316 1344 \nL 4953 4666 \nL 6228 4666 \nL 6228 4331 \nL 5606 4331 \nL 5606 331 \nL 6203 331 \nL 6203 0 \nL 4378 0 \nL 4378 331 \nL 4972 331 \nL 4972 3938 \nL 3372 684 \nL 2931 684 \nL 1331 3938 \nL 1331 331 \nL 1925 331 \nL 1925 0 \nL 353 0 \nz\n\" transform=\"scale(0.015625)\"/>\n       <path id=\"DejaVuSerif-29\" d=\"M 453 -997 \nL 453 -691 \nQ 934 -359 1145 242 \nQ 1356 844 1356 1931 \nQ 1356 3022 1145 3623 \nQ 934 4225 453 4556 \nL 453 4863 \nQ 1216 4522 1603 3783 \nQ 1991 3044 1991 1931 \nQ 1991 822 1603 83 \nQ 1216 -656 453 -997 \nz\n\" transform=\"scale(0.015625)\"/>\n      </defs>\n      <use xlink:href=\"#DejaVuSerif-20\"/>\n      <use xlink:href=\"#DejaVuSerif-70\" x=\"31.787109\"/>\n      <use xlink:href=\"#DejaVuSerif-68\" x=\"95.800781\"/>\n      <use xlink:href=\"#DejaVuSerif-69\" x=\"160.205078\"/>\n      <use xlink:href=\"#DejaVuSerif-20\" x=\"192.1875\"/>\n      <use xlink:href=\"#DejaVuSerif-5b\" x=\"223.974609\"/>\n      <use xlink:href=\"#DejaVuSerif-64\" x=\"262.988281\"/>\n      <use xlink:href=\"#DejaVuSerif-65\" x=\"327.001953\"/>\n      <use xlink:href=\"#DejaVuSerif-67\" x=\"386.181641\"/>\n      <use xlink:href=\"#DejaVuSerif-5d\" x=\"450.195312\"/>\n      <use xlink:href=\"#DejaVuSerif-20\" x=\"489.208984\"/>\n      <use xlink:href=\"#DejaVuSerif-28\" x=\"520.996094\"/>\n      <use xlink:href=\"#DejaVuSerif-50\" x=\"560.009766\"/>\n      <use xlink:href=\"#DejaVuSerif-52\" x=\"627.294922\"/>\n      <use xlink:href=\"#DejaVuSerif-4d\" x=\"702.587891\"/>\n      <use xlink:href=\"#DejaVuSerif-29\" x=\"804.980469\"/>\n     </g>\n    </g>\n   </g>\n   <g id=\"matplotlib.axis_2\">\n    <g id=\"ytick_1\">\n     <g id=\"line2d_8\">\n      <defs>\n       <path id=\"md4e0656e00\" d=\"M 0 0 \nL -3.5 0 \n\" style=\"stroke: #000000; stroke-width: 0.8\"/>\n      </defs>\n      <g>\n       <use xlink:href=\"#md4e0656e00\" x=\"42.435938\" y=\"208.375983\" style=\"stroke: #000000; stroke-width: 0.8\"/>\n      </g>\n     </g>\n     <g id=\"text_9\">\n      <!-- $\\mathdefault{0}$ -->\n      <g transform=\"translate(29.675938 211.79528)scale(0.09 -0.09)\">\n       <use xlink:href=\"#DejaVuSerif-30\" transform=\"translate(0 0.78125)\"/>\n      </g>\n     </g>\n    </g>\n    <g id=\"ytick_2\">\n     <g id=\"line2d_9\">\n      <g>\n       <use xlink:href=\"#md4e0656e00\" x=\"42.435938\" y=\"183.929708\" style=\"stroke: #000000; stroke-width: 0.8\"/>\n      </g>\n     </g>\n     <g id=\"text_10\">\n      <!-- $\\mathdefault{50}$ -->\n      <g transform=\"translate(23.915938 187.349005)scale(0.09 -0.09)\">\n       <defs>\n        <path id=\"DejaVuSerif-35\" d=\"M 3219 4666 \nL 3219 4153 \nL 1081 4153 \nL 1081 2816 \nQ 1244 2928 1461 2984 \nQ 1678 3041 1947 3041 \nQ 2703 3041 3140 2622 \nQ 3578 2203 3578 1478 \nQ 3578 738 3136 323 \nQ 2694 -91 1894 -91 \nQ 1572 -91 1234 -12 \nQ 897 66 544 225 \nL 544 1131 \nL 897 1131 \nQ 925 688 1179 453 \nQ 1434 219 1894 219 \nQ 2388 219 2653 544 \nQ 2919 869 2919 1478 \nQ 2919 2084 2655 2407 \nQ 2391 2731 1894 2731 \nQ 1613 2731 1398 2631 \nQ 1184 2531 1019 2322 \nL 750 2322 \nL 750 4666 \nL 3219 4666 \nz\n\" transform=\"scale(0.015625)\"/>\n       </defs>\n       <use xlink:href=\"#DejaVuSerif-35\" transform=\"translate(0 0.78125)\"/>\n       <use xlink:href=\"#DejaVuSerif-30\" transform=\"translate(63.623047 0.78125)\"/>\n      </g>\n     </g>\n    </g>\n    <g id=\"ytick_3\">\n     <g id=\"line2d_10\">\n      <g>\n       <use xlink:href=\"#md4e0656e00\" x=\"42.435938\" y=\"159.483432\" style=\"stroke: #000000; stroke-width: 0.8\"/>\n      </g>\n     </g>\n     <g id=\"text_11\">\n      <!-- $\\mathdefault{100}$ -->\n      <g transform=\"translate(18.245938 162.902729)scale(0.09 -0.09)\">\n       <use xlink:href=\"#DejaVuSerif-31\" transform=\"translate(0 0.78125)\"/>\n       <use xlink:href=\"#DejaVuSerif-30\" transform=\"translate(63.623047 0.78125)\"/>\n       <use xlink:href=\"#DejaVuSerif-30\" transform=\"translate(127.246094 0.78125)\"/>\n      </g>\n     </g>\n    </g>\n    <g id=\"ytick_4\">\n     <g id=\"line2d_11\">\n      <g>\n       <use xlink:href=\"#md4e0656e00\" x=\"42.435938\" y=\"135.037157\" style=\"stroke: #000000; stroke-width: 0.8\"/>\n      </g>\n     </g>\n     <g id=\"text_12\">\n      <!-- $\\mathdefault{150}$ -->\n      <g transform=\"translate(18.245938 138.456454)scale(0.09 -0.09)\">\n       <use xlink:href=\"#DejaVuSerif-31\" transform=\"translate(0 0.78125)\"/>\n       <use xlink:href=\"#DejaVuSerif-35\" transform=\"translate(63.623047 0.78125)\"/>\n       <use xlink:href=\"#DejaVuSerif-30\" transform=\"translate(127.246094 0.78125)\"/>\n      </g>\n     </g>\n    </g>\n    <g id=\"ytick_5\">\n     <g id=\"line2d_12\">\n      <g>\n       <use xlink:href=\"#md4e0656e00\" x=\"42.435938\" y=\"110.590881\" style=\"stroke: #000000; stroke-width: 0.8\"/>\n      </g>\n     </g>\n     <g id=\"text_13\">\n      <!-- $\\mathdefault{200}$ -->\n      <g transform=\"translate(18.245938 114.010178)scale(0.09 -0.09)\">\n       <use xlink:href=\"#DejaVuSerif-32\" transform=\"translate(0 0.78125)\"/>\n       <use xlink:href=\"#DejaVuSerif-30\" transform=\"translate(63.623047 0.78125)\"/>\n       <use xlink:href=\"#DejaVuSerif-30\" transform=\"translate(127.246094 0.78125)\"/>\n      </g>\n     </g>\n    </g>\n    <g id=\"ytick_6\">\n     <g id=\"line2d_13\">\n      <g>\n       <use xlink:href=\"#md4e0656e00\" x=\"42.435938\" y=\"86.144606\" style=\"stroke: #000000; stroke-width: 0.8\"/>\n      </g>\n     </g>\n     <g id=\"text_14\">\n      <!-- $\\mathdefault{250}$ -->\n      <g transform=\"translate(18.245938 89.563903)scale(0.09 -0.09)\">\n       <use xlink:href=\"#DejaVuSerif-32\" transform=\"translate(0 0.78125)\"/>\n       <use xlink:href=\"#DejaVuSerif-35\" transform=\"translate(63.623047 0.78125)\"/>\n       <use xlink:href=\"#DejaVuSerif-30\" transform=\"translate(127.246094 0.78125)\"/>\n      </g>\n     </g>\n    </g>\n    <g id=\"ytick_7\">\n     <g id=\"line2d_14\">\n      <g>\n       <use xlink:href=\"#md4e0656e00\" x=\"42.435938\" y=\"61.69833\" style=\"stroke: #000000; stroke-width: 0.8\"/>\n      </g>\n     </g>\n     <g id=\"text_15\">\n      <!-- $\\mathdefault{300}$ -->\n      <g transform=\"translate(18.245938 65.117627)scale(0.09 -0.09)\">\n       <defs>\n        <path id=\"DejaVuSerif-33\" d=\"M 622 4469 \nQ 988 4606 1323 4678 \nQ 1659 4750 1953 4750 \nQ 2638 4750 3022 4454 \nQ 3406 4159 3406 3634 \nQ 3406 3213 3140 2930 \nQ 2875 2647 2388 2547 \nQ 2963 2466 3280 2130 \nQ 3597 1794 3597 1259 \nQ 3597 606 3158 257 \nQ 2719 -91 1894 -91 \nQ 1528 -91 1179 -12 \nQ 831 66 488 225 \nL 488 1131 \nL 838 1131 \nQ 869 681 1141 450 \nQ 1413 219 1906 219 \nQ 2384 219 2661 495 \nQ 2938 772 2938 1253 \nQ 2938 1803 2653 2086 \nQ 2369 2369 1819 2369 \nL 1522 2369 \nL 1522 2688 \nL 1678 2688 \nQ 2225 2688 2498 2914 \nQ 2772 3141 2772 3597 \nQ 2772 4006 2547 4223 \nQ 2322 4441 1900 4441 \nQ 1478 4441 1245 4241 \nQ 1013 4041 972 3647 \nL 622 3647 \nL 622 4469 \nz\n\" transform=\"scale(0.015625)\"/>\n       </defs>\n       <use xlink:href=\"#DejaVuSerif-33\" transform=\"translate(0 0.78125)\"/>\n       <use xlink:href=\"#DejaVuSerif-30\" transform=\"translate(63.623047 0.78125)\"/>\n       <use xlink:href=\"#DejaVuSerif-30\" transform=\"translate(127.246094 0.78125)\"/>\n      </g>\n     </g>\n    </g>\n    <g id=\"ytick_8\">\n     <g id=\"line2d_15\">\n      <g>\n       <use xlink:href=\"#md4e0656e00\" x=\"42.435938\" y=\"37.252055\" style=\"stroke: #000000; stroke-width: 0.8\"/>\n      </g>\n     </g>\n     <g id=\"text_16\">\n      <!-- $\\mathdefault{350}$ -->\n      <g transform=\"translate(18.245938 40.671352)scale(0.09 -0.09)\">\n       <use xlink:href=\"#DejaVuSerif-33\" transform=\"translate(0 0.78125)\"/>\n       <use xlink:href=\"#DejaVuSerif-35\" transform=\"translate(63.623047 0.78125)\"/>\n       <use xlink:href=\"#DejaVuSerif-30\" transform=\"translate(127.246094 0.78125)\"/>\n      </g>\n     </g>\n    </g>\n    <g id=\"ytick_9\">\n     <g id=\"line2d_16\">\n      <g>\n       <use xlink:href=\"#md4e0656e00\" x=\"42.435938\" y=\"12.805779\" style=\"stroke: #000000; stroke-width: 0.8\"/>\n      </g>\n     </g>\n     <g id=\"text_17\">\n      <!-- $\\mathdefault{400}$ -->\n      <g transform=\"translate(18.245938 16.225076)scale(0.09 -0.09)\">\n       <use xlink:href=\"#DejaVuSerif-34\" transform=\"translate(0 0.78125)\"/>\n       <use xlink:href=\"#DejaVuSerif-30\" transform=\"translate(63.623047 0.78125)\"/>\n       <use xlink:href=\"#DejaVuSerif-30\" transform=\"translate(127.246094 0.78125)\"/>\n      </g>\n     </g>\n    </g>\n    <g id=\"text_18\">\n     <!-- [au] -->\n     <g transform=\"translate(11.958281 121.753937)rotate(-90)scale(0.11 -0.11)\">\n      <defs>\n       <path id=\"DejaVuSerif-61\" d=\"M 2547 1044 \nL 2547 1747 \nL 1806 1747 \nQ 1378 1747 1168 1562 \nQ 959 1378 959 997 \nQ 959 650 1171 447 \nQ 1384 244 1747 244 \nQ 2106 244 2326 466 \nQ 2547 688 2547 1044 \nz\nM 3122 2075 \nL 3122 331 \nL 3634 331 \nL 3634 0 \nL 2547 0 \nL 2547 359 \nQ 2356 128 2106 18 \nQ 1856 -91 1522 -91 \nQ 969 -91 644 203 \nQ 319 497 319 997 \nQ 319 1513 691 1797 \nQ 1063 2081 1741 2081 \nL 2547 2081 \nL 2547 2309 \nQ 2547 2688 2317 2895 \nQ 2088 3103 1672 3103 \nQ 1328 3103 1125 2947 \nQ 922 2791 872 2484 \nL 575 2484 \nL 575 3156 \nQ 875 3284 1158 3348 \nQ 1441 3413 1709 3413 \nQ 2400 3413 2761 3070 \nQ 3122 2728 3122 2075 \nz\n\" transform=\"scale(0.015625)\"/>\n       <path id=\"DejaVuSerif-75\" d=\"M 2266 3322 \nL 3341 3322 \nL 3341 331 \nL 3884 331 \nL 3884 0 \nL 2766 0 \nL 2766 588 \nQ 2606 256 2353 82 \nQ 2100 -91 1766 -91 \nQ 1213 -91 952 223 \nQ 691 538 691 1209 \nL 691 2988 \nL 172 2988 \nL 172 3322 \nL 1269 3322 \nL 1269 1388 \nQ 1269 781 1417 556 \nQ 1566 331 1947 331 \nQ 2347 331 2556 625 \nQ 2766 919 2766 1478 \nL 2766 2988 \nL 2266 2988 \nL 2266 3322 \nz\n\" transform=\"scale(0.015625)\"/>\n      </defs>\n      <use xlink:href=\"#DejaVuSerif-5b\"/>\n      <use xlink:href=\"#DejaVuSerif-61\" x=\"39.013672\"/>\n      <use xlink:href=\"#DejaVuSerif-75\" x=\"98.632812\"/>\n      <use xlink:href=\"#DejaVuSerif-5d\" x=\"163.037109\"/>\n     </g>\n    </g>\n   </g>\n   <g id=\"line2d_17\">\n    <path d=\"M 42.435938 207.950045 \nL 111.110376 207.772378 \nL 148.224372 207.459753 \nL 170.48374 207.064096 \nL 185.518972 206.587013 \nL 196.400326 206.029854 \nL 204.662931 205.392954 \nL 211.164653 204.676085 \nL 216.402152 203.88247 \nL 220.736633 203.008126 \nL 224.393852 202.050368 \nL 227.554411 200.996633 \nL 230.308613 199.845972 \nL 232.746758 198.586508 \nL 234.913999 197.218101 \nL 236.855485 195.735412 \nL 238.661519 194.077971 \nL 240.332101 192.242605 \nL 241.91238 190.16954 \nL 243.402358 187.838365 \nL 244.802035 185.231987 \nL 246.15656 182.230228 \nL 247.465934 178.769685 \nL 248.730158 174.778658 \nL 249.949231 170.177573 \nL 251.123153 164.880501 \nL 252.297075 158.531942 \nL 253.470997 150.887482 \nL 254.599768 142.044548 \nL 255.72854 131.445118 \nL 256.902462 118.249103 \nL 258.121534 101.957066 \nL 259.521211 80.105645 \nL 262.862373 26.149062 \nL 263.584787 18.594748 \nL 264.126597 14.986756 \nL 264.532955 13.597934 \nL 264.80386 13.330955 \nL 264.984463 13.449427 \nL 265.210217 13.929705 \nL 265.526273 15.211323 \nL 265.932631 17.859274 \nL 266.474441 22.983466 \nL 267.196855 32.15662 \nL 268.280475 49.217394 \nL 271.666789 104.530954 \nL 272.976163 121.495694 \nL 274.240387 135.036229 \nL 275.45946 145.76591 \nL 276.678533 154.584489 \nL 277.897605 161.842353 \nL 279.161829 168.041917 \nL 280.426053 173.160715 \nL 281.735427 177.554947 \nL 283.089953 181.327639 \nL 284.489629 184.569907 \nL 285.934456 187.360852 \nL 287.424434 189.768292 \nL 289.004714 191.905873 \nL 290.675295 193.795494 \nL 292.481329 195.499396 \nL 294.422816 197.021421 \nL 296.544905 198.397578 \nL 298.892749 199.648362 \nL 301.511499 200.784619 \nL 304.446304 201.811824 \nL 307.832617 202.755571 \nL 311.760741 203.612877 \nL 316.411278 204.392262 \nL 321.964832 205.09055 \nL 328.78261 205.715759 \nL 337.361271 206.268943 \nL 348.423229 206.748321 \nL 363.232707 207.155199 \nL 384.047247 207.489724 \nL 403.642715 207.674315 \nL 403.642715 207.674315 \n\" clip-path=\"url(#p1f02cf75db)\" style=\"fill: none; stroke: #0000ff; stroke-width: 1.2; stroke-linecap: square\"/>\n   </g>\n   <g id=\"patch_3\">\n    <path d=\"M 42.435938 217.681 \nL 42.435938 3.6 \n\" style=\"fill: none; stroke: #000000; stroke-width: 0.8; stroke-linejoin: miter; stroke-linecap: square\"/>\n   </g>\n   <g id=\"patch_4\">\n    <path d=\"M 403.642715 217.681 \nL 403.642715 3.6 \n\" style=\"fill: none; stroke: #000000; stroke-width: 0.8; stroke-linejoin: miter; stroke-linecap: square\"/>\n   </g>\n   <g id=\"patch_5\">\n    <path d=\"M 42.435938 217.681 \nL 403.642715 217.681 \n\" style=\"fill: none; stroke: #000000; stroke-width: 0.8; stroke-linejoin: miter; stroke-linecap: square\"/>\n   </g>\n   <g id=\"patch_6\">\n    <path d=\"M 42.435938 3.6 \nL 403.642715 3.6 \n\" style=\"fill: none; stroke: #000000; stroke-width: 0.8; stroke-linejoin: miter; stroke-linecap: square\"/>\n   </g>\n   <g id=\"legend_1\">\n    <g id=\"patch_7\">\n     <path d=\"M 320.23959 26.55625 \nL 396.642715 26.55625 \nQ 398.642715 26.55625 398.642715 24.55625 \nL 398.642715 10.6 \nQ 398.642715 8.6 396.642715 8.6 \nL 320.23959 8.6 \nQ 318.23959 8.6 318.23959 10.6 \nL 318.23959 24.55625 \nQ 318.23959 26.55625 320.23959 26.55625 \nz\n\" style=\"fill: #ffffff; opacity: 0.8; stroke: #cccccc; stroke-linejoin: miter\"/>\n    </g>\n    <g id=\"line2d_18\">\n     <path d=\"M 322.23959 16.698437 \nL 332.23959 16.698437 \nL 342.23959 16.698437 \n\" style=\"fill: none; stroke: #0000ff; stroke-width: 1.2; stroke-linecap: square\"/>\n    </g>\n    <g id=\"text_19\">\n     <!-- circ_arm -->\n     <g transform=\"translate(350.23959 20.198437)scale(0.1 -0.1)\">\n      <defs>\n       <path id=\"DejaVuSerif-63\" d=\"M 3291 997 \nQ 3169 466 2822 187 \nQ 2475 -91 1925 -91 \nQ 1200 -91 759 389 \nQ 319 869 319 1663 \nQ 319 2459 759 2936 \nQ 1200 3413 1925 3413 \nQ 2241 3413 2553 3339 \nQ 2866 3266 3181 3116 \nL 3181 2266 \nL 2847 2266 \nQ 2781 2703 2561 2903 \nQ 2341 3103 1931 3103 \nQ 1466 3103 1228 2742 \nQ 991 2381 991 1663 \nQ 991 944 1227 581 \nQ 1463 219 1931 219 \nQ 2303 219 2525 412 \nQ 2747 606 2828 997 \nL 3291 997 \nz\n\" transform=\"scale(0.015625)\"/>\n       <path id=\"DejaVuSerif-72\" d=\"M 3059 3328 \nL 3059 2497 \nL 2728 2497 \nQ 2713 2744 2591 2866 \nQ 2469 2988 2234 2988 \nQ 1809 2988 1582 2694 \nQ 1356 2400 1356 1850 \nL 1356 331 \nL 2022 331 \nL 2022 0 \nL 263 0 \nL 263 331 \nL 781 331 \nL 781 2994 \nL 231 2994 \nL 231 3322 \nL 1356 3322 \nL 1356 2731 \nQ 1525 3078 1790 3245 \nQ 2056 3413 2438 3413 \nQ 2578 3413 2733 3391 \nQ 2888 3369 3059 3328 \nz\n\" transform=\"scale(0.015625)\"/>\n       <path id=\"DejaVuSerif-5f\" d=\"M 3200 -1259 \nL 3200 -1509 \nL 0 -1509 \nL 0 -1259 \nL 3200 -1259 \nz\n\" transform=\"scale(0.015625)\"/>\n       <path id=\"DejaVuSerif-6d\" d=\"M 3316 2675 \nQ 3481 3041 3739 3227 \nQ 3997 3413 4341 3413 \nQ 4863 3413 5119 3089 \nQ 5375 2766 5375 2113 \nL 5375 331 \nL 5894 331 \nL 5894 0 \nL 4300 0 \nL 4300 331 \nL 4800 331 \nL 4800 2047 \nQ 4800 2556 4650 2772 \nQ 4500 2988 4153 2988 \nQ 3769 2988 3567 2697 \nQ 3366 2406 3366 1850 \nL 3366 331 \nL 3866 331 \nL 3866 0 \nL 2291 0 \nL 2291 331 \nL 2791 331 \nL 2791 2069 \nQ 2791 2566 2641 2777 \nQ 2491 2988 2144 2988 \nQ 1759 2988 1557 2697 \nQ 1356 2406 1356 1850 \nL 1356 331 \nL 1856 331 \nL 1856 0 \nL 263 0 \nL 263 331 \nL 781 331 \nL 781 2994 \nL 231 2994 \nL 231 3322 \nL 1356 3322 \nL 1356 2731 \nQ 1516 3063 1762 3238 \nQ 2009 3413 2322 3413 \nQ 2709 3413 2968 3220 \nQ 3228 3028 3316 2675 \nz\n\" transform=\"scale(0.015625)\"/>\n      </defs>\n      <use xlink:href=\"#DejaVuSerif-63\"/>\n      <use xlink:href=\"#DejaVuSerif-69\" x=\"56.005859\"/>\n      <use xlink:href=\"#DejaVuSerif-72\" x=\"87.988281\"/>\n      <use xlink:href=\"#DejaVuSerif-63\" x=\"135.791016\"/>\n      <use xlink:href=\"#DejaVuSerif-5f\" x=\"191.796875\"/>\n      <use xlink:href=\"#DejaVuSerif-61\" x=\"241.796875\"/>\n      <use xlink:href=\"#DejaVuSerif-72\" x=\"301.416016\"/>\n      <use xlink:href=\"#DejaVuSerif-6d\" x=\"349.21875\"/>\n     </g>\n    </g>\n   </g>\n  </g>\n </g>\n <defs>\n  <clipPath id=\"p1f02cf75db\">\n   <rect x=\"42.435938\" y=\"3.6\" width=\"361.206777\" height=\"214.081\"/>\n  </clipPath>\n </defs>\n</svg>\n",
      "text/plain": [
       "<Figure size 1200x741.6 with 1 Axes>"
      ]
     },
     "metadata": {},
     "output_type": "display_data"
    },
    {
     "data": {
      "image/svg+xml": "<?xml version=\"1.0\" encoding=\"utf-8\" standalone=\"no\"?>\n<!DOCTYPE svg PUBLIC \"-//W3C//DTD SVG 1.1//EN\"\n  \"http://www.w3.org/Graphics/SVG/1.1/DTD/svg11.dtd\">\n<svg xmlns:xlink=\"http://www.w3.org/1999/xlink\" width=\"415.777949pt\" height=\"250.811625pt\" viewBox=\"0 0 415.777949 250.811625\" xmlns=\"http://www.w3.org/2000/svg\" version=\"1.1\">\n <metadata>\n  <rdf:RDF xmlns:dc=\"http://purl.org/dc/elements/1.1/\" xmlns:cc=\"http://creativecommons.org/ns#\" xmlns:rdf=\"http://www.w3.org/1999/02/22-rdf-syntax-ns#\">\n   <cc:Work>\n    <dc:type rdf:resource=\"http://purl.org/dc/dcmitype/StillImage\"/>\n    <dc:date>2022-12-07T19:47:55.847100</dc:date>\n    <dc:format>image/svg+xml</dc:format>\n    <dc:creator>\n     <cc:Agent>\n      <dc:title>Matplotlib v3.5.3, https://matplotlib.org/</dc:title>\n     </cc:Agent>\n    </dc:creator>\n   </cc:Work>\n  </rdf:RDF>\n </metadata>\n <defs>\n  <style type=\"text/css\">*{stroke-linejoin: round; stroke-linecap: butt}</style>\n </defs>\n <g id=\"figure_1\">\n  <g id=\"patch_1\">\n   <path d=\"M 0 250.811625 \nL 415.777949 250.811625 \nL 415.777949 0 \nL 0 0 \nz\n\" style=\"fill: #ffffff\"/>\n  </g>\n  <g id=\"axes_1\">\n   <g id=\"patch_2\">\n    <path d=\"M 39.645938 217.681 \nL 403.582949 217.681 \nL 403.582949 3.6 \nL 39.645938 3.6 \nz\n\" style=\"fill: #ffffff\"/>\n   </g>\n   <g id=\"matplotlib.axis_1\">\n    <g id=\"xtick_1\">\n     <g id=\"line2d_1\">\n      <defs>\n       <path id=\"m2ce4a3cab3\" d=\"M 0 0 \nL 0 3.5 \n\" style=\"stroke: #000000; stroke-width: 0.8\"/>\n      </defs>\n      <g>\n       <use xlink:href=\"#m2ce4a3cab3\" x=\"67.641092\" y=\"217.681\" style=\"stroke: #000000; stroke-width: 0.8\"/>\n      </g>\n     </g>\n     <g id=\"text_1\">\n      <!-- $\\mathdefault{20}$ -->\n      <g transform=\"translate(61.881092 231.519594)scale(0.09 -0.09)\">\n       <defs>\n        <path id=\"DejaVuSerif-32\" d=\"M 819 3553 \nL 469 3553 \nL 469 4384 \nQ 803 4563 1142 4656 \nQ 1481 4750 1806 4750 \nQ 2534 4750 2956 4397 \nQ 3378 4044 3378 3438 \nQ 3378 2753 2422 1800 \nQ 2347 1728 2309 1691 \nL 1131 513 \nL 3078 513 \nL 3078 1088 \nL 3444 1088 \nL 3444 0 \nL 434 0 \nL 434 341 \nL 1850 1753 \nQ 2319 2222 2519 2614 \nQ 2719 3006 2719 3438 \nQ 2719 3909 2473 4175 \nQ 2228 4441 1797 4441 \nQ 1350 4441 1106 4219 \nQ 863 3997 819 3553 \nz\n\" transform=\"scale(0.015625)\"/>\n        <path id=\"DejaVuSerif-30\" d=\"M 2034 219 \nQ 2513 219 2750 744 \nQ 2988 1269 2988 2328 \nQ 2988 3391 2750 3916 \nQ 2513 4441 2034 4441 \nQ 1556 4441 1318 3916 \nQ 1081 3391 1081 2328 \nQ 1081 1269 1318 744 \nQ 1556 219 2034 219 \nz\nM 2034 -91 \nQ 1275 -91 848 546 \nQ 422 1184 422 2328 \nQ 422 3475 848 4112 \nQ 1275 4750 2034 4750 \nQ 2797 4750 3222 4112 \nQ 3647 3475 3647 2328 \nQ 3647 1184 3222 546 \nQ 2797 -91 2034 -91 \nz\n\" transform=\"scale(0.015625)\"/>\n       </defs>\n       <use xlink:href=\"#DejaVuSerif-32\" transform=\"translate(0 0.78125)\"/>\n       <use xlink:href=\"#DejaVuSerif-30\" transform=\"translate(63.623047 0.78125)\"/>\n      </g>\n     </g>\n    </g>\n    <g id=\"xtick_2\">\n     <g id=\"line2d_2\">\n      <g>\n       <use xlink:href=\"#m2ce4a3cab3\" x=\"123.631402\" y=\"217.681\" style=\"stroke: #000000; stroke-width: 0.8\"/>\n      </g>\n     </g>\n     <g id=\"text_2\">\n      <!-- $\\mathdefault{40}$ -->\n      <g transform=\"translate(117.871402 231.519594)scale(0.09 -0.09)\">\n       <defs>\n        <path id=\"DejaVuSerif-34\" d=\"M 2234 1581 \nL 2234 4063 \nL 641 1581 \nL 2234 1581 \nz\nM 3609 0 \nL 1484 0 \nL 1484 331 \nL 2234 331 \nL 2234 1247 \nL 197 1247 \nL 197 1588 \nL 2241 4750 \nL 2859 4750 \nL 2859 1581 \nL 3750 1581 \nL 3750 1247 \nL 2859 1247 \nL 2859 331 \nL 3609 331 \nL 3609 0 \nz\n\" transform=\"scale(0.015625)\"/>\n       </defs>\n       <use xlink:href=\"#DejaVuSerif-34\" transform=\"translate(0 0.78125)\"/>\n       <use xlink:href=\"#DejaVuSerif-30\" transform=\"translate(63.623047 0.78125)\"/>\n      </g>\n     </g>\n    </g>\n    <g id=\"xtick_3\">\n     <g id=\"line2d_3\">\n      <g>\n       <use xlink:href=\"#m2ce4a3cab3\" x=\"179.621711\" y=\"217.681\" style=\"stroke: #000000; stroke-width: 0.8\"/>\n      </g>\n     </g>\n     <g id=\"text_3\">\n      <!-- $\\mathdefault{60}$ -->\n      <g transform=\"translate(173.861711 231.519594)scale(0.09 -0.09)\">\n       <defs>\n        <path id=\"DejaVuSerif-36\" d=\"M 2094 219 \nQ 2534 219 2771 542 \nQ 3009 866 3009 1472 \nQ 3009 2078 2771 2401 \nQ 2534 2725 2094 2725 \nQ 1647 2725 1412 2412 \nQ 1178 2100 1178 1509 \nQ 1178 888 1415 553 \nQ 1653 219 2094 219 \nz\nM 1075 2569 \nQ 1288 2803 1556 2918 \nQ 1825 3034 2163 3034 \nQ 2859 3034 3264 2615 \nQ 3669 2197 3669 1472 \nQ 3669 763 3233 336 \nQ 2797 -91 2069 -91 \nQ 1278 -91 853 498 \nQ 428 1088 428 2181 \nQ 428 3406 931 4078 \nQ 1434 4750 2350 4750 \nQ 2597 4750 2869 4703 \nQ 3141 4656 3425 4563 \nL 3425 3794 \nL 3072 3794 \nQ 3034 4109 2831 4275 \nQ 2628 4441 2284 4441 \nQ 1678 4441 1381 3981 \nQ 1084 3522 1075 2569 \nz\n\" transform=\"scale(0.015625)\"/>\n       </defs>\n       <use xlink:href=\"#DejaVuSerif-36\" transform=\"translate(0 0.78125)\"/>\n       <use xlink:href=\"#DejaVuSerif-30\" transform=\"translate(63.623047 0.78125)\"/>\n      </g>\n     </g>\n    </g>\n    <g id=\"xtick_4\">\n     <g id=\"line2d_4\">\n      <g>\n       <use xlink:href=\"#m2ce4a3cab3\" x=\"235.612021\" y=\"217.681\" style=\"stroke: #000000; stroke-width: 0.8\"/>\n      </g>\n     </g>\n     <g id=\"text_4\">\n      <!-- $\\mathdefault{80}$ -->\n      <g transform=\"translate(229.852021 231.519594)scale(0.09 -0.09)\">\n       <defs>\n        <path id=\"DejaVuSerif-38\" d=\"M 2981 1275 \nQ 2981 1775 2732 2051 \nQ 2484 2328 2034 2328 \nQ 1584 2328 1336 2051 \nQ 1088 1775 1088 1275 \nQ 1088 772 1336 495 \nQ 1584 219 2034 219 \nQ 2484 219 2732 495 \nQ 2981 772 2981 1275 \nz\nM 2853 3541 \nQ 2853 3966 2637 4203 \nQ 2422 4441 2034 4441 \nQ 1650 4441 1433 4203 \nQ 1216 3966 1216 3541 \nQ 1216 3113 1433 2875 \nQ 1650 2638 2034 2638 \nQ 2422 2638 2637 2875 \nQ 2853 3113 2853 3541 \nz\nM 2516 2484 \nQ 3047 2413 3344 2092 \nQ 3641 1772 3641 1275 \nQ 3641 619 3225 264 \nQ 2809 -91 2034 -91 \nQ 1263 -91 845 264 \nQ 428 619 428 1275 \nQ 428 1772 725 2092 \nQ 1022 2413 1556 2484 \nQ 1084 2569 832 2842 \nQ 581 3116 581 3541 \nQ 581 4103 968 4426 \nQ 1356 4750 2034 4750 \nQ 2713 4750 3100 4426 \nQ 3488 4103 3488 3541 \nQ 3488 3116 3236 2842 \nQ 2984 2569 2516 2484 \nz\n\" transform=\"scale(0.015625)\"/>\n       </defs>\n       <use xlink:href=\"#DejaVuSerif-38\" transform=\"translate(0 0.78125)\"/>\n       <use xlink:href=\"#DejaVuSerif-30\" transform=\"translate(63.623047 0.78125)\"/>\n      </g>\n     </g>\n    </g>\n    <g id=\"xtick_5\">\n     <g id=\"line2d_5\">\n      <g>\n       <use xlink:href=\"#m2ce4a3cab3\" x=\"291.60233\" y=\"217.681\" style=\"stroke: #000000; stroke-width: 0.8\"/>\n      </g>\n     </g>\n     <g id=\"text_5\">\n      <!-- $\\mathdefault{100}$ -->\n      <g transform=\"translate(283.00733 231.519594)scale(0.09 -0.09)\">\n       <defs>\n        <path id=\"DejaVuSerif-31\" d=\"M 909 0 \nL 909 331 \nL 1722 331 \nL 1722 4213 \nL 781 3603 \nL 781 4013 \nL 1919 4750 \nL 2350 4750 \nL 2350 331 \nL 3163 331 \nL 3163 0 \nL 909 0 \nz\n\" transform=\"scale(0.015625)\"/>\n       </defs>\n       <use xlink:href=\"#DejaVuSerif-31\" transform=\"translate(0 0.78125)\"/>\n       <use xlink:href=\"#DejaVuSerif-30\" transform=\"translate(63.623047 0.78125)\"/>\n       <use xlink:href=\"#DejaVuSerif-30\" transform=\"translate(127.246094 0.78125)\"/>\n      </g>\n     </g>\n    </g>\n    <g id=\"xtick_6\">\n     <g id=\"line2d_6\">\n      <g>\n       <use xlink:href=\"#m2ce4a3cab3\" x=\"347.59264\" y=\"217.681\" style=\"stroke: #000000; stroke-width: 0.8\"/>\n      </g>\n     </g>\n     <g id=\"text_6\">\n      <!-- $\\mathdefault{120}$ -->\n      <g transform=\"translate(338.99764 231.519594)scale(0.09 -0.09)\">\n       <use xlink:href=\"#DejaVuSerif-31\" transform=\"translate(0 0.78125)\"/>\n       <use xlink:href=\"#DejaVuSerif-32\" transform=\"translate(63.623047 0.78125)\"/>\n       <use xlink:href=\"#DejaVuSerif-30\" transform=\"translate(127.246094 0.78125)\"/>\n      </g>\n     </g>\n    </g>\n    <g id=\"xtick_7\">\n     <g id=\"line2d_7\">\n      <g>\n       <use xlink:href=\"#m2ce4a3cab3\" x=\"403.582949\" y=\"217.681\" style=\"stroke: #000000; stroke-width: 0.8\"/>\n      </g>\n     </g>\n     <g id=\"text_7\">\n      <!-- $\\mathdefault{140}$ -->\n      <g transform=\"translate(394.987949 231.519594)scale(0.09 -0.09)\">\n       <use xlink:href=\"#DejaVuSerif-31\" transform=\"translate(0 0.78125)\"/>\n       <use xlink:href=\"#DejaVuSerif-34\" transform=\"translate(63.623047 0.78125)\"/>\n       <use xlink:href=\"#DejaVuSerif-30\" transform=\"translate(127.246094 0.78125)\"/>\n      </g>\n     </g>\n    </g>\n    <g id=\"text_8\">\n     <!--  phi [deg] (PRM) -->\n     <g transform=\"translate(179.414443 244.98975)scale(0.1 -0.1)\">\n      <defs>\n       <path id=\"DejaVuSerif-20\" transform=\"scale(0.015625)\"/>\n       <path id=\"DejaVuSerif-70\" d=\"M 1313 1825 \nL 1313 1497 \nQ 1313 897 1542 583 \nQ 1772 269 2209 269 \nQ 2650 269 2876 622 \nQ 3103 975 3103 1663 \nQ 3103 2353 2876 2703 \nQ 2650 3053 2209 3053 \nQ 1772 3053 1542 2737 \nQ 1313 2422 1313 1825 \nz\nM 738 2988 \nL 184 2988 \nL 184 3322 \nL 1313 3322 \nL 1313 2803 \nQ 1481 3116 1742 3264 \nQ 2003 3413 2388 3413 \nQ 3000 3413 3387 2928 \nQ 3775 2444 3775 1663 \nQ 3775 881 3387 395 \nQ 3000 -91 2388 -91 \nQ 2003 -91 1742 57 \nQ 1481 206 1313 519 \nL 1313 -997 \nL 1856 -997 \nL 1856 -1331 \nL 184 -1331 \nL 184 -997 \nL 738 -997 \nL 738 2988 \nz\n\" transform=\"scale(0.015625)\"/>\n       <path id=\"DejaVuSerif-68\" d=\"M 263 0 \nL 263 331 \nL 781 331 \nL 781 4531 \nL 231 4531 \nL 231 4863 \nL 1356 4863 \nL 1356 2731 \nQ 1516 3069 1770 3241 \nQ 2025 3413 2363 3413 \nQ 2913 3413 3172 3097 \nQ 3431 2781 3431 2113 \nL 3431 331 \nL 3944 331 \nL 3944 0 \nL 2356 0 \nL 2356 331 \nL 2853 331 \nL 2853 1931 \nQ 2853 2541 2704 2764 \nQ 2556 2988 2175 2988 \nQ 1775 2988 1565 2697 \nQ 1356 2406 1356 1850 \nL 1356 331 \nL 1856 331 \nL 1856 0 \nL 263 0 \nz\n\" transform=\"scale(0.015625)\"/>\n       <path id=\"DejaVuSerif-69\" d=\"M 622 4353 \nQ 622 4497 726 4603 \nQ 831 4709 978 4709 \nQ 1122 4709 1226 4603 \nQ 1331 4497 1331 4353 \nQ 1331 4206 1228 4103 \nQ 1125 4000 978 4000 \nQ 831 4000 726 4103 \nQ 622 4206 622 4353 \nz\nM 1356 331 \nL 1900 331 \nL 1900 0 \nL 231 0 \nL 231 331 \nL 781 331 \nL 781 2988 \nL 231 2988 \nL 231 3322 \nL 1356 3322 \nL 1356 331 \nz\n\" transform=\"scale(0.015625)\"/>\n       <path id=\"DejaVuSerif-5b\" d=\"M 550 4863 \nL 2003 4863 \nL 2003 4531 \nL 1147 4531 \nL 1147 -513 \nL 2003 -513 \nL 2003 -844 \nL 550 -844 \nL 550 4863 \nz\n\" transform=\"scale(0.015625)\"/>\n       <path id=\"DejaVuSerif-64\" d=\"M 3359 331 \nL 3909 331 \nL 3909 0 \nL 2784 0 \nL 2784 519 \nQ 2616 206 2355 57 \nQ 2094 -91 1709 -91 \nQ 1097 -91 708 395 \nQ 319 881 319 1663 \nQ 319 2444 706 2928 \nQ 1094 3413 1709 3413 \nQ 2094 3413 2355 3264 \nQ 2616 3116 2784 2803 \nL 2784 4531 \nL 2241 4531 \nL 2241 4863 \nL 3359 4863 \nL 3359 331 \nz\nM 2784 1497 \nL 2784 1825 \nQ 2784 2422 2554 2737 \nQ 2325 3053 1888 3053 \nQ 1444 3053 1217 2703 \nQ 991 2353 991 1663 \nQ 991 975 1217 622 \nQ 1444 269 1888 269 \nQ 2325 269 2554 583 \nQ 2784 897 2784 1497 \nz\n\" transform=\"scale(0.015625)\"/>\n       <path id=\"DejaVuSerif-65\" d=\"M 3469 1600 \nL 991 1600 \nL 991 1575 \nQ 991 903 1244 561 \nQ 1497 219 1991 219 \nQ 2369 219 2611 417 \nQ 2853 616 2950 1006 \nL 3413 1006 \nQ 3275 459 2904 184 \nQ 2534 -91 1931 -91 \nQ 1203 -91 761 389 \nQ 319 869 319 1663 \nQ 319 2450 753 2931 \nQ 1188 3413 1894 3413 \nQ 2647 3413 3050 2948 \nQ 3453 2484 3469 1600 \nz\nM 2791 1931 \nQ 2772 2513 2545 2808 \nQ 2319 3103 1894 3103 \nQ 1497 3103 1269 2806 \nQ 1041 2509 991 1931 \nL 2791 1931 \nz\n\" transform=\"scale(0.015625)\"/>\n       <path id=\"DejaVuSerif-67\" d=\"M 3359 2988 \nL 3359 72 \nQ 3359 -644 2965 -1033 \nQ 2572 -1422 1844 -1422 \nQ 1516 -1422 1216 -1362 \nQ 916 -1303 641 -1184 \nL 641 -488 \nL 941 -488 \nQ 997 -813 1206 -963 \nQ 1416 -1113 1806 -1113 \nQ 2313 -1113 2548 -827 \nQ 2784 -541 2784 72 \nL 2784 519 \nQ 2616 206 2355 57 \nQ 2094 -91 1709 -91 \nQ 1097 -91 708 395 \nQ 319 881 319 1663 \nQ 319 2444 706 2928 \nQ 1094 3413 1709 3413 \nQ 2094 3413 2355 3264 \nQ 2616 3116 2784 2803 \nL 2784 3322 \nL 3909 3322 \nL 3909 2988 \nL 3359 2988 \nz\nM 2784 1825 \nQ 2784 2422 2554 2737 \nQ 2325 3053 1888 3053 \nQ 1444 3053 1217 2703 \nQ 991 2353 991 1663 \nQ 991 975 1217 622 \nQ 1444 269 1888 269 \nQ 2325 269 2554 583 \nQ 2784 897 2784 1497 \nL 2784 1825 \nz\n\" transform=\"scale(0.015625)\"/>\n       <path id=\"DejaVuSerif-5d\" d=\"M 1947 4863 \nL 1947 -844 \nL 494 -844 \nL 494 -513 \nL 1350 -513 \nL 1350 4531 \nL 494 4531 \nL 494 4863 \nL 1947 4863 \nz\n\" transform=\"scale(0.015625)\"/>\n       <path id=\"DejaVuSerif-28\" d=\"M 2041 -997 \nQ 1281 -656 893 83 \nQ 506 822 506 1931 \nQ 506 3044 893 3783 \nQ 1281 4522 2041 4863 \nL 2041 4556 \nQ 1559 4225 1350 3623 \nQ 1141 3022 1141 1931 \nQ 1141 844 1350 242 \nQ 1559 -359 2041 -691 \nL 2041 -997 \nz\n\" transform=\"scale(0.015625)\"/>\n       <path id=\"DejaVuSerif-50\" d=\"M 1581 2375 \nL 2406 2375 \nQ 2872 2375 3115 2626 \nQ 3359 2878 3359 3353 \nQ 3359 3831 3115 4081 \nQ 2872 4331 2406 4331 \nL 1581 4331 \nL 1581 2375 \nz\nM 353 0 \nL 353 331 \nL 947 331 \nL 947 4331 \nL 353 4331 \nL 353 4666 \nL 2559 4666 \nQ 3259 4666 3668 4311 \nQ 4078 3956 4078 3353 \nQ 4078 2753 3668 2397 \nQ 3259 2041 2559 2041 \nL 1581 2041 \nL 1581 331 \nL 2303 331 \nL 2303 0 \nL 353 0 \nz\n\" transform=\"scale(0.015625)\"/>\n       <path id=\"DejaVuSerif-52\" d=\"M 3066 2316 \nQ 3284 2256 3442 2114 \nQ 3600 1972 3725 1716 \nL 4403 331 \nL 4972 331 \nL 4972 0 \nL 3872 0 \nL 3144 1484 \nQ 2934 1916 2759 2042 \nQ 2584 2169 2278 2169 \nL 1581 2169 \nL 1581 331 \nL 2241 331 \nL 2241 0 \nL 353 0 \nL 353 331 \nL 947 331 \nL 947 4331 \nL 353 4331 \nL 353 4666 \nL 2719 4666 \nQ 3400 4666 3770 4341 \nQ 4141 4016 4141 3419 \nQ 4141 2938 3870 2661 \nQ 3600 2384 3066 2316 \nz\nM 1581 2503 \nL 2503 2503 \nQ 2975 2503 3200 2726 \nQ 3425 2950 3425 3419 \nQ 3425 3888 3200 4109 \nQ 2975 4331 2503 4331 \nL 1581 4331 \nL 1581 2503 \nz\n\" transform=\"scale(0.015625)\"/>\n       <path id=\"DejaVuSerif-4d\" d=\"M 353 0 \nL 353 331 \nL 947 331 \nL 947 4331 \nL 319 4331 \nL 319 4666 \nL 1678 4666 \nL 3316 1344 \nL 4953 4666 \nL 6228 4666 \nL 6228 4331 \nL 5606 4331 \nL 5606 331 \nL 6203 331 \nL 6203 0 \nL 4378 0 \nL 4378 331 \nL 4972 331 \nL 4972 3938 \nL 3372 684 \nL 2931 684 \nL 1331 3938 \nL 1331 331 \nL 1925 331 \nL 1925 0 \nL 353 0 \nz\n\" transform=\"scale(0.015625)\"/>\n       <path id=\"DejaVuSerif-29\" d=\"M 453 -997 \nL 453 -691 \nQ 934 -359 1145 242 \nQ 1356 844 1356 1931 \nQ 1356 3022 1145 3623 \nQ 934 4225 453 4556 \nL 453 4863 \nQ 1216 4522 1603 3783 \nQ 1991 3044 1991 1931 \nQ 1991 822 1603 83 \nQ 1216 -656 453 -997 \nz\n\" transform=\"scale(0.015625)\"/>\n      </defs>\n      <use xlink:href=\"#DejaVuSerif-20\"/>\n      <use xlink:href=\"#DejaVuSerif-70\" x=\"31.787109\"/>\n      <use xlink:href=\"#DejaVuSerif-68\" x=\"95.800781\"/>\n      <use xlink:href=\"#DejaVuSerif-69\" x=\"160.205078\"/>\n      <use xlink:href=\"#DejaVuSerif-20\" x=\"192.1875\"/>\n      <use xlink:href=\"#DejaVuSerif-5b\" x=\"223.974609\"/>\n      <use xlink:href=\"#DejaVuSerif-64\" x=\"262.988281\"/>\n      <use xlink:href=\"#DejaVuSerif-65\" x=\"327.001953\"/>\n      <use xlink:href=\"#DejaVuSerif-67\" x=\"386.181641\"/>\n      <use xlink:href=\"#DejaVuSerif-5d\" x=\"450.195312\"/>\n      <use xlink:href=\"#DejaVuSerif-20\" x=\"489.208984\"/>\n      <use xlink:href=\"#DejaVuSerif-28\" x=\"520.996094\"/>\n      <use xlink:href=\"#DejaVuSerif-50\" x=\"560.009766\"/>\n      <use xlink:href=\"#DejaVuSerif-52\" x=\"627.294922\"/>\n      <use xlink:href=\"#DejaVuSerif-4d\" x=\"702.587891\"/>\n      <use xlink:href=\"#DejaVuSerif-29\" x=\"804.980469\"/>\n     </g>\n    </g>\n   </g>\n   <g id=\"matplotlib.axis_2\">\n    <g id=\"ytick_1\">\n     <g id=\"line2d_8\">\n      <defs>\n       <path id=\"m83bb7c859f\" d=\"M 0 0 \nL -3.5 0 \n\" style=\"stroke: #000000; stroke-width: 0.8\"/>\n      </defs>\n      <g>\n       <use xlink:href=\"#m83bb7c859f\" x=\"39.645938\" y=\"208.377854\" style=\"stroke: #000000; stroke-width: 0.8\"/>\n      </g>\n     </g>\n     <g id=\"text_9\">\n      <!-- $\\mathdefault{0.0}$ -->\n      <g transform=\"translate(18.245938 211.797151)scale(0.09 -0.09)\">\n       <defs>\n        <path id=\"DejaVuSerif-2e\" d=\"M 603 325 \nQ 603 500 722 622 \nQ 841 744 1019 744 \nQ 1191 744 1312 622 \nQ 1434 500 1434 325 \nQ 1434 153 1312 31 \nQ 1191 -91 1019 -91 \nQ 841 -91 722 29 \nQ 603 150 603 325 \nz\n\" transform=\"scale(0.015625)\"/>\n       </defs>\n       <use xlink:href=\"#DejaVuSerif-30\" transform=\"translate(0 0.78125)\"/>\n       <use xlink:href=\"#DejaVuSerif-2e\" transform=\"translate(63.623047 0.78125)\"/>\n       <use xlink:href=\"#DejaVuSerif-30\" transform=\"translate(95.410156 0.78125)\"/>\n      </g>\n     </g>\n    </g>\n    <g id=\"ytick_2\">\n     <g id=\"line2d_9\">\n      <g>\n       <use xlink:href=\"#m83bb7c859f\" x=\"39.645938\" y=\"170.922964\" style=\"stroke: #000000; stroke-width: 0.8\"/>\n      </g>\n     </g>\n     <g id=\"text_10\">\n      <!-- $\\mathdefault{0.2}$ -->\n      <g transform=\"translate(18.515938 174.342261)scale(0.09 -0.09)\">\n       <use xlink:href=\"#DejaVuSerif-30\" transform=\"translate(0 0.78125)\"/>\n       <use xlink:href=\"#DejaVuSerif-2e\" transform=\"translate(63.623047 0.78125)\"/>\n       <use xlink:href=\"#DejaVuSerif-32\" transform=\"translate(92.785156 0.78125)\"/>\n      </g>\n     </g>\n    </g>\n    <g id=\"ytick_3\">\n     <g id=\"line2d_10\">\n      <g>\n       <use xlink:href=\"#m83bb7c859f\" x=\"39.645938\" y=\"133.468074\" style=\"stroke: #000000; stroke-width: 0.8\"/>\n      </g>\n     </g>\n     <g id=\"text_11\">\n      <!-- $\\mathdefault{0.4}$ -->\n      <g transform=\"translate(18.245938 136.887371)scale(0.09 -0.09)\">\n       <use xlink:href=\"#DejaVuSerif-30\" transform=\"translate(0 0.78125)\"/>\n       <use xlink:href=\"#DejaVuSerif-2e\" transform=\"translate(63.623047 0.78125)\"/>\n       <use xlink:href=\"#DejaVuSerif-34\" transform=\"translate(95.410156 0.78125)\"/>\n      </g>\n     </g>\n    </g>\n    <g id=\"ytick_4\">\n     <g id=\"line2d_11\">\n      <g>\n       <use xlink:href=\"#m83bb7c859f\" x=\"39.645938\" y=\"96.013184\" style=\"stroke: #000000; stroke-width: 0.8\"/>\n      </g>\n     </g>\n     <g id=\"text_12\">\n      <!-- $\\mathdefault{0.6}$ -->\n      <g transform=\"translate(18.245938 99.432481)scale(0.09 -0.09)\">\n       <use xlink:href=\"#DejaVuSerif-30\" transform=\"translate(0 0.78125)\"/>\n       <use xlink:href=\"#DejaVuSerif-2e\" transform=\"translate(63.623047 0.78125)\"/>\n       <use xlink:href=\"#DejaVuSerif-36\" transform=\"translate(95.410156 0.78125)\"/>\n      </g>\n     </g>\n    </g>\n    <g id=\"ytick_5\">\n     <g id=\"line2d_12\">\n      <g>\n       <use xlink:href=\"#m83bb7c859f\" x=\"39.645938\" y=\"58.558294\" style=\"stroke: #000000; stroke-width: 0.8\"/>\n      </g>\n     </g>\n     <g id=\"text_13\">\n      <!-- $\\mathdefault{0.8}$ -->\n      <g transform=\"translate(18.605938 61.977591)scale(0.09 -0.09)\">\n       <use xlink:href=\"#DejaVuSerif-30\" transform=\"translate(0 0.78125)\"/>\n       <use xlink:href=\"#DejaVuSerif-2e\" transform=\"translate(63.623047 0.78125)\"/>\n       <use xlink:href=\"#DejaVuSerif-38\" transform=\"translate(91.785156 0.78125)\"/>\n      </g>\n     </g>\n    </g>\n    <g id=\"ytick_6\">\n     <g id=\"line2d_13\">\n      <g>\n       <use xlink:href=\"#m83bb7c859f\" x=\"39.645938\" y=\"21.103404\" style=\"stroke: #000000; stroke-width: 0.8\"/>\n      </g>\n     </g>\n     <g id=\"text_14\">\n      <!-- $\\mathdefault{1.0}$ -->\n      <g transform=\"translate(18.245938 24.522701)scale(0.09 -0.09)\">\n       <use xlink:href=\"#DejaVuSerif-31\" transform=\"translate(0 0.78125)\"/>\n       <use xlink:href=\"#DejaVuSerif-2e\" transform=\"translate(63.623047 0.78125)\"/>\n       <use xlink:href=\"#DejaVuSerif-30\" transform=\"translate(95.410156 0.78125)\"/>\n      </g>\n     </g>\n    </g>\n    <g id=\"text_15\">\n     <!-- [au] -->\n     <g transform=\"translate(11.958281 121.753937)rotate(-90)scale(0.11 -0.11)\">\n      <defs>\n       <path id=\"DejaVuSerif-61\" d=\"M 2547 1044 \nL 2547 1747 \nL 1806 1747 \nQ 1378 1747 1168 1562 \nQ 959 1378 959 997 \nQ 959 650 1171 447 \nQ 1384 244 1747 244 \nQ 2106 244 2326 466 \nQ 2547 688 2547 1044 \nz\nM 3122 2075 \nL 3122 331 \nL 3634 331 \nL 3634 0 \nL 2547 0 \nL 2547 359 \nQ 2356 128 2106 18 \nQ 1856 -91 1522 -91 \nQ 969 -91 644 203 \nQ 319 497 319 997 \nQ 319 1513 691 1797 \nQ 1063 2081 1741 2081 \nL 2547 2081 \nL 2547 2309 \nQ 2547 2688 2317 2895 \nQ 2088 3103 1672 3103 \nQ 1328 3103 1125 2947 \nQ 922 2791 872 2484 \nL 575 2484 \nL 575 3156 \nQ 875 3284 1158 3348 \nQ 1441 3413 1709 3413 \nQ 2400 3413 2761 3070 \nQ 3122 2728 3122 2075 \nz\n\" transform=\"scale(0.015625)\"/>\n       <path id=\"DejaVuSerif-75\" d=\"M 2266 3322 \nL 3341 3322 \nL 3341 331 \nL 3884 331 \nL 3884 0 \nL 2766 0 \nL 2766 588 \nQ 2606 256 2353 82 \nQ 2100 -91 1766 -91 \nQ 1213 -91 952 223 \nQ 691 538 691 1209 \nL 691 2988 \nL 172 2988 \nL 172 3322 \nL 1269 3322 \nL 1269 1388 \nQ 1269 781 1417 556 \nQ 1566 331 1947 331 \nQ 2347 331 2556 625 \nQ 2766 919 2766 1478 \nL 2766 2988 \nL 2266 2988 \nL 2266 3322 \nz\n\" transform=\"scale(0.015625)\"/>\n      </defs>\n      <use xlink:href=\"#DejaVuSerif-5b\"/>\n      <use xlink:href=\"#DejaVuSerif-61\" x=\"39.013672\"/>\n      <use xlink:href=\"#DejaVuSerif-75\" x=\"98.632812\"/>\n      <use xlink:href=\"#DejaVuSerif-5d\" x=\"163.037109\"/>\n     </g>\n    </g>\n   </g>\n   <g id=\"line2d_14\">\n    <path d=\"M 39.645938 207.950045 \nL 78.541706 207.795574 \nL 86.730288 207.55456 \nL 90.688103 207.532811 \nL 104.108281 207.746859 \nL 125.989994 207.655132 \nL 155.059462 207.336312 \nL 174.4846 206.916031 \nL 187.995762 206.412722 \nL 197.913045 205.831409 \nL 205.555723 205.169627 \nL 211.606176 204.431297 \nL 216.564817 203.608893 \nL 220.704601 202.70144 \nL 224.207495 201.710216 \nL 227.209975 200.635406 \nL 229.848518 199.459407 \nL 232.168617 198.188879 \nL 234.261255 196.796018 \nL 236.171924 195.261657 \nL 237.946117 193.551156 \nL 239.583833 191.663605 \nL 241.130566 189.53889 \nL 242.586314 187.15933 \nL 243.99657 184.415258 \nL 245.315841 181.361067 \nL 246.589621 177.856464 \nL 247.8634 173.673008 \nL 249.091688 168.839084 \nL 250.274483 163.262009 \nL 251.457278 156.564932 \nL 252.594581 148.827923 \nL 253.731885 139.544804 \nL 254.869188 128.419245 \nL 256.051983 114.592854 \nL 257.325763 96.923479 \nL 258.827003 72.759261 \nL 261.465546 29.73686 \nL 262.284404 20.237567 \nL 262.875802 15.708986 \nL 263.285231 13.926952 \nL 263.603676 13.359082 \nL 263.785645 13.362656 \nL 263.967613 13.605197 \nL 264.240566 14.412674 \nL 264.604503 16.294677 \nL 265.104916 20.287908 \nL 265.741806 27.415965 \nL 266.606156 39.837938 \nL 268.243873 67.39852 \nL 270.154542 98.341492 \nL 271.519306 116.927856 \nL 272.793086 131.311424 \nL 274.021373 142.731766 \nL 275.24966 152.116524 \nL 276.477948 159.829999 \nL 277.706235 166.192047 \nL 278.980015 171.645059 \nL 280.299286 176.312883 \nL 281.618558 180.187127 \nL 282.983322 183.530056 \nL 284.393578 186.41756 \nL 285.894818 188.98689 \nL 287.44155 191.200676 \nL 289.079267 193.163381 \nL 290.85346 194.938444 \nL 292.718637 196.49306 \nL 294.765783 197.910327 \nL 297.040389 199.208091 \nL 299.542456 200.375446 \nL 302.362968 201.441957 \nL 305.592909 202.419124 \nL 309.323263 203.308324 \nL 313.690507 204.114117 \nL 318.922102 204.844842 \nL 325.245507 205.495993 \nL 333.115645 206.074527 \nL 343.169405 206.580645 \nL 356.453106 207.014834 \nL 374.740941 207.37635 \nL 401.399327 207.664224 \nL 403.582949 207.680501 \nL 403.582949 207.680501 \n\" clip-path=\"url(#p06d73d0024)\" style=\"fill: none; stroke: #0000ff; stroke-width: 1.2; stroke-linecap: square\"/>\n   </g>\n   <g id=\"patch_3\">\n    <path d=\"M 39.645938 217.681 \nL 39.645938 3.6 \n\" style=\"fill: none; stroke: #000000; stroke-width: 0.8; stroke-linejoin: miter; stroke-linecap: square\"/>\n   </g>\n   <g id=\"patch_4\">\n    <path d=\"M 403.582949 217.681 \nL 403.582949 3.6 \n\" style=\"fill: none; stroke: #000000; stroke-width: 0.8; stroke-linejoin: miter; stroke-linecap: square\"/>\n   </g>\n   <g id=\"patch_5\">\n    <path d=\"M 39.645938 217.681 \nL 403.582949 217.681 \n\" style=\"fill: none; stroke: #000000; stroke-width: 0.8; stroke-linejoin: miter; stroke-linecap: square\"/>\n   </g>\n   <g id=\"patch_6\">\n    <path d=\"M 39.645938 3.6 \nL 403.582949 3.6 \n\" style=\"fill: none; stroke: #000000; stroke-width: 0.8; stroke-linejoin: miter; stroke-linecap: square\"/>\n   </g>\n   <g id=\"legend_1\">\n    <g id=\"patch_7\">\n     <path d=\"M 323.623574 26.55625 \nL 396.582949 26.55625 \nQ 398.582949 26.55625 398.582949 24.55625 \nL 398.582949 10.6 \nQ 398.582949 8.6 396.582949 8.6 \nL 323.623574 8.6 \nQ 321.623574 8.6 321.623574 10.6 \nL 321.623574 24.55625 \nQ 321.623574 26.55625 323.623574 26.55625 \nz\n\" style=\"fill: #ffffff; opacity: 0.8; stroke: #cccccc; stroke-linejoin: miter\"/>\n    </g>\n    <g id=\"line2d_15\">\n     <path d=\"M 325.623574 16.698437 \nL 335.623574 16.698437 \nL 345.623574 16.698437 \n\" style=\"fill: none; stroke: #0000ff; stroke-width: 1.2; stroke-linecap: square\"/>\n    </g>\n    <g id=\"text_16\">\n     <!-- circ_prc -->\n     <g transform=\"translate(353.623574 20.198437)scale(0.1 -0.1)\">\n      <defs>\n       <path id=\"DejaVuSerif-63\" d=\"M 3291 997 \nQ 3169 466 2822 187 \nQ 2475 -91 1925 -91 \nQ 1200 -91 759 389 \nQ 319 869 319 1663 \nQ 319 2459 759 2936 \nQ 1200 3413 1925 3413 \nQ 2241 3413 2553 3339 \nQ 2866 3266 3181 3116 \nL 3181 2266 \nL 2847 2266 \nQ 2781 2703 2561 2903 \nQ 2341 3103 1931 3103 \nQ 1466 3103 1228 2742 \nQ 991 2381 991 1663 \nQ 991 944 1227 581 \nQ 1463 219 1931 219 \nQ 2303 219 2525 412 \nQ 2747 606 2828 997 \nL 3291 997 \nz\n\" transform=\"scale(0.015625)\"/>\n       <path id=\"DejaVuSerif-72\" d=\"M 3059 3328 \nL 3059 2497 \nL 2728 2497 \nQ 2713 2744 2591 2866 \nQ 2469 2988 2234 2988 \nQ 1809 2988 1582 2694 \nQ 1356 2400 1356 1850 \nL 1356 331 \nL 2022 331 \nL 2022 0 \nL 263 0 \nL 263 331 \nL 781 331 \nL 781 2994 \nL 231 2994 \nL 231 3322 \nL 1356 3322 \nL 1356 2731 \nQ 1525 3078 1790 3245 \nQ 2056 3413 2438 3413 \nQ 2578 3413 2733 3391 \nQ 2888 3369 3059 3328 \nz\n\" transform=\"scale(0.015625)\"/>\n       <path id=\"DejaVuSerif-5f\" d=\"M 3200 -1259 \nL 3200 -1509 \nL 0 -1509 \nL 0 -1259 \nL 3200 -1259 \nz\n\" transform=\"scale(0.015625)\"/>\n      </defs>\n      <use xlink:href=\"#DejaVuSerif-63\"/>\n      <use xlink:href=\"#DejaVuSerif-69\" x=\"56.005859\"/>\n      <use xlink:href=\"#DejaVuSerif-72\" x=\"87.988281\"/>\n      <use xlink:href=\"#DejaVuSerif-63\" x=\"135.791016\"/>\n      <use xlink:href=\"#DejaVuSerif-5f\" x=\"191.796875\"/>\n      <use xlink:href=\"#DejaVuSerif-70\" x=\"241.796875\"/>\n      <use xlink:href=\"#DejaVuSerif-72\" x=\"305.810547\"/>\n      <use xlink:href=\"#DejaVuSerif-63\" x=\"353.613281\"/>\n     </g>\n    </g>\n   </g>\n  </g>\n </g>\n <defs>\n  <clipPath id=\"p06d73d0024\">\n   <rect x=\"39.645938\" y=\"3.6\" width=\"363.937012\" height=\"214.081\"/>\n  </clipPath>\n </defs>\n</svg>\n",
      "text/plain": [
       "<Figure size 1200x741.6 with 1 Axes>"
      ]
     },
     "metadata": {},
     "output_type": "display_data"
    },
    {
     "name": "stdout",
     "output_type": "stream",
     "text": [
      "max power arm 398.925858191348\n",
      "array number [[4925]]\n",
      "PRM tuning for max power in arm and prc [[90.03125]]\n"
     ]
    }
   ],
   "source": [
    "### Tuning check ####\n",
    "\n",
    "out_dc = kat_dc.run()\n",
    "out_dc.info()\n",
    "out_dc.plot(['circ_arm'])\n",
    "out_dc.plot(['circ_prc'])\n",
    "print(\"max power arm\",max(out_dc['circ_arm']))\n",
    "print(\"array number\",np.argwhere(out_dc['circ_arm'] == max(out_dc['circ_arm'])))\n",
    "print(\"PRM tuning for max power in arm and prc\",out_dc.x[np.argwhere(out_dc['circ_arm'] == max(out_dc['circ_arm']))])\n",
    "\n",
    "\n",
    "### SET PRM phi ###\n",
    "kat.PRM.phi = out_dc.x[np.argwhere(out_dc['circ_arm'] == max(out_dc['circ_arm']))]\n"
   ]
  },
  {
   "cell_type": "code",
   "execution_count": 5,
   "metadata": {},
   "outputs": [
    {
     "name": "stdout",
     "output_type": "stream",
     "text": [
      "\u001b[93m\n",
      "Warning:\n",
      "Finesse variable `$x1` does not exist.\n",
      "\u001b[0m\n",
      "\u001b[93m\n",
      "Parsing `put refl_I f2 $x1` into pykat object not implemented\n",
      "yet, added as extra line.\n",
      "\u001b[0m\n",
      "\u001b[93m\n",
      "Warning:\n",
      "Finesse variable `$x1` does not exist.\n",
      "\u001b[0m\n",
      "\u001b[93m\n",
      "Parsing `put refl_Q f2 $x1` into pykat object not implemented\n",
      "yet, added as extra line.\n",
      "\u001b[0m\n",
      "\u001b[93m\n",
      "Warning:\n",
      "Finesse variable `$x1` does not exist.\n",
      "\u001b[0m\n",
      "\u001b[93m\n",
      "Parsing `put refl_I_f2 f2 $x1` into pykat object not\n",
      "implemented yet, added as extra line.\n",
      "\u001b[0m\n",
      "\u001b[93m\n",
      "Warning:\n",
      "Finesse variable `$x1` does not exist.\n",
      "\u001b[0m\n",
      "\u001b[93m\n",
      "Parsing `put refl_Q_f2 f2 $x1` into pykat object not\n",
      "implemented yet, added as extra line.\n",
      "\u001b[0m\n",
      "\u001b[93m\n",
      "Warning:\n",
      "Finesse variable `$x1` does not exist.\n",
      "\u001b[0m\n",
      "\u001b[93m\n",
      "Parsing `put refl_I_f3 f2 $x1` into pykat object not\n",
      "implemented yet, added as extra line.\n",
      "\u001b[0m\n",
      "\u001b[93m\n",
      "Warning:\n",
      "Finesse variable `$x1` does not exist.\n",
      "\u001b[0m\n",
      "\u001b[93m\n",
      "Parsing `put refl_Q_f3 f2 $x1` into pykat object not\n",
      "implemented yet, added as extra line.\n",
      "\u001b[0m\n",
      "\u001b[93m\n",
      "Warning:\n",
      "Finesse variable `$x1` does not exist.\n",
      "\u001b[0m\n",
      "\u001b[93m\n",
      "Parsing `put pop_I f2 $x1` into pykat object not implemented\n",
      "yet, added as extra line.\n",
      "\u001b[0m\n",
      "\u001b[93m\n",
      "Warning:\n",
      "Finesse variable `$x1` does not exist.\n",
      "\u001b[0m\n",
      "\u001b[93m\n",
      "Parsing `put pop_Q f2 $x1` into pykat object not implemented\n",
      "yet, added as extra line.\n",
      "\u001b[0m\n",
      "\u001b[93m\n",
      "Warning:\n",
      "Finesse variable `$x1` does not exist.\n",
      "\u001b[0m\n",
      "\u001b[93m\n",
      "Parsing `put pop_I_f2 f2 $x1` into pykat object not\n",
      "implemented yet, added as extra line.\n",
      "\u001b[0m\n",
      "\u001b[93m\n",
      "Warning:\n",
      "Finesse variable `$x1` does not exist.\n",
      "\u001b[0m\n",
      "\u001b[93m\n",
      "Parsing `put pop_Q_f2 f2 $x1` into pykat object not\n",
      "implemented yet, added as extra line.\n",
      "\u001b[0m\n",
      "\u001b[93m\n",
      "Warning:\n",
      "Finesse variable `$x1` does not exist.\n",
      "\u001b[0m\n",
      "\u001b[93m\n",
      "Parsing `put pop_I_f3 f2 $x1` into pykat object not\n",
      "implemented yet, added as extra line.\n",
      "\u001b[0m\n",
      "\u001b[93m\n",
      "Warning:\n",
      "Finesse variable `$x1` does not exist.\n",
      "\u001b[0m\n",
      "\u001b[93m\n",
      "Parsing `put pop_Q_f3 f2 $x1` into pykat object not\n",
      "implemented yet, added as extra line.\n",
      "\u001b[0m\n"
     ]
    }
   ],
   "source": [
    "#### POP & REFL RF PDs #####\n",
    "\n",
    "kat_pd1s = kat.deepcopy()\n",
    "kat_pd1s.parse(\"\"\" \n",
    "\n",
    "\n",
    "const sb1 55.556M\n",
    "const sb2 111.112M\n",
    "const sb3 166.668M \n",
    "\n",
    "pd2 pop_I $sb1 60 10 0 bs21tr                # POP I  1f\n",
    "pd2 pop_Q $sb1 70 10 0 bs21tr               # POP Q  1f\n",
    "pd2 pop_I_f2 $sb2 0 10 0 bs21tr            # POP I  3f\n",
    "pd2 pop_Q_f2 $sb2 90 10 0 bs21tr           # POP Q  3f\n",
    "pd2 pop_I_f3 $sb3 0 10 0 bs21tr            # POP I  3f\n",
    "pd2 pop_Q_f3 $sb3 90 10 0 bs21tr           # POP Q  3f\n",
    "\n",
    "\n",
    "pd2 refl_I $sb1 0 10 0 refl              # REFL I  1f\n",
    "pd2 refl_Q $sb1 90 10 0 refl             # REFL Q  1f\n",
    "pd2 refl_I_f2 $sb2 0 10 0 refl          # REFL I  3f\n",
    "pd2 refl_Q_f2 $sb2 90 10 0 refl         # REFL Q  3f\n",
    "pd2 refl_I_f3 $sb3 0 10 0 refl          # REFL I  3f\n",
    "pd2 refl_Q_f3 $sb3 90 10 0 refl         # REFL Q  3f\n",
    "\n",
    "pd circ_arm b5\n",
    "pd circ_prc pop\n",
    "pd refl refl\n",
    "pd trans b6\n",
    "\n",
    "\n",
    "#xaxis sig1 f log .01 100 8000\n",
    "\n",
    "put refl_I f2 $x1\n",
    "put refl_Q f2 $x1\n",
    "put refl_I_f2 f2 $x1\n",
    "put refl_Q_f2 f2 $x1\n",
    "put refl_I_f3 f2 $x1\n",
    "put refl_Q_f3 f2 $x1\n",
    "\n",
    "put pop_I f2 $x1\n",
    "put pop_Q f2 $x1\n",
    "put pop_I_f2 f2 $x1\n",
    "put pop_Q_f2 f2 $x1\n",
    "put pop_I_f3 f2 $x1\n",
    "put pop_Q_f3 f2 $x1\n",
    "\n",
    "\n",
    "\n",
    "#scale deg\n",
    "\n",
    "\"\"\")"
   ]
  },
  {
   "cell_type": "markdown",
   "metadata": {},
   "source": [
    "<h2>LSC using Decoupling Slope Method</h2>"
   ]
  },
  {
   "cell_type": "code",
   "execution_count": 6,
   "metadata": {},
   "outputs": [
    {
     "name": "stdout",
     "output_type": "stream",
     "text": [
      "--------------------------------------------------------------\n",
      "Running kat - Started at 2022-12-07 19:47:56.156828\n"
     ]
    },
    {
     "name": "stderr",
     "output_type": "stream",
     "text": [
      "100% | ETA:  0:00:00 | Calculating                                             "
     ]
    },
    {
     "name": "stdout",
     "output_type": "stream",
     "text": [
      "Used Finesse None at C:\\Users\\Parivesh\\anaconda3\\Library\\bin\\kat.exe\n",
      "\n",
      "Finished in 5.96962 seconds\n"
     ]
    },
    {
     "data": {
      "image/svg+xml": "<?xml version=\"1.0\" encoding=\"utf-8\" standalone=\"no\"?>\n<!DOCTYPE svg PUBLIC \"-//W3C//DTD SVG 1.1//EN\"\n  \"http://www.w3.org/Graphics/SVG/1.1/DTD/svg11.dtd\">\n<svg xmlns:xlink=\"http://www.w3.org/1999/xlink\" width=\"415.958652pt\" height=\"249.551625pt\" viewBox=\"0 0 415.958652 249.551625\" xmlns=\"http://www.w3.org/2000/svg\" version=\"1.1\">\n <metadata>\n  <rdf:RDF xmlns:dc=\"http://purl.org/dc/elements/1.1/\" xmlns:cc=\"http://creativecommons.org/ns#\" xmlns:rdf=\"http://www.w3.org/1999/02/22-rdf-syntax-ns#\">\n   <cc:Work>\n    <dc:type rdf:resource=\"http://purl.org/dc/dcmitype/StillImage\"/>\n    <dc:date>2022-12-07T19:48:02.626498</dc:date>\n    <dc:format>image/svg+xml</dc:format>\n    <dc:creator>\n     <cc:Agent>\n      <dc:title>Matplotlib v3.5.3, https://matplotlib.org/</dc:title>\n     </cc:Agent>\n    </dc:creator>\n   </cc:Work>\n  </rdf:RDF>\n </metadata>\n <defs>\n  <style type=\"text/css\">*{stroke-linejoin: round; stroke-linecap: butt}</style>\n </defs>\n <g id=\"figure_1\">\n  <g id=\"patch_1\">\n   <path d=\"M 0 249.551625 \nL 415.958652 249.551625 \nL 415.958652 0 \nL 0 0 \nz\n\" style=\"fill: #ffffff\"/>\n  </g>\n  <g id=\"axes_1\">\n   <g id=\"patch_2\">\n    <path d=\"M 68.265937 216.421 \nL 412.358652 216.421 \nL 412.358652 3.6 \nL 68.265937 3.6 \nz\n\" style=\"fill: #ffffff\"/>\n   </g>\n   <g id=\"matplotlib.axis_1\">\n    <g id=\"xtick_1\">\n     <g id=\"line2d_1\">\n      <defs>\n       <path id=\"m297e0fce54\" d=\"M 0 0 \nL 0 3.5 \n\" style=\"stroke: #000000; stroke-width: 0.8\"/>\n      </defs>\n      <g>\n       <use xlink:href=\"#m297e0fce54\" x=\"68.265937\" y=\"216.421\" style=\"stroke: #000000; stroke-width: 0.8\"/>\n      </g>\n     </g>\n     <g id=\"text_1\">\n      <!-- $\\mathdefault{10^{0}}$ -->\n      <g transform=\"translate(60.345937 230.259594)scale(0.09 -0.09)\">\n       <defs>\n        <path id=\"DejaVuSerif-31\" d=\"M 909 0 \nL 909 331 \nL 1722 331 \nL 1722 4213 \nL 781 3603 \nL 781 4013 \nL 1919 4750 \nL 2350 4750 \nL 2350 331 \nL 3163 331 \nL 3163 0 \nL 909 0 \nz\n\" transform=\"scale(0.015625)\"/>\n        <path id=\"DejaVuSerif-30\" d=\"M 2034 219 \nQ 2513 219 2750 744 \nQ 2988 1269 2988 2328 \nQ 2988 3391 2750 3916 \nQ 2513 4441 2034 4441 \nQ 1556 4441 1318 3916 \nQ 1081 3391 1081 2328 \nQ 1081 1269 1318 744 \nQ 1556 219 2034 219 \nz\nM 2034 -91 \nQ 1275 -91 848 546 \nQ 422 1184 422 2328 \nQ 422 3475 848 4112 \nQ 1275 4750 2034 4750 \nQ 2797 4750 3222 4112 \nQ 3647 3475 3647 2328 \nQ 3647 1184 3222 546 \nQ 2797 -91 2034 -91 \nz\n\" transform=\"scale(0.015625)\"/>\n       </defs>\n       <use xlink:href=\"#DejaVuSerif-31\" transform=\"translate(0 0.7125)\"/>\n       <use xlink:href=\"#DejaVuSerif-30\" transform=\"translate(63.623047 0.7125)\"/>\n       <use xlink:href=\"#DejaVuSerif-30\" transform=\"translate(128.154453 37.046875)scale(0.7)\"/>\n      </g>\n     </g>\n    </g>\n    <g id=\"xtick_2\">\n     <g id=\"line2d_2\">\n      <g>\n       <use xlink:href=\"#m297e0fce54\" x=\"186.792306\" y=\"216.421\" style=\"stroke: #000000; stroke-width: 0.8\"/>\n      </g>\n     </g>\n     <g id=\"text_2\">\n      <!-- $\\mathdefault{10^{1}}$ -->\n      <g transform=\"translate(178.872306 230.259594)scale(0.09 -0.09)\">\n       <use xlink:href=\"#DejaVuSerif-31\" transform=\"translate(0 0.7125)\"/>\n       <use xlink:href=\"#DejaVuSerif-30\" transform=\"translate(63.623047 0.7125)\"/>\n       <use xlink:href=\"#DejaVuSerif-31\" transform=\"translate(128.154453 37.046875)scale(0.7)\"/>\n      </g>\n     </g>\n    </g>\n    <g id=\"xtick_3\">\n     <g id=\"line2d_3\">\n      <g>\n       <use xlink:href=\"#m297e0fce54\" x=\"305.318675\" y=\"216.421\" style=\"stroke: #000000; stroke-width: 0.8\"/>\n      </g>\n     </g>\n     <g id=\"text_3\">\n      <!-- $\\mathdefault{10^{2}}$ -->\n      <g transform=\"translate(297.398675 230.259594)scale(0.09 -0.09)\">\n       <defs>\n        <path id=\"DejaVuSerif-32\" d=\"M 819 3553 \nL 469 3553 \nL 469 4384 \nQ 803 4563 1142 4656 \nQ 1481 4750 1806 4750 \nQ 2534 4750 2956 4397 \nQ 3378 4044 3378 3438 \nQ 3378 2753 2422 1800 \nQ 2347 1728 2309 1691 \nL 1131 513 \nL 3078 513 \nL 3078 1088 \nL 3444 1088 \nL 3444 0 \nL 434 0 \nL 434 341 \nL 1850 1753 \nQ 2319 2222 2519 2614 \nQ 2719 3006 2719 3438 \nQ 2719 3909 2473 4175 \nQ 2228 4441 1797 4441 \nQ 1350 4441 1106 4219 \nQ 863 3997 819 3553 \nz\n\" transform=\"scale(0.015625)\"/>\n       </defs>\n       <use xlink:href=\"#DejaVuSerif-31\" transform=\"translate(0 0.7125)\"/>\n       <use xlink:href=\"#DejaVuSerif-30\" transform=\"translate(63.623047 0.7125)\"/>\n       <use xlink:href=\"#DejaVuSerif-32\" transform=\"translate(128.154453 37.046875)scale(0.7)\"/>\n      </g>\n     </g>\n    </g>\n    <g id=\"xtick_4\">\n     <g id=\"line2d_4\">\n      <defs>\n       <path id=\"m67827ba765\" d=\"M 0 0 \nL 0 2 \n\" style=\"stroke: #000000; stroke-width: 0.6\"/>\n      </defs>\n      <g>\n       <use xlink:href=\"#m67827ba765\" x=\"103.94593\" y=\"216.421\" style=\"stroke: #000000; stroke-width: 0.6\"/>\n      </g>\n     </g>\n    </g>\n    <g id=\"xtick_5\">\n     <g id=\"line2d_5\">\n      <g>\n       <use xlink:href=\"#m67827ba765\" x=\"124.817387\" y=\"216.421\" style=\"stroke: #000000; stroke-width: 0.6\"/>\n      </g>\n     </g>\n    </g>\n    <g id=\"xtick_6\">\n     <g id=\"line2d_6\">\n      <g>\n       <use xlink:href=\"#m67827ba765\" x=\"139.625922\" y=\"216.421\" style=\"stroke: #000000; stroke-width: 0.6\"/>\n      </g>\n     </g>\n    </g>\n    <g id=\"xtick_7\">\n     <g id=\"line2d_7\">\n      <g>\n       <use xlink:href=\"#m67827ba765\" x=\"151.112314\" y=\"216.421\" style=\"stroke: #000000; stroke-width: 0.6\"/>\n      </g>\n     </g>\n    </g>\n    <g id=\"xtick_8\">\n     <g id=\"line2d_8\">\n      <g>\n       <use xlink:href=\"#m67827ba765\" x=\"160.49738\" y=\"216.421\" style=\"stroke: #000000; stroke-width: 0.6\"/>\n      </g>\n     </g>\n    </g>\n    <g id=\"xtick_9\">\n     <g id=\"line2d_9\">\n      <g>\n       <use xlink:href=\"#m67827ba765\" x=\"168.43234\" y=\"216.421\" style=\"stroke: #000000; stroke-width: 0.6\"/>\n      </g>\n     </g>\n    </g>\n    <g id=\"xtick_10\">\n     <g id=\"line2d_10\">\n      <g>\n       <use xlink:href=\"#m67827ba765\" x=\"175.305914\" y=\"216.421\" style=\"stroke: #000000; stroke-width: 0.6\"/>\n      </g>\n     </g>\n    </g>\n    <g id=\"xtick_11\">\n     <g id=\"line2d_11\">\n      <g>\n       <use xlink:href=\"#m67827ba765\" x=\"181.368837\" y=\"216.421\" style=\"stroke: #000000; stroke-width: 0.6\"/>\n      </g>\n     </g>\n    </g>\n    <g id=\"xtick_12\">\n     <g id=\"line2d_12\">\n      <g>\n       <use xlink:href=\"#m67827ba765\" x=\"222.472299\" y=\"216.421\" style=\"stroke: #000000; stroke-width: 0.6\"/>\n      </g>\n     </g>\n    </g>\n    <g id=\"xtick_13\">\n     <g id=\"line2d_13\">\n      <g>\n       <use xlink:href=\"#m67827ba765\" x=\"243.343756\" y=\"216.421\" style=\"stroke: #000000; stroke-width: 0.6\"/>\n      </g>\n     </g>\n    </g>\n    <g id=\"xtick_14\">\n     <g id=\"line2d_14\">\n      <g>\n       <use xlink:href=\"#m67827ba765\" x=\"258.152291\" y=\"216.421\" style=\"stroke: #000000; stroke-width: 0.6\"/>\n      </g>\n     </g>\n    </g>\n    <g id=\"xtick_15\">\n     <g id=\"line2d_15\">\n      <g>\n       <use xlink:href=\"#m67827ba765\" x=\"269.638683\" y=\"216.421\" style=\"stroke: #000000; stroke-width: 0.6\"/>\n      </g>\n     </g>\n    </g>\n    <g id=\"xtick_16\">\n     <g id=\"line2d_16\">\n      <g>\n       <use xlink:href=\"#m67827ba765\" x=\"279.023749\" y=\"216.421\" style=\"stroke: #000000; stroke-width: 0.6\"/>\n      </g>\n     </g>\n    </g>\n    <g id=\"xtick_17\">\n     <g id=\"line2d_17\">\n      <g>\n       <use xlink:href=\"#m67827ba765\" x=\"286.958709\" y=\"216.421\" style=\"stroke: #000000; stroke-width: 0.6\"/>\n      </g>\n     </g>\n    </g>\n    <g id=\"xtick_18\">\n     <g id=\"line2d_18\">\n      <g>\n       <use xlink:href=\"#m67827ba765\" x=\"293.832283\" y=\"216.421\" style=\"stroke: #000000; stroke-width: 0.6\"/>\n      </g>\n     </g>\n    </g>\n    <g id=\"xtick_19\">\n     <g id=\"line2d_19\">\n      <g>\n       <use xlink:href=\"#m67827ba765\" x=\"299.895206\" y=\"216.421\" style=\"stroke: #000000; stroke-width: 0.6\"/>\n      </g>\n     </g>\n    </g>\n    <g id=\"xtick_20\">\n     <g id=\"line2d_20\">\n      <g>\n       <use xlink:href=\"#m67827ba765\" x=\"340.998668\" y=\"216.421\" style=\"stroke: #000000; stroke-width: 0.6\"/>\n      </g>\n     </g>\n    </g>\n    <g id=\"xtick_21\">\n     <g id=\"line2d_21\">\n      <g>\n       <use xlink:href=\"#m67827ba765\" x=\"361.870125\" y=\"216.421\" style=\"stroke: #000000; stroke-width: 0.6\"/>\n      </g>\n     </g>\n    </g>\n    <g id=\"xtick_22\">\n     <g id=\"line2d_22\">\n      <g>\n       <use xlink:href=\"#m67827ba765\" x=\"376.67866\" y=\"216.421\" style=\"stroke: #000000; stroke-width: 0.6\"/>\n      </g>\n     </g>\n    </g>\n    <g id=\"xtick_23\">\n     <g id=\"line2d_23\">\n      <g>\n       <use xlink:href=\"#m67827ba765\" x=\"388.165052\" y=\"216.421\" style=\"stroke: #000000; stroke-width: 0.6\"/>\n      </g>\n     </g>\n    </g>\n    <g id=\"xtick_24\">\n     <g id=\"line2d_24\">\n      <g>\n       <use xlink:href=\"#m67827ba765\" x=\"397.550118\" y=\"216.421\" style=\"stroke: #000000; stroke-width: 0.6\"/>\n      </g>\n     </g>\n    </g>\n    <g id=\"xtick_25\">\n     <g id=\"line2d_25\">\n      <g>\n       <use xlink:href=\"#m67827ba765\" x=\"405.485077\" y=\"216.421\" style=\"stroke: #000000; stroke-width: 0.6\"/>\n      </g>\n     </g>\n    </g>\n    <g id=\"xtick_26\">\n     <g id=\"line2d_26\">\n      <g>\n       <use xlink:href=\"#m67827ba765\" x=\"412.358652\" y=\"216.421\" style=\"stroke: #000000; stroke-width: 0.6\"/>\n      </g>\n     </g>\n    </g>\n    <g id=\"text_4\">\n     <!--  f [Hz] (sig1) -->\n     <g transform=\"translate(208.349795 243.72975)scale(0.1 -0.1)\">\n      <defs>\n       <path id=\"DejaVuSerif-20\" transform=\"scale(0.015625)\"/>\n       <path id=\"DejaVuSerif-66\" d=\"M 2753 4078 \nL 2450 4078 \nQ 2447 4313 2317 4434 \nQ 2188 4556 1941 4556 \nQ 1619 4556 1487 4379 \nQ 1356 4203 1356 3750 \nL 1356 3322 \nL 2284 3322 \nL 2284 2988 \nL 1356 2988 \nL 1356 331 \nL 2094 331 \nL 2094 0 \nL 231 0 \nL 231 331 \nL 781 331 \nL 781 2988 \nL 231 2988 \nL 231 3322 \nL 781 3322 \nL 781 3738 \nQ 781 4294 1070 4578 \nQ 1359 4863 1919 4863 \nQ 2128 4863 2337 4825 \nQ 2547 4788 2753 4709 \nL 2753 4078 \nz\n\" transform=\"scale(0.015625)\"/>\n       <path id=\"DejaVuSerif-5b\" d=\"M 550 4863 \nL 2003 4863 \nL 2003 4531 \nL 1147 4531 \nL 1147 -513 \nL 2003 -513 \nL 2003 -844 \nL 550 -844 \nL 550 4863 \nz\n\" transform=\"scale(0.015625)\"/>\n       <path id=\"DejaVuSerif-48\" d=\"M 353 0 \nL 353 331 \nL 947 331 \nL 947 4331 \nL 353 4331 \nL 353 4666 \nL 2175 4666 \nL 2175 4331 \nL 1581 4331 \nL 1581 2719 \nL 4000 2719 \nL 4000 4331 \nL 3406 4331 \nL 3406 4666 \nL 5228 4666 \nL 5228 4331 \nL 4634 4331 \nL 4634 331 \nL 5228 331 \nL 5228 0 \nL 3406 0 \nL 3406 331 \nL 4000 331 \nL 4000 2338 \nL 1581 2338 \nL 1581 331 \nL 2175 331 \nL 2175 0 \nL 353 0 \nz\n\" transform=\"scale(0.015625)\"/>\n       <path id=\"DejaVuSerif-7a\" d=\"M 256 0 \nL 256 269 \nL 2338 2988 \nL 691 2988 \nL 691 2413 \nL 359 2413 \nL 359 3322 \nL 3078 3322 \nL 3078 3053 \nL 997 331 \nL 2803 331 \nL 2803 934 \nL 3138 934 \nL 3138 0 \nL 256 0 \nz\n\" transform=\"scale(0.015625)\"/>\n       <path id=\"DejaVuSerif-5d\" d=\"M 1947 4863 \nL 1947 -844 \nL 494 -844 \nL 494 -513 \nL 1350 -513 \nL 1350 4531 \nL 494 4531 \nL 494 4863 \nL 1947 4863 \nz\n\" transform=\"scale(0.015625)\"/>\n       <path id=\"DejaVuSerif-28\" d=\"M 2041 -997 \nQ 1281 -656 893 83 \nQ 506 822 506 1931 \nQ 506 3044 893 3783 \nQ 1281 4522 2041 4863 \nL 2041 4556 \nQ 1559 4225 1350 3623 \nQ 1141 3022 1141 1931 \nQ 1141 844 1350 242 \nQ 1559 -359 2041 -691 \nL 2041 -997 \nz\n\" transform=\"scale(0.015625)\"/>\n       <path id=\"DejaVuSerif-73\" d=\"M 359 184 \nL 359 959 \nL 691 959 \nQ 703 588 923 403 \nQ 1144 219 1575 219 \nQ 1963 219 2166 364 \nQ 2369 509 2369 788 \nQ 2369 1006 2220 1140 \nQ 2072 1275 1594 1428 \nL 1178 1569 \nQ 750 1706 558 1912 \nQ 366 2119 366 2438 \nQ 366 2894 700 3153 \nQ 1034 3413 1625 3413 \nQ 1888 3413 2178 3344 \nQ 2469 3275 2778 3144 \nL 2778 2419 \nL 2447 2419 \nQ 2434 2741 2221 2922 \nQ 2009 3103 1644 3103 \nQ 1281 3103 1095 2975 \nQ 909 2847 909 2591 \nQ 909 2381 1050 2254 \nQ 1191 2128 1613 1997 \nL 2069 1856 \nQ 2541 1709 2748 1489 \nQ 2956 1269 2956 922 \nQ 2956 450 2595 179 \nQ 2234 -91 1600 -91 \nQ 1278 -91 972 -22 \nQ 666 47 359 184 \nz\n\" transform=\"scale(0.015625)\"/>\n       <path id=\"DejaVuSerif-69\" d=\"M 622 4353 \nQ 622 4497 726 4603 \nQ 831 4709 978 4709 \nQ 1122 4709 1226 4603 \nQ 1331 4497 1331 4353 \nQ 1331 4206 1228 4103 \nQ 1125 4000 978 4000 \nQ 831 4000 726 4103 \nQ 622 4206 622 4353 \nz\nM 1356 331 \nL 1900 331 \nL 1900 0 \nL 231 0 \nL 231 331 \nL 781 331 \nL 781 2988 \nL 231 2988 \nL 231 3322 \nL 1356 3322 \nL 1356 331 \nz\n\" transform=\"scale(0.015625)\"/>\n       <path id=\"DejaVuSerif-67\" d=\"M 3359 2988 \nL 3359 72 \nQ 3359 -644 2965 -1033 \nQ 2572 -1422 1844 -1422 \nQ 1516 -1422 1216 -1362 \nQ 916 -1303 641 -1184 \nL 641 -488 \nL 941 -488 \nQ 997 -813 1206 -963 \nQ 1416 -1113 1806 -1113 \nQ 2313 -1113 2548 -827 \nQ 2784 -541 2784 72 \nL 2784 519 \nQ 2616 206 2355 57 \nQ 2094 -91 1709 -91 \nQ 1097 -91 708 395 \nQ 319 881 319 1663 \nQ 319 2444 706 2928 \nQ 1094 3413 1709 3413 \nQ 2094 3413 2355 3264 \nQ 2616 3116 2784 2803 \nL 2784 3322 \nL 3909 3322 \nL 3909 2988 \nL 3359 2988 \nz\nM 2784 1825 \nQ 2784 2422 2554 2737 \nQ 2325 3053 1888 3053 \nQ 1444 3053 1217 2703 \nQ 991 2353 991 1663 \nQ 991 975 1217 622 \nQ 1444 269 1888 269 \nQ 2325 269 2554 583 \nQ 2784 897 2784 1497 \nL 2784 1825 \nz\n\" transform=\"scale(0.015625)\"/>\n       <path id=\"DejaVuSerif-29\" d=\"M 453 -997 \nL 453 -691 \nQ 934 -359 1145 242 \nQ 1356 844 1356 1931 \nQ 1356 3022 1145 3623 \nQ 934 4225 453 4556 \nL 453 4863 \nQ 1216 4522 1603 3783 \nQ 1991 3044 1991 1931 \nQ 1991 822 1603 83 \nQ 1216 -656 453 -997 \nz\n\" transform=\"scale(0.015625)\"/>\n      </defs>\n      <use xlink:href=\"#DejaVuSerif-20\"/>\n      <use xlink:href=\"#DejaVuSerif-66\" x=\"31.787109\"/>\n      <use xlink:href=\"#DejaVuSerif-20\" x=\"68.798828\"/>\n      <use xlink:href=\"#DejaVuSerif-5b\" x=\"100.585938\"/>\n      <use xlink:href=\"#DejaVuSerif-48\" x=\"139.599609\"/>\n      <use xlink:href=\"#DejaVuSerif-7a\" x=\"226.806641\"/>\n      <use xlink:href=\"#DejaVuSerif-5d\" x=\"279.492188\"/>\n      <use xlink:href=\"#DejaVuSerif-20\" x=\"318.505859\"/>\n      <use xlink:href=\"#DejaVuSerif-28\" x=\"350.292969\"/>\n      <use xlink:href=\"#DejaVuSerif-73\" x=\"389.306641\"/>\n      <use xlink:href=\"#DejaVuSerif-69\" x=\"440.625\"/>\n      <use xlink:href=\"#DejaVuSerif-67\" x=\"472.607422\"/>\n      <use xlink:href=\"#DejaVuSerif-31\" x=\"536.621094\"/>\n      <use xlink:href=\"#DejaVuSerif-29\" x=\"600.244141\"/>\n     </g>\n    </g>\n   </g>\n   <g id=\"matplotlib.axis_2\">\n    <g id=\"ytick_1\">\n     <g id=\"line2d_27\">\n      <defs>\n       <path id=\"m7d40326965\" d=\"M 0 0 \nL -3.5 0 \n\" style=\"stroke: #000000; stroke-width: 0.8\"/>\n      </defs>\n      <g>\n       <use xlink:href=\"#m7d40326965\" x=\"68.265937\" y=\"185.730676\" style=\"stroke: #000000; stroke-width: 0.8\"/>\n      </g>\n     </g>\n     <g id=\"text_5\">\n      <!-- $\\mathdefault{0.000135}$ -->\n      <g transform=\"translate(18.245937 189.149972)scale(0.09 -0.09)\">\n       <defs>\n        <path id=\"DejaVuSerif-2e\" d=\"M 603 325 \nQ 603 500 722 622 \nQ 841 744 1019 744 \nQ 1191 744 1312 622 \nQ 1434 500 1434 325 \nQ 1434 153 1312 31 \nQ 1191 -91 1019 -91 \nQ 841 -91 722 29 \nQ 603 150 603 325 \nz\n\" transform=\"scale(0.015625)\"/>\n        <path id=\"DejaVuSerif-33\" d=\"M 622 4469 \nQ 988 4606 1323 4678 \nQ 1659 4750 1953 4750 \nQ 2638 4750 3022 4454 \nQ 3406 4159 3406 3634 \nQ 3406 3213 3140 2930 \nQ 2875 2647 2388 2547 \nQ 2963 2466 3280 2130 \nQ 3597 1794 3597 1259 \nQ 3597 606 3158 257 \nQ 2719 -91 1894 -91 \nQ 1528 -91 1179 -12 \nQ 831 66 488 225 \nL 488 1131 \nL 838 1131 \nQ 869 681 1141 450 \nQ 1413 219 1906 219 \nQ 2384 219 2661 495 \nQ 2938 772 2938 1253 \nQ 2938 1803 2653 2086 \nQ 2369 2369 1819 2369 \nL 1522 2369 \nL 1522 2688 \nL 1678 2688 \nQ 2225 2688 2498 2914 \nQ 2772 3141 2772 3597 \nQ 2772 4006 2547 4223 \nQ 2322 4441 1900 4441 \nQ 1478 4441 1245 4241 \nQ 1013 4041 972 3647 \nL 622 3647 \nL 622 4469 \nz\n\" transform=\"scale(0.015625)\"/>\n        <path id=\"DejaVuSerif-35\" d=\"M 3219 4666 \nL 3219 4153 \nL 1081 4153 \nL 1081 2816 \nQ 1244 2928 1461 2984 \nQ 1678 3041 1947 3041 \nQ 2703 3041 3140 2622 \nQ 3578 2203 3578 1478 \nQ 3578 738 3136 323 \nQ 2694 -91 1894 -91 \nQ 1572 -91 1234 -12 \nQ 897 66 544 225 \nL 544 1131 \nL 897 1131 \nQ 925 688 1179 453 \nQ 1434 219 1894 219 \nQ 2388 219 2653 544 \nQ 2919 869 2919 1478 \nQ 2919 2084 2655 2407 \nQ 2391 2731 1894 2731 \nQ 1613 2731 1398 2631 \nQ 1184 2531 1019 2322 \nL 750 2322 \nL 750 4666 \nL 3219 4666 \nz\n\" transform=\"scale(0.015625)\"/>\n       </defs>\n       <use xlink:href=\"#DejaVuSerif-30\" transform=\"translate(0 0.78125)\"/>\n       <use xlink:href=\"#DejaVuSerif-2e\" transform=\"translate(63.623047 0.78125)\"/>\n       <use xlink:href=\"#DejaVuSerif-30\" transform=\"translate(95.410156 0.78125)\"/>\n       <use xlink:href=\"#DejaVuSerif-30\" transform=\"translate(159.033203 0.78125)\"/>\n       <use xlink:href=\"#DejaVuSerif-30\" transform=\"translate(222.65625 0.78125)\"/>\n       <use xlink:href=\"#DejaVuSerif-31\" transform=\"translate(286.279297 0.78125)\"/>\n       <use xlink:href=\"#DejaVuSerif-33\" transform=\"translate(349.902344 0.78125)\"/>\n       <use xlink:href=\"#DejaVuSerif-35\" transform=\"translate(413.525391 0.78125)\"/>\n      </g>\n     </g>\n    </g>\n    <g id=\"ytick_2\">\n     <g id=\"line2d_28\">\n      <g>\n       <use xlink:href=\"#m7d40326965\" x=\"68.265937\" y=\"152.371103\" style=\"stroke: #000000; stroke-width: 0.8\"/>\n      </g>\n     </g>\n     <g id=\"text_6\">\n      <!-- $\\mathdefault{0.000140}$ -->\n      <g transform=\"translate(18.245937 155.7904)scale(0.09 -0.09)\">\n       <defs>\n        <path id=\"DejaVuSerif-34\" d=\"M 2234 1581 \nL 2234 4063 \nL 641 1581 \nL 2234 1581 \nz\nM 3609 0 \nL 1484 0 \nL 1484 331 \nL 2234 331 \nL 2234 1247 \nL 197 1247 \nL 197 1588 \nL 2241 4750 \nL 2859 4750 \nL 2859 1581 \nL 3750 1581 \nL 3750 1247 \nL 2859 1247 \nL 2859 331 \nL 3609 331 \nL 3609 0 \nz\n\" transform=\"scale(0.015625)\"/>\n       </defs>\n       <use xlink:href=\"#DejaVuSerif-30\" transform=\"translate(0 0.78125)\"/>\n       <use xlink:href=\"#DejaVuSerif-2e\" transform=\"translate(63.623047 0.78125)\"/>\n       <use xlink:href=\"#DejaVuSerif-30\" transform=\"translate(95.410156 0.78125)\"/>\n       <use xlink:href=\"#DejaVuSerif-30\" transform=\"translate(159.033203 0.78125)\"/>\n       <use xlink:href=\"#DejaVuSerif-30\" transform=\"translate(222.65625 0.78125)\"/>\n       <use xlink:href=\"#DejaVuSerif-31\" transform=\"translate(286.279297 0.78125)\"/>\n       <use xlink:href=\"#DejaVuSerif-34\" transform=\"translate(349.902344 0.78125)\"/>\n       <use xlink:href=\"#DejaVuSerif-30\" transform=\"translate(413.525391 0.78125)\"/>\n      </g>\n     </g>\n    </g>\n    <g id=\"ytick_3\">\n     <g id=\"line2d_29\">\n      <g>\n       <use xlink:href=\"#m7d40326965\" x=\"68.265937\" y=\"119.01153\" style=\"stroke: #000000; stroke-width: 0.8\"/>\n      </g>\n     </g>\n     <g id=\"text_7\">\n      <!-- $\\mathdefault{0.000145}$ -->\n      <g transform=\"translate(18.245937 122.430827)scale(0.09 -0.09)\">\n       <use xlink:href=\"#DejaVuSerif-30\" transform=\"translate(0 0.78125)\"/>\n       <use xlink:href=\"#DejaVuSerif-2e\" transform=\"translate(63.623047 0.78125)\"/>\n       <use xlink:href=\"#DejaVuSerif-30\" transform=\"translate(95.410156 0.78125)\"/>\n       <use xlink:href=\"#DejaVuSerif-30\" transform=\"translate(159.033203 0.78125)\"/>\n       <use xlink:href=\"#DejaVuSerif-30\" transform=\"translate(222.65625 0.78125)\"/>\n       <use xlink:href=\"#DejaVuSerif-31\" transform=\"translate(286.279297 0.78125)\"/>\n       <use xlink:href=\"#DejaVuSerif-34\" transform=\"translate(349.902344 0.78125)\"/>\n       <use xlink:href=\"#DejaVuSerif-35\" transform=\"translate(413.525391 0.78125)\"/>\n      </g>\n     </g>\n    </g>\n    <g id=\"ytick_4\">\n     <g id=\"line2d_30\">\n      <g>\n       <use xlink:href=\"#m7d40326965\" x=\"68.265937\" y=\"85.651957\" style=\"stroke: #000000; stroke-width: 0.8\"/>\n      </g>\n     </g>\n     <g id=\"text_8\">\n      <!-- $\\mathdefault{0.000150}$ -->\n      <g transform=\"translate(18.245937 89.071254)scale(0.09 -0.09)\">\n       <use xlink:href=\"#DejaVuSerif-30\" transform=\"translate(0 0.78125)\"/>\n       <use xlink:href=\"#DejaVuSerif-2e\" transform=\"translate(63.623047 0.78125)\"/>\n       <use xlink:href=\"#DejaVuSerif-30\" transform=\"translate(95.410156 0.78125)\"/>\n       <use xlink:href=\"#DejaVuSerif-30\" transform=\"translate(159.033203 0.78125)\"/>\n       <use xlink:href=\"#DejaVuSerif-30\" transform=\"translate(222.65625 0.78125)\"/>\n       <use xlink:href=\"#DejaVuSerif-31\" transform=\"translate(286.279297 0.78125)\"/>\n       <use xlink:href=\"#DejaVuSerif-35\" transform=\"translate(349.902344 0.78125)\"/>\n       <use xlink:href=\"#DejaVuSerif-30\" transform=\"translate(413.525391 0.78125)\"/>\n      </g>\n     </g>\n    </g>\n    <g id=\"ytick_5\">\n     <g id=\"line2d_31\">\n      <g>\n       <use xlink:href=\"#m7d40326965\" x=\"68.265937\" y=\"52.292384\" style=\"stroke: #000000; stroke-width: 0.8\"/>\n      </g>\n     </g>\n     <g id=\"text_9\">\n      <!-- $\\mathdefault{0.000155}$ -->\n      <g transform=\"translate(18.245937 55.711681)scale(0.09 -0.09)\">\n       <use xlink:href=\"#DejaVuSerif-30\" transform=\"translate(0 0.78125)\"/>\n       <use xlink:href=\"#DejaVuSerif-2e\" transform=\"translate(63.623047 0.78125)\"/>\n       <use xlink:href=\"#DejaVuSerif-30\" transform=\"translate(95.410156 0.78125)\"/>\n       <use xlink:href=\"#DejaVuSerif-30\" transform=\"translate(159.033203 0.78125)\"/>\n       <use xlink:href=\"#DejaVuSerif-30\" transform=\"translate(222.65625 0.78125)\"/>\n       <use xlink:href=\"#DejaVuSerif-31\" transform=\"translate(286.279297 0.78125)\"/>\n       <use xlink:href=\"#DejaVuSerif-35\" transform=\"translate(349.902344 0.78125)\"/>\n       <use xlink:href=\"#DejaVuSerif-35\" transform=\"translate(413.525391 0.78125)\"/>\n      </g>\n     </g>\n    </g>\n    <g id=\"ytick_6\">\n     <g id=\"line2d_32\">\n      <g>\n       <use xlink:href=\"#m7d40326965\" x=\"68.265937\" y=\"18.932812\" style=\"stroke: #000000; stroke-width: 0.8\"/>\n      </g>\n     </g>\n     <g id=\"text_10\">\n      <!-- $\\mathdefault{0.000160}$ -->\n      <g transform=\"translate(18.245937 22.352109)scale(0.09 -0.09)\">\n       <defs>\n        <path id=\"DejaVuSerif-36\" d=\"M 2094 219 \nQ 2534 219 2771 542 \nQ 3009 866 3009 1472 \nQ 3009 2078 2771 2401 \nQ 2534 2725 2094 2725 \nQ 1647 2725 1412 2412 \nQ 1178 2100 1178 1509 \nQ 1178 888 1415 553 \nQ 1653 219 2094 219 \nz\nM 1075 2569 \nQ 1288 2803 1556 2918 \nQ 1825 3034 2163 3034 \nQ 2859 3034 3264 2615 \nQ 3669 2197 3669 1472 \nQ 3669 763 3233 336 \nQ 2797 -91 2069 -91 \nQ 1278 -91 853 498 \nQ 428 1088 428 2181 \nQ 428 3406 931 4078 \nQ 1434 4750 2350 4750 \nQ 2597 4750 2869 4703 \nQ 3141 4656 3425 4563 \nL 3425 3794 \nL 3072 3794 \nQ 3034 4109 2831 4275 \nQ 2628 4441 2284 4441 \nQ 1678 4441 1381 3981 \nQ 1084 3522 1075 2569 \nz\n\" transform=\"scale(0.015625)\"/>\n       </defs>\n       <use xlink:href=\"#DejaVuSerif-30\" transform=\"translate(0 0.78125)\"/>\n       <use xlink:href=\"#DejaVuSerif-2e\" transform=\"translate(63.623047 0.78125)\"/>\n       <use xlink:href=\"#DejaVuSerif-30\" transform=\"translate(95.410156 0.78125)\"/>\n       <use xlink:href=\"#DejaVuSerif-30\" transform=\"translate(159.033203 0.78125)\"/>\n       <use xlink:href=\"#DejaVuSerif-30\" transform=\"translate(222.65625 0.78125)\"/>\n       <use xlink:href=\"#DejaVuSerif-31\" transform=\"translate(286.279297 0.78125)\"/>\n       <use xlink:href=\"#DejaVuSerif-36\" transform=\"translate(349.902344 0.78125)\"/>\n       <use xlink:href=\"#DejaVuSerif-30\" transform=\"translate(413.525391 0.78125)\"/>\n      </g>\n     </g>\n    </g>\n    <g id=\"text_11\">\n     <!-- [au] -->\n     <g transform=\"translate(11.958281 121.123937)rotate(-90)scale(0.11 -0.11)\">\n      <defs>\n       <path id=\"DejaVuSerif-61\" d=\"M 2547 1044 \nL 2547 1747 \nL 1806 1747 \nQ 1378 1747 1168 1562 \nQ 959 1378 959 997 \nQ 959 650 1171 447 \nQ 1384 244 1747 244 \nQ 2106 244 2326 466 \nQ 2547 688 2547 1044 \nz\nM 3122 2075 \nL 3122 331 \nL 3634 331 \nL 3634 0 \nL 2547 0 \nL 2547 359 \nQ 2356 128 2106 18 \nQ 1856 -91 1522 -91 \nQ 969 -91 644 203 \nQ 319 497 319 997 \nQ 319 1513 691 1797 \nQ 1063 2081 1741 2081 \nL 2547 2081 \nL 2547 2309 \nQ 2547 2688 2317 2895 \nQ 2088 3103 1672 3103 \nQ 1328 3103 1125 2947 \nQ 922 2791 872 2484 \nL 575 2484 \nL 575 3156 \nQ 875 3284 1158 3348 \nQ 1441 3413 1709 3413 \nQ 2400 3413 2761 3070 \nQ 3122 2728 3122 2075 \nz\n\" transform=\"scale(0.015625)\"/>\n       <path id=\"DejaVuSerif-75\" d=\"M 2266 3322 \nL 3341 3322 \nL 3341 331 \nL 3884 331 \nL 3884 0 \nL 2766 0 \nL 2766 588 \nQ 2606 256 2353 82 \nQ 2100 -91 1766 -91 \nQ 1213 -91 952 223 \nQ 691 538 691 1209 \nL 691 2988 \nL 172 2988 \nL 172 3322 \nL 1269 3322 \nL 1269 1388 \nQ 1269 781 1417 556 \nQ 1566 331 1947 331 \nQ 2347 331 2556 625 \nQ 2766 919 2766 1478 \nL 2766 2988 \nL 2266 2988 \nL 2266 3322 \nz\n\" transform=\"scale(0.015625)\"/>\n      </defs>\n      <use xlink:href=\"#DejaVuSerif-5b\"/>\n      <use xlink:href=\"#DejaVuSerif-61\" x=\"39.013672\"/>\n      <use xlink:href=\"#DejaVuSerif-75\" x=\"98.632812\"/>\n      <use xlink:href=\"#DejaVuSerif-5d\" x=\"163.037109\"/>\n     </g>\n    </g>\n   </g>\n   <g id=\"line2d_33\">\n    <path d=\"M 68.265937 13.273682 \nL 215.365573 13.386149 \nL 244.613454 13.624778 \nL 262.678321 13.98217 \nL 276.011914 14.462765 \nL 286.334696 15.048672 \nL 294.937013 15.751564 \nL 302.248984 16.563231 \nL 308.700722 17.496669 \nL 314.292229 18.516292 \nL 319.453619 19.673348 \nL 324.184894 20.955334 \nL 328.486053 22.340374 \nL 332.787212 23.97253 \nL 336.658255 25.68821 \nL 340.099182 27.43973 \nL 343.540109 29.434452 \nL 346.981037 31.704968 \nL 349.991848 33.946585 \nL 353.002659 36.454601 \nL 356.01347 39.259084 \nL 359.024282 42.393084 \nL 362.035093 45.892833 \nL 364.615788 49.213637 \nL 367.196484 52.859155 \nL 369.777179 56.858307 \nL 372.357874 61.241992 \nL 374.93857 66.043098 \nL 377.519265 71.296476 \nL 380.09996 77.038872 \nL 382.680656 83.308816 \nL 385.261351 90.146448 \nL 387.842046 97.593279 \nL 390.422742 105.691876 \nL 393.003437 114.485453 \nL 395.584132 124.017376 \nL 398.164828 134.330549 \nL 400.745523 145.466703 \nL 403.326219 157.465565 \nL 406.33703 172.603461 \nL 409.347841 189.016877 \nL 412.358652 206.747318 \nL 412.358652 206.747318 \n\" clip-path=\"url(#pa320d36999)\" style=\"fill: none; stroke: #0000ff; stroke-width: 1.2; stroke-linecap: square\"/>\n   </g>\n   <g id=\"patch_3\">\n    <path d=\"M 68.265937 216.421 \nL 68.265937 3.6 \n\" style=\"fill: none; stroke: #000000; stroke-width: 0.8; stroke-linejoin: miter; stroke-linecap: square\"/>\n   </g>\n   <g id=\"patch_4\">\n    <path d=\"M 412.358652 216.421 \nL 412.358652 3.6 \n\" style=\"fill: none; stroke: #000000; stroke-width: 0.8; stroke-linejoin: miter; stroke-linecap: square\"/>\n   </g>\n   <g id=\"patch_5\">\n    <path d=\"M 68.265937 216.421 \nL 412.358652 216.421 \n\" style=\"fill: none; stroke: #000000; stroke-width: 0.8; stroke-linejoin: miter; stroke-linecap: square\"/>\n   </g>\n   <g id=\"patch_6\">\n    <path d=\"M 68.265937 3.6 \nL 412.358652 3.6 \n\" style=\"fill: none; stroke: #000000; stroke-width: 0.8; stroke-linejoin: miter; stroke-linecap: square\"/>\n   </g>\n   <g id=\"legend_1\">\n    <g id=\"patch_7\">\n     <path d=\"M 75.265937 211.421 \nL 153.126875 211.421 \nQ 155.126875 211.421 155.126875 209.421 \nL 155.126875 195.46475 \nQ 155.126875 193.46475 153.126875 193.46475 \nL 75.265937 193.46475 \nQ 73.265937 193.46475 73.265937 195.46475 \nL 73.265937 209.421 \nQ 73.265937 211.421 75.265937 211.421 \nz\n\" style=\"fill: #ffffff; opacity: 0.8; stroke: #cccccc; stroke-linejoin: miter\"/>\n    </g>\n    <g id=\"line2d_34\">\n     <path d=\"M 77.265937 201.563187 \nL 87.265937 201.563187 \nL 97.265937 201.563187 \n\" style=\"fill: none; stroke: #0000ff; stroke-width: 1.2; stroke-linecap: square\"/>\n    </g>\n    <g id=\"text_12\">\n     <!-- refl_Q_f3 -->\n     <g transform=\"translate(105.265937 205.063187)scale(0.1 -0.1)\">\n      <defs>\n       <path id=\"DejaVuSerif-72\" d=\"M 3059 3328 \nL 3059 2497 \nL 2728 2497 \nQ 2713 2744 2591 2866 \nQ 2469 2988 2234 2988 \nQ 1809 2988 1582 2694 \nQ 1356 2400 1356 1850 \nL 1356 331 \nL 2022 331 \nL 2022 0 \nL 263 0 \nL 263 331 \nL 781 331 \nL 781 2994 \nL 231 2994 \nL 231 3322 \nL 1356 3322 \nL 1356 2731 \nQ 1525 3078 1790 3245 \nQ 2056 3413 2438 3413 \nQ 2578 3413 2733 3391 \nQ 2888 3369 3059 3328 \nz\n\" transform=\"scale(0.015625)\"/>\n       <path id=\"DejaVuSerif-65\" d=\"M 3469 1600 \nL 991 1600 \nL 991 1575 \nQ 991 903 1244 561 \nQ 1497 219 1991 219 \nQ 2369 219 2611 417 \nQ 2853 616 2950 1006 \nL 3413 1006 \nQ 3275 459 2904 184 \nQ 2534 -91 1931 -91 \nQ 1203 -91 761 389 \nQ 319 869 319 1663 \nQ 319 2450 753 2931 \nQ 1188 3413 1894 3413 \nQ 2647 3413 3050 2948 \nQ 3453 2484 3469 1600 \nz\nM 2791 1931 \nQ 2772 2513 2545 2808 \nQ 2319 3103 1894 3103 \nQ 1497 3103 1269 2806 \nQ 1041 2509 991 1931 \nL 2791 1931 \nz\n\" transform=\"scale(0.015625)\"/>\n       <path id=\"DejaVuSerif-6c\" d=\"M 1313 331 \nL 1856 331 \nL 1856 0 \nL 184 0 \nL 184 331 \nL 738 331 \nL 738 4531 \nL 184 4531 \nL 184 4863 \nL 1313 4863 \nL 1313 331 \nz\n\" transform=\"scale(0.015625)\"/>\n       <path id=\"DejaVuSerif-5f\" d=\"M 3200 -1259 \nL 3200 -1509 \nL 0 -1509 \nL 0 -1259 \nL 3200 -1259 \nz\n\" transform=\"scale(0.015625)\"/>\n       <path id=\"DejaVuSerif-51\" d=\"M 2700 -91 \nQ 1628 -91 993 567 \nQ 359 1225 359 2328 \nQ 359 2894 529 3339 \nQ 700 3784 1050 4134 \nQ 1356 4441 1750 4595 \nQ 2144 4750 2625 4750 \nQ 3641 4750 4266 4084 \nQ 4891 3419 4891 2328 \nQ 4891 1403 4422 773 \nQ 3953 144 3128 -38 \nQ 3297 -247 3539 -347 \nQ 3781 -447 4122 -447 \nL 4219 -447 \nL 4219 -1025 \nQ 3691 -1000 3314 -767 \nQ 2938 -534 2700 -91 \nz\nM 2625 244 \nQ 3391 244 3781 770 \nQ 4172 1297 4172 2328 \nQ 4172 3363 3781 3889 \nQ 3391 4416 2625 4416 \nQ 1856 4416 1465 3889 \nQ 1075 3363 1075 2328 \nQ 1075 1297 1465 770 \nQ 1856 244 2625 244 \nz\n\" transform=\"scale(0.015625)\"/>\n      </defs>\n      <use xlink:href=\"#DejaVuSerif-72\"/>\n      <use xlink:href=\"#DejaVuSerif-65\" x=\"47.802734\"/>\n      <use xlink:href=\"#DejaVuSerif-66\" x=\"106.982422\"/>\n      <use xlink:href=\"#DejaVuSerif-6c\" x=\"143.994141\"/>\n      <use xlink:href=\"#DejaVuSerif-5f\" x=\"175.976562\"/>\n      <use xlink:href=\"#DejaVuSerif-51\" x=\"225.976562\"/>\n      <use xlink:href=\"#DejaVuSerif-5f\" x=\"307.958984\"/>\n      <use xlink:href=\"#DejaVuSerif-66\" x=\"357.958984\"/>\n      <use xlink:href=\"#DejaVuSerif-33\" x=\"394.970703\"/>\n     </g>\n    </g>\n   </g>\n  </g>\n </g>\n <defs>\n  <clipPath id=\"pa320d36999\">\n   <rect x=\"68.265937\" y=\"3.6\" width=\"344.092715\" height=\"212.821\"/>\n  </clipPath>\n </defs>\n</svg>\n",
      "text/plain": [
       "<Figure size 1200x741.6 with 1 Axes>"
      ]
     },
     "metadata": {},
     "output_type": "display_data"
    },
    {
     "data": {
      "image/svg+xml": "<?xml version=\"1.0\" encoding=\"utf-8\" standalone=\"no\"?>\n<!DOCTYPE svg PUBLIC \"-//W3C//DTD SVG 1.1//EN\"\n  \"http://www.w3.org/Graphics/SVG/1.1/DTD/svg11.dtd\">\n<svg xmlns:xlink=\"http://www.w3.org/1999/xlink\" width=\"415.777949pt\" height=\"249.551625pt\" viewBox=\"0 0 415.777949 249.551625\" xmlns=\"http://www.w3.org/2000/svg\" version=\"1.1\">\n <metadata>\n  <rdf:RDF xmlns:dc=\"http://purl.org/dc/elements/1.1/\" xmlns:cc=\"http://creativecommons.org/ns#\" xmlns:rdf=\"http://www.w3.org/1999/02/22-rdf-syntax-ns#\">\n   <cc:Work>\n    <dc:type rdf:resource=\"http://purl.org/dc/dcmitype/StillImage\"/>\n    <dc:date>2022-12-07T19:48:03.076536</dc:date>\n    <dc:format>image/svg+xml</dc:format>\n    <dc:creator>\n     <cc:Agent>\n      <dc:title>Matplotlib v3.5.3, https://matplotlib.org/</dc:title>\n     </cc:Agent>\n    </dc:creator>\n   </cc:Work>\n  </rdf:RDF>\n </metadata>\n <defs>\n  <style type=\"text/css\">*{stroke-linejoin: round; stroke-linecap: butt}</style>\n </defs>\n <g id=\"figure_1\">\n  <g id=\"patch_1\">\n   <path d=\"M 0 249.551625 \nL 415.777949 249.551625 \nL 415.777949 0 \nL 0 0 \nz\n\" style=\"fill: #ffffff\"/>\n  </g>\n  <g id=\"axes_1\">\n   <g id=\"patch_2\">\n    <path d=\"M 45.315938 216.421 \nL 412.177949 216.421 \nL 412.177949 3.6 \nL 45.315938 3.6 \nz\n\" style=\"fill: #ffffff\"/>\n   </g>\n   <g id=\"matplotlib.axis_1\">\n    <g id=\"xtick_1\">\n     <g id=\"line2d_1\">\n      <defs>\n       <path id=\"mad006b6977\" d=\"M 0 0 \nL 0 3.5 \n\" style=\"stroke: #000000; stroke-width: 0.8\"/>\n      </defs>\n      <g>\n       <use xlink:href=\"#mad006b6977\" x=\"45.315938\" y=\"216.421\" style=\"stroke: #000000; stroke-width: 0.8\"/>\n      </g>\n     </g>\n     <g id=\"text_1\">\n      <!-- $\\mathdefault{10^{0}}$ -->\n      <g transform=\"translate(37.395938 230.259594)scale(0.09 -0.09)\">\n       <defs>\n        <path id=\"DejaVuSerif-31\" d=\"M 909 0 \nL 909 331 \nL 1722 331 \nL 1722 4213 \nL 781 3603 \nL 781 4013 \nL 1919 4750 \nL 2350 4750 \nL 2350 331 \nL 3163 331 \nL 3163 0 \nL 909 0 \nz\n\" transform=\"scale(0.015625)\"/>\n        <path id=\"DejaVuSerif-30\" d=\"M 2034 219 \nQ 2513 219 2750 744 \nQ 2988 1269 2988 2328 \nQ 2988 3391 2750 3916 \nQ 2513 4441 2034 4441 \nQ 1556 4441 1318 3916 \nQ 1081 3391 1081 2328 \nQ 1081 1269 1318 744 \nQ 1556 219 2034 219 \nz\nM 2034 -91 \nQ 1275 -91 848 546 \nQ 422 1184 422 2328 \nQ 422 3475 848 4112 \nQ 1275 4750 2034 4750 \nQ 2797 4750 3222 4112 \nQ 3647 3475 3647 2328 \nQ 3647 1184 3222 546 \nQ 2797 -91 2034 -91 \nz\n\" transform=\"scale(0.015625)\"/>\n       </defs>\n       <use xlink:href=\"#DejaVuSerif-31\" transform=\"translate(0 0.7125)\"/>\n       <use xlink:href=\"#DejaVuSerif-30\" transform=\"translate(63.623047 0.7125)\"/>\n       <use xlink:href=\"#DejaVuSerif-30\" transform=\"translate(128.154453 37.046875)scale(0.7)\"/>\n      </g>\n     </g>\n    </g>\n    <g id=\"xtick_2\">\n     <g id=\"line2d_2\">\n      <g>\n       <use xlink:href=\"#mad006b6977\" x=\"171.685431\" y=\"216.421\" style=\"stroke: #000000; stroke-width: 0.8\"/>\n      </g>\n     </g>\n     <g id=\"text_2\">\n      <!-- $\\mathdefault{10^{1}}$ -->\n      <g transform=\"translate(163.765431 230.259594)scale(0.09 -0.09)\">\n       <use xlink:href=\"#DejaVuSerif-31\" transform=\"translate(0 0.7125)\"/>\n       <use xlink:href=\"#DejaVuSerif-30\" transform=\"translate(63.623047 0.7125)\"/>\n       <use xlink:href=\"#DejaVuSerif-31\" transform=\"translate(128.154453 37.046875)scale(0.7)\"/>\n      </g>\n     </g>\n    </g>\n    <g id=\"xtick_3\">\n     <g id=\"line2d_3\">\n      <g>\n       <use xlink:href=\"#mad006b6977\" x=\"298.054925\" y=\"216.421\" style=\"stroke: #000000; stroke-width: 0.8\"/>\n      </g>\n     </g>\n     <g id=\"text_3\">\n      <!-- $\\mathdefault{10^{2}}$ -->\n      <g transform=\"translate(290.134925 230.259594)scale(0.09 -0.09)\">\n       <defs>\n        <path id=\"DejaVuSerif-32\" d=\"M 819 3553 \nL 469 3553 \nL 469 4384 \nQ 803 4563 1142 4656 \nQ 1481 4750 1806 4750 \nQ 2534 4750 2956 4397 \nQ 3378 4044 3378 3438 \nQ 3378 2753 2422 1800 \nQ 2347 1728 2309 1691 \nL 1131 513 \nL 3078 513 \nL 3078 1088 \nL 3444 1088 \nL 3444 0 \nL 434 0 \nL 434 341 \nL 1850 1753 \nQ 2319 2222 2519 2614 \nQ 2719 3006 2719 3438 \nQ 2719 3909 2473 4175 \nQ 2228 4441 1797 4441 \nQ 1350 4441 1106 4219 \nQ 863 3997 819 3553 \nz\n\" transform=\"scale(0.015625)\"/>\n       </defs>\n       <use xlink:href=\"#DejaVuSerif-31\" transform=\"translate(0 0.7125)\"/>\n       <use xlink:href=\"#DejaVuSerif-30\" transform=\"translate(63.623047 0.7125)\"/>\n       <use xlink:href=\"#DejaVuSerif-32\" transform=\"translate(128.154453 37.046875)scale(0.7)\"/>\n      </g>\n     </g>\n    </g>\n    <g id=\"xtick_4\">\n     <g id=\"line2d_4\">\n      <defs>\n       <path id=\"mcf41cfe168\" d=\"M 0 0 \nL 0 2 \n\" style=\"stroke: #000000; stroke-width: 0.6\"/>\n      </defs>\n      <g>\n       <use xlink:href=\"#mcf41cfe168\" x=\"83.356946\" y=\"216.421\" style=\"stroke: #000000; stroke-width: 0.6\"/>\n      </g>\n     </g>\n    </g>\n    <g id=\"xtick_5\">\n     <g id=\"line2d_5\">\n      <g>\n       <use xlink:href=\"#mcf41cfe168\" x=\"105.609509\" y=\"216.421\" style=\"stroke: #000000; stroke-width: 0.6\"/>\n      </g>\n     </g>\n    </g>\n    <g id=\"xtick_6\">\n     <g id=\"line2d_6\">\n      <g>\n       <use xlink:href=\"#mcf41cfe168\" x=\"121.397954\" y=\"216.421\" style=\"stroke: #000000; stroke-width: 0.6\"/>\n      </g>\n     </g>\n    </g>\n    <g id=\"xtick_7\">\n     <g id=\"line2d_7\">\n      <g>\n       <use xlink:href=\"#mcf41cfe168\" x=\"133.644423\" y=\"216.421\" style=\"stroke: #000000; stroke-width: 0.6\"/>\n      </g>\n     </g>\n    </g>\n    <g id=\"xtick_8\">\n     <g id=\"line2d_8\">\n      <g>\n       <use xlink:href=\"#mcf41cfe168\" x=\"143.650517\" y=\"216.421\" style=\"stroke: #000000; stroke-width: 0.6\"/>\n      </g>\n     </g>\n    </g>\n    <g id=\"xtick_9\">\n     <g id=\"line2d_9\">\n      <g>\n       <use xlink:href=\"#mcf41cfe168\" x=\"152.110549\" y=\"216.421\" style=\"stroke: #000000; stroke-width: 0.6\"/>\n      </g>\n     </g>\n    </g>\n    <g id=\"xtick_10\">\n     <g id=\"line2d_10\">\n      <g>\n       <use xlink:href=\"#mcf41cfe168\" x=\"159.438962\" y=\"216.421\" style=\"stroke: #000000; stroke-width: 0.6\"/>\n      </g>\n     </g>\n    </g>\n    <g id=\"xtick_11\">\n     <g id=\"line2d_11\">\n      <g>\n       <use xlink:href=\"#mcf41cfe168\" x=\"165.90308\" y=\"216.421\" style=\"stroke: #000000; stroke-width: 0.6\"/>\n      </g>\n     </g>\n    </g>\n    <g id=\"xtick_12\">\n     <g id=\"line2d_12\">\n      <g>\n       <use xlink:href=\"#mcf41cfe168\" x=\"209.726439\" y=\"216.421\" style=\"stroke: #000000; stroke-width: 0.6\"/>\n      </g>\n     </g>\n    </g>\n    <g id=\"xtick_13\">\n     <g id=\"line2d_13\">\n      <g>\n       <use xlink:href=\"#mcf41cfe168\" x=\"231.979003\" y=\"216.421\" style=\"stroke: #000000; stroke-width: 0.6\"/>\n      </g>\n     </g>\n    </g>\n    <g id=\"xtick_14\">\n     <g id=\"line2d_14\">\n      <g>\n       <use xlink:href=\"#mcf41cfe168\" x=\"247.767447\" y=\"216.421\" style=\"stroke: #000000; stroke-width: 0.6\"/>\n      </g>\n     </g>\n    </g>\n    <g id=\"xtick_15\">\n     <g id=\"line2d_15\">\n      <g>\n       <use xlink:href=\"#mcf41cfe168\" x=\"260.013917\" y=\"216.421\" style=\"stroke: #000000; stroke-width: 0.6\"/>\n      </g>\n     </g>\n    </g>\n    <g id=\"xtick_16\">\n     <g id=\"line2d_16\">\n      <g>\n       <use xlink:href=\"#mcf41cfe168\" x=\"270.020011\" y=\"216.421\" style=\"stroke: #000000; stroke-width: 0.6\"/>\n      </g>\n     </g>\n    </g>\n    <g id=\"xtick_17\">\n     <g id=\"line2d_17\">\n      <g>\n       <use xlink:href=\"#mcf41cfe168\" x=\"278.480043\" y=\"216.421\" style=\"stroke: #000000; stroke-width: 0.6\"/>\n      </g>\n     </g>\n    </g>\n    <g id=\"xtick_18\">\n     <g id=\"line2d_18\">\n      <g>\n       <use xlink:href=\"#mcf41cfe168\" x=\"285.808456\" y=\"216.421\" style=\"stroke: #000000; stroke-width: 0.6\"/>\n      </g>\n     </g>\n    </g>\n    <g id=\"xtick_19\">\n     <g id=\"line2d_19\">\n      <g>\n       <use xlink:href=\"#mcf41cfe168\" x=\"292.272574\" y=\"216.421\" style=\"stroke: #000000; stroke-width: 0.6\"/>\n      </g>\n     </g>\n    </g>\n    <g id=\"xtick_20\">\n     <g id=\"line2d_20\">\n      <g>\n       <use xlink:href=\"#mcf41cfe168\" x=\"336.095933\" y=\"216.421\" style=\"stroke: #000000; stroke-width: 0.6\"/>\n      </g>\n     </g>\n    </g>\n    <g id=\"xtick_21\">\n     <g id=\"line2d_21\">\n      <g>\n       <use xlink:href=\"#mcf41cfe168\" x=\"358.348496\" y=\"216.421\" style=\"stroke: #000000; stroke-width: 0.6\"/>\n      </g>\n     </g>\n    </g>\n    <g id=\"xtick_22\">\n     <g id=\"line2d_22\">\n      <g>\n       <use xlink:href=\"#mcf41cfe168\" x=\"374.136941\" y=\"216.421\" style=\"stroke: #000000; stroke-width: 0.6\"/>\n      </g>\n     </g>\n    </g>\n    <g id=\"xtick_23\">\n     <g id=\"line2d_23\">\n      <g>\n       <use xlink:href=\"#mcf41cfe168\" x=\"386.38341\" y=\"216.421\" style=\"stroke: #000000; stroke-width: 0.6\"/>\n      </g>\n     </g>\n    </g>\n    <g id=\"xtick_24\">\n     <g id=\"line2d_24\">\n      <g>\n       <use xlink:href=\"#mcf41cfe168\" x=\"396.389504\" y=\"216.421\" style=\"stroke: #000000; stroke-width: 0.6\"/>\n      </g>\n     </g>\n    </g>\n    <g id=\"xtick_25\">\n     <g id=\"line2d_25\">\n      <g>\n       <use xlink:href=\"#mcf41cfe168\" x=\"404.849536\" y=\"216.421\" style=\"stroke: #000000; stroke-width: 0.6\"/>\n      </g>\n     </g>\n    </g>\n    <g id=\"xtick_26\">\n     <g id=\"line2d_26\">\n      <g>\n       <use xlink:href=\"#mcf41cfe168\" x=\"412.177949\" y=\"216.421\" style=\"stroke: #000000; stroke-width: 0.6\"/>\n      </g>\n     </g>\n    </g>\n    <g id=\"text_4\">\n     <!--  f [Hz] (sig1) -->\n     <g transform=\"translate(196.784443 243.72975)scale(0.1 -0.1)\">\n      <defs>\n       <path id=\"DejaVuSerif-20\" transform=\"scale(0.015625)\"/>\n       <path id=\"DejaVuSerif-66\" d=\"M 2753 4078 \nL 2450 4078 \nQ 2447 4313 2317 4434 \nQ 2188 4556 1941 4556 \nQ 1619 4556 1487 4379 \nQ 1356 4203 1356 3750 \nL 1356 3322 \nL 2284 3322 \nL 2284 2988 \nL 1356 2988 \nL 1356 331 \nL 2094 331 \nL 2094 0 \nL 231 0 \nL 231 331 \nL 781 331 \nL 781 2988 \nL 231 2988 \nL 231 3322 \nL 781 3322 \nL 781 3738 \nQ 781 4294 1070 4578 \nQ 1359 4863 1919 4863 \nQ 2128 4863 2337 4825 \nQ 2547 4788 2753 4709 \nL 2753 4078 \nz\n\" transform=\"scale(0.015625)\"/>\n       <path id=\"DejaVuSerif-5b\" d=\"M 550 4863 \nL 2003 4863 \nL 2003 4531 \nL 1147 4531 \nL 1147 -513 \nL 2003 -513 \nL 2003 -844 \nL 550 -844 \nL 550 4863 \nz\n\" transform=\"scale(0.015625)\"/>\n       <path id=\"DejaVuSerif-48\" d=\"M 353 0 \nL 353 331 \nL 947 331 \nL 947 4331 \nL 353 4331 \nL 353 4666 \nL 2175 4666 \nL 2175 4331 \nL 1581 4331 \nL 1581 2719 \nL 4000 2719 \nL 4000 4331 \nL 3406 4331 \nL 3406 4666 \nL 5228 4666 \nL 5228 4331 \nL 4634 4331 \nL 4634 331 \nL 5228 331 \nL 5228 0 \nL 3406 0 \nL 3406 331 \nL 4000 331 \nL 4000 2338 \nL 1581 2338 \nL 1581 331 \nL 2175 331 \nL 2175 0 \nL 353 0 \nz\n\" transform=\"scale(0.015625)\"/>\n       <path id=\"DejaVuSerif-7a\" d=\"M 256 0 \nL 256 269 \nL 2338 2988 \nL 691 2988 \nL 691 2413 \nL 359 2413 \nL 359 3322 \nL 3078 3322 \nL 3078 3053 \nL 997 331 \nL 2803 331 \nL 2803 934 \nL 3138 934 \nL 3138 0 \nL 256 0 \nz\n\" transform=\"scale(0.015625)\"/>\n       <path id=\"DejaVuSerif-5d\" d=\"M 1947 4863 \nL 1947 -844 \nL 494 -844 \nL 494 -513 \nL 1350 -513 \nL 1350 4531 \nL 494 4531 \nL 494 4863 \nL 1947 4863 \nz\n\" transform=\"scale(0.015625)\"/>\n       <path id=\"DejaVuSerif-28\" d=\"M 2041 -997 \nQ 1281 -656 893 83 \nQ 506 822 506 1931 \nQ 506 3044 893 3783 \nQ 1281 4522 2041 4863 \nL 2041 4556 \nQ 1559 4225 1350 3623 \nQ 1141 3022 1141 1931 \nQ 1141 844 1350 242 \nQ 1559 -359 2041 -691 \nL 2041 -997 \nz\n\" transform=\"scale(0.015625)\"/>\n       <path id=\"DejaVuSerif-73\" d=\"M 359 184 \nL 359 959 \nL 691 959 \nQ 703 588 923 403 \nQ 1144 219 1575 219 \nQ 1963 219 2166 364 \nQ 2369 509 2369 788 \nQ 2369 1006 2220 1140 \nQ 2072 1275 1594 1428 \nL 1178 1569 \nQ 750 1706 558 1912 \nQ 366 2119 366 2438 \nQ 366 2894 700 3153 \nQ 1034 3413 1625 3413 \nQ 1888 3413 2178 3344 \nQ 2469 3275 2778 3144 \nL 2778 2419 \nL 2447 2419 \nQ 2434 2741 2221 2922 \nQ 2009 3103 1644 3103 \nQ 1281 3103 1095 2975 \nQ 909 2847 909 2591 \nQ 909 2381 1050 2254 \nQ 1191 2128 1613 1997 \nL 2069 1856 \nQ 2541 1709 2748 1489 \nQ 2956 1269 2956 922 \nQ 2956 450 2595 179 \nQ 2234 -91 1600 -91 \nQ 1278 -91 972 -22 \nQ 666 47 359 184 \nz\n\" transform=\"scale(0.015625)\"/>\n       <path id=\"DejaVuSerif-69\" d=\"M 622 4353 \nQ 622 4497 726 4603 \nQ 831 4709 978 4709 \nQ 1122 4709 1226 4603 \nQ 1331 4497 1331 4353 \nQ 1331 4206 1228 4103 \nQ 1125 4000 978 4000 \nQ 831 4000 726 4103 \nQ 622 4206 622 4353 \nz\nM 1356 331 \nL 1900 331 \nL 1900 0 \nL 231 0 \nL 231 331 \nL 781 331 \nL 781 2988 \nL 231 2988 \nL 231 3322 \nL 1356 3322 \nL 1356 331 \nz\n\" transform=\"scale(0.015625)\"/>\n       <path id=\"DejaVuSerif-67\" d=\"M 3359 2988 \nL 3359 72 \nQ 3359 -644 2965 -1033 \nQ 2572 -1422 1844 -1422 \nQ 1516 -1422 1216 -1362 \nQ 916 -1303 641 -1184 \nL 641 -488 \nL 941 -488 \nQ 997 -813 1206 -963 \nQ 1416 -1113 1806 -1113 \nQ 2313 -1113 2548 -827 \nQ 2784 -541 2784 72 \nL 2784 519 \nQ 2616 206 2355 57 \nQ 2094 -91 1709 -91 \nQ 1097 -91 708 395 \nQ 319 881 319 1663 \nQ 319 2444 706 2928 \nQ 1094 3413 1709 3413 \nQ 2094 3413 2355 3264 \nQ 2616 3116 2784 2803 \nL 2784 3322 \nL 3909 3322 \nL 3909 2988 \nL 3359 2988 \nz\nM 2784 1825 \nQ 2784 2422 2554 2737 \nQ 2325 3053 1888 3053 \nQ 1444 3053 1217 2703 \nQ 991 2353 991 1663 \nQ 991 975 1217 622 \nQ 1444 269 1888 269 \nQ 2325 269 2554 583 \nQ 2784 897 2784 1497 \nL 2784 1825 \nz\n\" transform=\"scale(0.015625)\"/>\n       <path id=\"DejaVuSerif-29\" d=\"M 453 -997 \nL 453 -691 \nQ 934 -359 1145 242 \nQ 1356 844 1356 1931 \nQ 1356 3022 1145 3623 \nQ 934 4225 453 4556 \nL 453 4863 \nQ 1216 4522 1603 3783 \nQ 1991 3044 1991 1931 \nQ 1991 822 1603 83 \nQ 1216 -656 453 -997 \nz\n\" transform=\"scale(0.015625)\"/>\n      </defs>\n      <use xlink:href=\"#DejaVuSerif-20\"/>\n      <use xlink:href=\"#DejaVuSerif-66\" x=\"31.787109\"/>\n      <use xlink:href=\"#DejaVuSerif-20\" x=\"68.798828\"/>\n      <use xlink:href=\"#DejaVuSerif-5b\" x=\"100.585938\"/>\n      <use xlink:href=\"#DejaVuSerif-48\" x=\"139.599609\"/>\n      <use xlink:href=\"#DejaVuSerif-7a\" x=\"226.806641\"/>\n      <use xlink:href=\"#DejaVuSerif-5d\" x=\"279.492188\"/>\n      <use xlink:href=\"#DejaVuSerif-20\" x=\"318.505859\"/>\n      <use xlink:href=\"#DejaVuSerif-28\" x=\"350.292969\"/>\n      <use xlink:href=\"#DejaVuSerif-73\" x=\"389.306641\"/>\n      <use xlink:href=\"#DejaVuSerif-69\" x=\"440.625\"/>\n      <use xlink:href=\"#DejaVuSerif-67\" x=\"472.607422\"/>\n      <use xlink:href=\"#DejaVuSerif-31\" x=\"536.621094\"/>\n      <use xlink:href=\"#DejaVuSerif-29\" x=\"600.244141\"/>\n     </g>\n    </g>\n   </g>\n   <g id=\"matplotlib.axis_2\">\n    <g id=\"ytick_1\">\n     <g id=\"line2d_27\">\n      <defs>\n       <path id=\"m3e6c4f7678\" d=\"M 0 0 \nL -3.5 0 \n\" style=\"stroke: #000000; stroke-width: 0.8\"/>\n      </defs>\n      <g>\n       <use xlink:href=\"#m3e6c4f7678\" x=\"45.315938\" y=\"205.462266\" style=\"stroke: #000000; stroke-width: 0.8\"/>\n      </g>\n     </g>\n     <g id=\"text_5\">\n      <!-- $\\mathdefault{0.44}$ -->\n      <g transform=\"translate(18.245938 208.881563)scale(0.09 -0.09)\">\n       <defs>\n        <path id=\"DejaVuSerif-2e\" d=\"M 603 325 \nQ 603 500 722 622 \nQ 841 744 1019 744 \nQ 1191 744 1312 622 \nQ 1434 500 1434 325 \nQ 1434 153 1312 31 \nQ 1191 -91 1019 -91 \nQ 841 -91 722 29 \nQ 603 150 603 325 \nz\n\" transform=\"scale(0.015625)\"/>\n        <path id=\"DejaVuSerif-34\" d=\"M 2234 1581 \nL 2234 4063 \nL 641 1581 \nL 2234 1581 \nz\nM 3609 0 \nL 1484 0 \nL 1484 331 \nL 2234 331 \nL 2234 1247 \nL 197 1247 \nL 197 1588 \nL 2241 4750 \nL 2859 4750 \nL 2859 1581 \nL 3750 1581 \nL 3750 1247 \nL 2859 1247 \nL 2859 331 \nL 3609 331 \nL 3609 0 \nz\n\" transform=\"scale(0.015625)\"/>\n       </defs>\n       <use xlink:href=\"#DejaVuSerif-30\" transform=\"translate(0 0.78125)\"/>\n       <use xlink:href=\"#DejaVuSerif-2e\" transform=\"translate(63.623047 0.78125)\"/>\n       <use xlink:href=\"#DejaVuSerif-34\" transform=\"translate(95.410156 0.78125)\"/>\n       <use xlink:href=\"#DejaVuSerif-34\" transform=\"translate(159.033203 0.78125)\"/>\n      </g>\n     </g>\n    </g>\n    <g id=\"ytick_2\">\n     <g id=\"line2d_28\">\n      <g>\n       <use xlink:href=\"#m3e6c4f7678\" x=\"45.315938\" y=\"167.172699\" style=\"stroke: #000000; stroke-width: 0.8\"/>\n      </g>\n     </g>\n     <g id=\"text_6\">\n      <!-- $\\mathdefault{0.46}$ -->\n      <g transform=\"translate(18.245938 170.591996)scale(0.09 -0.09)\">\n       <defs>\n        <path id=\"DejaVuSerif-36\" d=\"M 2094 219 \nQ 2534 219 2771 542 \nQ 3009 866 3009 1472 \nQ 3009 2078 2771 2401 \nQ 2534 2725 2094 2725 \nQ 1647 2725 1412 2412 \nQ 1178 2100 1178 1509 \nQ 1178 888 1415 553 \nQ 1653 219 2094 219 \nz\nM 1075 2569 \nQ 1288 2803 1556 2918 \nQ 1825 3034 2163 3034 \nQ 2859 3034 3264 2615 \nQ 3669 2197 3669 1472 \nQ 3669 763 3233 336 \nQ 2797 -91 2069 -91 \nQ 1278 -91 853 498 \nQ 428 1088 428 2181 \nQ 428 3406 931 4078 \nQ 1434 4750 2350 4750 \nQ 2597 4750 2869 4703 \nQ 3141 4656 3425 4563 \nL 3425 3794 \nL 3072 3794 \nQ 3034 4109 2831 4275 \nQ 2628 4441 2284 4441 \nQ 1678 4441 1381 3981 \nQ 1084 3522 1075 2569 \nz\n\" transform=\"scale(0.015625)\"/>\n       </defs>\n       <use xlink:href=\"#DejaVuSerif-30\" transform=\"translate(0 0.78125)\"/>\n       <use xlink:href=\"#DejaVuSerif-2e\" transform=\"translate(63.623047 0.78125)\"/>\n       <use xlink:href=\"#DejaVuSerif-34\" transform=\"translate(95.410156 0.78125)\"/>\n       <use xlink:href=\"#DejaVuSerif-36\" transform=\"translate(159.033203 0.78125)\"/>\n      </g>\n     </g>\n    </g>\n    <g id=\"ytick_3\">\n     <g id=\"line2d_29\">\n      <g>\n       <use xlink:href=\"#m3e6c4f7678\" x=\"45.315938\" y=\"128.883132\" style=\"stroke: #000000; stroke-width: 0.8\"/>\n      </g>\n     </g>\n     <g id=\"text_7\">\n      <!-- $\\mathdefault{0.48}$ -->\n      <g transform=\"translate(18.245938 132.302429)scale(0.09 -0.09)\">\n       <defs>\n        <path id=\"DejaVuSerif-38\" d=\"M 2981 1275 \nQ 2981 1775 2732 2051 \nQ 2484 2328 2034 2328 \nQ 1584 2328 1336 2051 \nQ 1088 1775 1088 1275 \nQ 1088 772 1336 495 \nQ 1584 219 2034 219 \nQ 2484 219 2732 495 \nQ 2981 772 2981 1275 \nz\nM 2853 3541 \nQ 2853 3966 2637 4203 \nQ 2422 4441 2034 4441 \nQ 1650 4441 1433 4203 \nQ 1216 3966 1216 3541 \nQ 1216 3113 1433 2875 \nQ 1650 2638 2034 2638 \nQ 2422 2638 2637 2875 \nQ 2853 3113 2853 3541 \nz\nM 2516 2484 \nQ 3047 2413 3344 2092 \nQ 3641 1772 3641 1275 \nQ 3641 619 3225 264 \nQ 2809 -91 2034 -91 \nQ 1263 -91 845 264 \nQ 428 619 428 1275 \nQ 428 1772 725 2092 \nQ 1022 2413 1556 2484 \nQ 1084 2569 832 2842 \nQ 581 3116 581 3541 \nQ 581 4103 968 4426 \nQ 1356 4750 2034 4750 \nQ 2713 4750 3100 4426 \nQ 3488 4103 3488 3541 \nQ 3488 3116 3236 2842 \nQ 2984 2569 2516 2484 \nz\n\" transform=\"scale(0.015625)\"/>\n       </defs>\n       <use xlink:href=\"#DejaVuSerif-30\" transform=\"translate(0 0.78125)\"/>\n       <use xlink:href=\"#DejaVuSerif-2e\" transform=\"translate(63.623047 0.78125)\"/>\n       <use xlink:href=\"#DejaVuSerif-34\" transform=\"translate(95.410156 0.78125)\"/>\n       <use xlink:href=\"#DejaVuSerif-38\" transform=\"translate(159.033203 0.78125)\"/>\n      </g>\n     </g>\n    </g>\n    <g id=\"ytick_4\">\n     <g id=\"line2d_30\">\n      <g>\n       <use xlink:href=\"#m3e6c4f7678\" x=\"45.315938\" y=\"90.593565\" style=\"stroke: #000000; stroke-width: 0.8\"/>\n      </g>\n     </g>\n     <g id=\"text_8\">\n      <!-- $\\mathdefault{0.50}$ -->\n      <g transform=\"translate(18.245938 94.012862)scale(0.09 -0.09)\">\n       <defs>\n        <path id=\"DejaVuSerif-35\" d=\"M 3219 4666 \nL 3219 4153 \nL 1081 4153 \nL 1081 2816 \nQ 1244 2928 1461 2984 \nQ 1678 3041 1947 3041 \nQ 2703 3041 3140 2622 \nQ 3578 2203 3578 1478 \nQ 3578 738 3136 323 \nQ 2694 -91 1894 -91 \nQ 1572 -91 1234 -12 \nQ 897 66 544 225 \nL 544 1131 \nL 897 1131 \nQ 925 688 1179 453 \nQ 1434 219 1894 219 \nQ 2388 219 2653 544 \nQ 2919 869 2919 1478 \nQ 2919 2084 2655 2407 \nQ 2391 2731 1894 2731 \nQ 1613 2731 1398 2631 \nQ 1184 2531 1019 2322 \nL 750 2322 \nL 750 4666 \nL 3219 4666 \nz\n\" transform=\"scale(0.015625)\"/>\n       </defs>\n       <use xlink:href=\"#DejaVuSerif-30\" transform=\"translate(0 0.78125)\"/>\n       <use xlink:href=\"#DejaVuSerif-2e\" transform=\"translate(63.623047 0.78125)\"/>\n       <use xlink:href=\"#DejaVuSerif-35\" transform=\"translate(95.410156 0.78125)\"/>\n       <use xlink:href=\"#DejaVuSerif-30\" transform=\"translate(159.033203 0.78125)\"/>\n      </g>\n     </g>\n    </g>\n    <g id=\"ytick_5\">\n     <g id=\"line2d_31\">\n      <g>\n       <use xlink:href=\"#m3e6c4f7678\" x=\"45.315938\" y=\"52.303998\" style=\"stroke: #000000; stroke-width: 0.8\"/>\n      </g>\n     </g>\n     <g id=\"text_9\">\n      <!-- $\\mathdefault{0.52}$ -->\n      <g transform=\"translate(18.245938 55.723295)scale(0.09 -0.09)\">\n       <use xlink:href=\"#DejaVuSerif-30\" transform=\"translate(0 0.78125)\"/>\n       <use xlink:href=\"#DejaVuSerif-2e\" transform=\"translate(63.623047 0.78125)\"/>\n       <use xlink:href=\"#DejaVuSerif-35\" transform=\"translate(95.410156 0.78125)\"/>\n       <use xlink:href=\"#DejaVuSerif-32\" transform=\"translate(159.033203 0.78125)\"/>\n      </g>\n     </g>\n    </g>\n    <g id=\"ytick_6\">\n     <g id=\"line2d_32\">\n      <g>\n       <use xlink:href=\"#m3e6c4f7678\" x=\"45.315938\" y=\"14.014432\" style=\"stroke: #000000; stroke-width: 0.8\"/>\n      </g>\n     </g>\n     <g id=\"text_10\">\n      <!-- $\\mathdefault{0.54}$ -->\n      <g transform=\"translate(18.245938 17.433728)scale(0.09 -0.09)\">\n       <use xlink:href=\"#DejaVuSerif-30\" transform=\"translate(0 0.78125)\"/>\n       <use xlink:href=\"#DejaVuSerif-2e\" transform=\"translate(63.623047 0.78125)\"/>\n       <use xlink:href=\"#DejaVuSerif-35\" transform=\"translate(95.410156 0.78125)\"/>\n       <use xlink:href=\"#DejaVuSerif-34\" transform=\"translate(159.033203 0.78125)\"/>\n      </g>\n     </g>\n    </g>\n    <g id=\"text_11\">\n     <!-- [au] -->\n     <g transform=\"translate(11.958281 121.123938)rotate(-90)scale(0.11 -0.11)\">\n      <defs>\n       <path id=\"DejaVuSerif-61\" d=\"M 2547 1044 \nL 2547 1747 \nL 1806 1747 \nQ 1378 1747 1168 1562 \nQ 959 1378 959 997 \nQ 959 650 1171 447 \nQ 1384 244 1747 244 \nQ 2106 244 2326 466 \nQ 2547 688 2547 1044 \nz\nM 3122 2075 \nL 3122 331 \nL 3634 331 \nL 3634 0 \nL 2547 0 \nL 2547 359 \nQ 2356 128 2106 18 \nQ 1856 -91 1522 -91 \nQ 969 -91 644 203 \nQ 319 497 319 997 \nQ 319 1513 691 1797 \nQ 1063 2081 1741 2081 \nL 2547 2081 \nL 2547 2309 \nQ 2547 2688 2317 2895 \nQ 2088 3103 1672 3103 \nQ 1328 3103 1125 2947 \nQ 922 2791 872 2484 \nL 575 2484 \nL 575 3156 \nQ 875 3284 1158 3348 \nQ 1441 3413 1709 3413 \nQ 2400 3413 2761 3070 \nQ 3122 2728 3122 2075 \nz\n\" transform=\"scale(0.015625)\"/>\n       <path id=\"DejaVuSerif-75\" d=\"M 2266 3322 \nL 3341 3322 \nL 3341 331 \nL 3884 331 \nL 3884 0 \nL 2766 0 \nL 2766 588 \nQ 2606 256 2353 82 \nQ 2100 -91 1766 -91 \nQ 1213 -91 952 223 \nQ 691 538 691 1209 \nL 691 2988 \nL 172 2988 \nL 172 3322 \nL 1269 3322 \nL 1269 1388 \nQ 1269 781 1417 556 \nQ 1566 331 1947 331 \nQ 2347 331 2556 625 \nQ 2766 919 2766 1478 \nL 2766 2988 \nL 2266 2988 \nL 2266 3322 \nz\n\" transform=\"scale(0.015625)\"/>\n      </defs>\n      <use xlink:href=\"#DejaVuSerif-5b\"/>\n      <use xlink:href=\"#DejaVuSerif-61\" x=\"39.013672\"/>\n      <use xlink:href=\"#DejaVuSerif-75\" x=\"98.632812\"/>\n      <use xlink:href=\"#DejaVuSerif-5d\" x=\"163.037109\"/>\n     </g>\n    </g>\n   </g>\n   <g id=\"line2d_33\">\n    <path d=\"M 45.315938 13.273682 \nL 202.149448 13.386146 \nL 233.332719 13.624768 \nL 252.592974 13.982149 \nL 266.808877 14.462729 \nL 277.814737 15.048619 \nL 286.986288 15.75149 \nL 294.782105 16.563133 \nL 301.660768 17.496544 \nL 307.622276 18.516138 \nL 313.125206 19.673162 \nL 318.169559 20.955111 \nL 322.755334 22.340114 \nL 326.882531 23.796719 \nL 331.009729 25.484546 \nL 334.678349 27.207728 \nL 338.346969 29.170294 \nL 342.015589 31.404365 \nL 345.225632 33.61016 \nL 348.435675 36.078288 \nL 351.645717 38.838404 \nL 354.85576 41.923122 \nL 357.607225 44.852543 \nL 360.35869 48.071135 \nL 363.110155 51.605232 \nL 365.86162 55.483102 \nL 368.613085 59.734984 \nL 371.36455 64.393104 \nL 374.116016 69.491665 \nL 376.867481 75.066794 \nL 379.618946 81.156443 \nL 382.370411 87.800242 \nL 385.121876 95.03928 \nL 387.873341 102.915815 \nL 390.624806 111.472903 \nL 393.376271 120.753925 \nL 396.127736 130.802019 \nL 398.879201 141.659404 \nL 401.630666 153.36658 \nL 404.382131 165.961433 \nL 407.133597 179.478215 \nL 410.343639 196.452067 \nL 412.177949 206.747318 \nL 412.177949 206.747318 \n\" clip-path=\"url(#pa3466d0471)\" style=\"fill: none; stroke: #0000ff; stroke-width: 1.2; stroke-linecap: square\"/>\n   </g>\n   <g id=\"patch_3\">\n    <path d=\"M 45.315938 216.421 \nL 45.315938 3.6 \n\" style=\"fill: none; stroke: #000000; stroke-width: 0.8; stroke-linejoin: miter; stroke-linecap: square\"/>\n   </g>\n   <g id=\"patch_4\">\n    <path d=\"M 412.177949 216.421 \nL 412.177949 3.6 \n\" style=\"fill: none; stroke: #000000; stroke-width: 0.8; stroke-linejoin: miter; stroke-linecap: square\"/>\n   </g>\n   <g id=\"patch_5\">\n    <path d=\"M 45.315938 216.421 \nL 412.177949 216.421 \n\" style=\"fill: none; stroke: #000000; stroke-width: 0.8; stroke-linejoin: miter; stroke-linecap: square\"/>\n   </g>\n   <g id=\"patch_6\">\n    <path d=\"M 45.315938 3.6 \nL 412.177949 3.6 \n\" style=\"fill: none; stroke: #000000; stroke-width: 0.8; stroke-linejoin: miter; stroke-linecap: square\"/>\n   </g>\n   <g id=\"legend_1\">\n    <g id=\"patch_7\">\n     <path d=\"M 345.404512 26.55625 \nL 405.177949 26.55625 \nQ 407.177949 26.55625 407.177949 24.55625 \nL 407.177949 10.6 \nQ 407.177949 8.6 405.177949 8.6 \nL 345.404512 8.6 \nQ 343.404512 8.6 343.404512 10.6 \nL 343.404512 24.55625 \nQ 343.404512 26.55625 345.404512 26.55625 \nz\n\" style=\"fill: #ffffff; opacity: 0.8; stroke: #cccccc; stroke-linejoin: miter\"/>\n    </g>\n    <g id=\"line2d_34\">\n     <path d=\"M 347.404512 16.698438 \nL 357.404512 16.698438 \nL 367.404512 16.698438 \n\" style=\"fill: none; stroke: #0000ff; stroke-width: 1.2; stroke-linecap: square\"/>\n    </g>\n    <g id=\"text_12\">\n     <!-- pop_I -->\n     <g transform=\"translate(375.404512 20.198438)scale(0.1 -0.1)\">\n      <defs>\n       <path id=\"DejaVuSerif-70\" d=\"M 1313 1825 \nL 1313 1497 \nQ 1313 897 1542 583 \nQ 1772 269 2209 269 \nQ 2650 269 2876 622 \nQ 3103 975 3103 1663 \nQ 3103 2353 2876 2703 \nQ 2650 3053 2209 3053 \nQ 1772 3053 1542 2737 \nQ 1313 2422 1313 1825 \nz\nM 738 2988 \nL 184 2988 \nL 184 3322 \nL 1313 3322 \nL 1313 2803 \nQ 1481 3116 1742 3264 \nQ 2003 3413 2388 3413 \nQ 3000 3413 3387 2928 \nQ 3775 2444 3775 1663 \nQ 3775 881 3387 395 \nQ 3000 -91 2388 -91 \nQ 2003 -91 1742 57 \nQ 1481 206 1313 519 \nL 1313 -997 \nL 1856 -997 \nL 1856 -1331 \nL 184 -1331 \nL 184 -997 \nL 738 -997 \nL 738 2988 \nz\n\" transform=\"scale(0.015625)\"/>\n       <path id=\"DejaVuSerif-6f\" d=\"M 1925 219 \nQ 2388 219 2623 584 \nQ 2859 950 2859 1663 \nQ 2859 2375 2623 2739 \nQ 2388 3103 1925 3103 \nQ 1463 3103 1227 2739 \nQ 991 2375 991 1663 \nQ 991 950 1228 584 \nQ 1466 219 1925 219 \nz\nM 1925 -91 \nQ 1200 -91 759 389 \nQ 319 869 319 1663 \nQ 319 2456 758 2934 \nQ 1197 3413 1925 3413 \nQ 2653 3413 3092 2934 \nQ 3531 2456 3531 1663 \nQ 3531 869 3092 389 \nQ 2653 -91 1925 -91 \nz\n\" transform=\"scale(0.015625)\"/>\n       <path id=\"DejaVuSerif-5f\" d=\"M 3200 -1259 \nL 3200 -1509 \nL 0 -1509 \nL 0 -1259 \nL 3200 -1259 \nz\n\" transform=\"scale(0.015625)\"/>\n       <path id=\"DejaVuSerif-49\" d=\"M 1581 331 \nL 2175 331 \nL 2175 0 \nL 353 0 \nL 353 331 \nL 947 331 \nL 947 4331 \nL 353 4331 \nL 353 4666 \nL 2175 4666 \nL 2175 4331 \nL 1581 4331 \nL 1581 331 \nz\n\" transform=\"scale(0.015625)\"/>\n      </defs>\n      <use xlink:href=\"#DejaVuSerif-70\"/>\n      <use xlink:href=\"#DejaVuSerif-6f\" x=\"64.013672\"/>\n      <use xlink:href=\"#DejaVuSerif-70\" x=\"124.21875\"/>\n      <use xlink:href=\"#DejaVuSerif-5f\" x=\"188.232422\"/>\n      <use xlink:href=\"#DejaVuSerif-49\" x=\"238.232422\"/>\n     </g>\n    </g>\n   </g>\n  </g>\n </g>\n <defs>\n  <clipPath id=\"pa3466d0471\">\n   <rect x=\"45.315938\" y=\"3.6\" width=\"366.862012\" height=\"212.821\"/>\n  </clipPath>\n </defs>\n</svg>\n",
      "text/plain": [
       "<Figure size 1200x741.6 with 1 Axes>"
      ]
     },
     "metadata": {},
     "output_type": "display_data"
    },
    {
     "name": "stdout",
     "output_type": "stream",
     "text": [
      "--------------------------------------------------------------\n",
      "Running kat - Started at 2022-12-07 19:48:03.206344\n"
     ]
    },
    {
     "name": "stderr",
     "output_type": "stream",
     "text": [
      "100% | ETA:  0:00:00 | Calculating                                             "
     ]
    },
    {
     "name": "stdout",
     "output_type": "stream",
     "text": [
      "Used Finesse None at C:\\Users\\Parivesh\\anaconda3\\Library\\bin\\kat.exe\n",
      "\n",
      "Finished in 6.0112 seconds\n"
     ]
    },
    {
     "data": {
      "image/svg+xml": "<?xml version=\"1.0\" encoding=\"utf-8\" standalone=\"no\"?>\n<!DOCTYPE svg PUBLIC \"-//W3C//DTD SVG 1.1//EN\"\n  \"http://www.w3.org/Graphics/SVG/1.1/DTD/svg11.dtd\">\n<svg xmlns:xlink=\"http://www.w3.org/1999/xlink\" width=\"416.654922pt\" height=\"248.650219pt\" viewBox=\"0 0 416.654922 248.650219\" xmlns=\"http://www.w3.org/2000/svg\" version=\"1.1\">\n <metadata>\n  <rdf:RDF xmlns:dc=\"http://purl.org/dc/elements/1.1/\" xmlns:cc=\"http://creativecommons.org/ns#\" xmlns:rdf=\"http://www.w3.org/1999/02/22-rdf-syntax-ns#\">\n   <cc:Work>\n    <dc:type rdf:resource=\"http://purl.org/dc/dcmitype/StillImage\"/>\n    <dc:date>2022-12-07T19:48:09.581115</dc:date>\n    <dc:format>image/svg+xml</dc:format>\n    <dc:creator>\n     <cc:Agent>\n      <dc:title>Matplotlib v3.5.3, https://matplotlib.org/</dc:title>\n     </cc:Agent>\n    </dc:creator>\n   </cc:Work>\n  </rdf:RDF>\n </metadata>\n <defs>\n  <style type=\"text/css\">*{stroke-linejoin: round; stroke-linecap: butt}</style>\n </defs>\n <g id=\"figure_1\">\n  <g id=\"patch_1\">\n   <path d=\"M -0 248.650219 \nL 416.654922 248.650219 \nL 416.654922 0 \nL -0 0 \nz\n\" style=\"fill: #ffffff\"/>\n  </g>\n  <g id=\"axes_1\">\n   <g id=\"patch_2\">\n    <path d=\"M 38.565938 215.519594 \nL 413.054922 215.519594 \nL 413.054922 13.438594 \nL 38.565938 13.438594 \nz\n\" style=\"fill: #ffffff\"/>\n   </g>\n   <g id=\"matplotlib.axis_1\">\n    <g id=\"xtick_1\">\n     <g id=\"line2d_1\">\n      <defs>\n       <path id=\"m59447f6c36\" d=\"M 0 0 \nL 0 3.5 \n\" style=\"stroke: #000000; stroke-width: 0.8\"/>\n      </defs>\n      <g>\n       <use xlink:href=\"#m59447f6c36\" x=\"38.565938\" y=\"215.519594\" style=\"stroke: #000000; stroke-width: 0.8\"/>\n      </g>\n     </g>\n     <g id=\"text_1\">\n      <!-- $\\mathdefault{10^{0}}$ -->\n      <g transform=\"translate(30.645938 229.358187)scale(0.09 -0.09)\">\n       <defs>\n        <path id=\"DejaVuSerif-31\" d=\"M 909 0 \nL 909 331 \nL 1722 331 \nL 1722 4213 \nL 781 3603 \nL 781 4013 \nL 1919 4750 \nL 2350 4750 \nL 2350 331 \nL 3163 331 \nL 3163 0 \nL 909 0 \nz\n\" transform=\"scale(0.015625)\"/>\n        <path id=\"DejaVuSerif-30\" d=\"M 2034 219 \nQ 2513 219 2750 744 \nQ 2988 1269 2988 2328 \nQ 2988 3391 2750 3916 \nQ 2513 4441 2034 4441 \nQ 1556 4441 1318 3916 \nQ 1081 3391 1081 2328 \nQ 1081 1269 1318 744 \nQ 1556 219 2034 219 \nz\nM 2034 -91 \nQ 1275 -91 848 546 \nQ 422 1184 422 2328 \nQ 422 3475 848 4112 \nQ 1275 4750 2034 4750 \nQ 2797 4750 3222 4112 \nQ 3647 3475 3647 2328 \nQ 3647 1184 3222 546 \nQ 2797 -91 2034 -91 \nz\n\" transform=\"scale(0.015625)\"/>\n       </defs>\n       <use xlink:href=\"#DejaVuSerif-31\" transform=\"translate(0 0.7125)\"/>\n       <use xlink:href=\"#DejaVuSerif-30\" transform=\"translate(63.623047 0.7125)\"/>\n       <use xlink:href=\"#DejaVuSerif-30\" transform=\"translate(128.154453 37.046875)scale(0.7)\"/>\n      </g>\n     </g>\n    </g>\n    <g id=\"xtick_2\">\n     <g id=\"line2d_2\">\n      <g>\n       <use xlink:href=\"#m59447f6c36\" x=\"167.562622\" y=\"215.519594\" style=\"stroke: #000000; stroke-width: 0.8\"/>\n      </g>\n     </g>\n     <g id=\"text_2\">\n      <!-- $\\mathdefault{10^{1}}$ -->\n      <g transform=\"translate(159.642622 229.358187)scale(0.09 -0.09)\">\n       <use xlink:href=\"#DejaVuSerif-31\" transform=\"translate(0 0.7125)\"/>\n       <use xlink:href=\"#DejaVuSerif-30\" transform=\"translate(63.623047 0.7125)\"/>\n       <use xlink:href=\"#DejaVuSerif-31\" transform=\"translate(128.154453 37.046875)scale(0.7)\"/>\n      </g>\n     </g>\n    </g>\n    <g id=\"xtick_3\">\n     <g id=\"line2d_3\">\n      <g>\n       <use xlink:href=\"#m59447f6c36\" x=\"296.559307\" y=\"215.519594\" style=\"stroke: #000000; stroke-width: 0.8\"/>\n      </g>\n     </g>\n     <g id=\"text_3\">\n      <!-- $\\mathdefault{10^{2}}$ -->\n      <g transform=\"translate(288.639307 229.358187)scale(0.09 -0.09)\">\n       <defs>\n        <path id=\"DejaVuSerif-32\" d=\"M 819 3553 \nL 469 3553 \nL 469 4384 \nQ 803 4563 1142 4656 \nQ 1481 4750 1806 4750 \nQ 2534 4750 2956 4397 \nQ 3378 4044 3378 3438 \nQ 3378 2753 2422 1800 \nQ 2347 1728 2309 1691 \nL 1131 513 \nL 3078 513 \nL 3078 1088 \nL 3444 1088 \nL 3444 0 \nL 434 0 \nL 434 341 \nL 1850 1753 \nQ 2319 2222 2519 2614 \nQ 2719 3006 2719 3438 \nQ 2719 3909 2473 4175 \nQ 2228 4441 1797 4441 \nQ 1350 4441 1106 4219 \nQ 863 3997 819 3553 \nz\n\" transform=\"scale(0.015625)\"/>\n       </defs>\n       <use xlink:href=\"#DejaVuSerif-31\" transform=\"translate(0 0.7125)\"/>\n       <use xlink:href=\"#DejaVuSerif-30\" transform=\"translate(63.623047 0.7125)\"/>\n       <use xlink:href=\"#DejaVuSerif-32\" transform=\"translate(128.154453 37.046875)scale(0.7)\"/>\n      </g>\n     </g>\n    </g>\n    <g id=\"xtick_4\">\n     <g id=\"line2d_4\">\n      <defs>\n       <path id=\"mdb6e269e65\" d=\"M 0 0 \nL 0 2 \n\" style=\"stroke: #000000; stroke-width: 0.6\"/>\n      </defs>\n      <g>\n       <use xlink:href=\"#mdb6e269e65\" x=\"77.397809\" y=\"215.519594\" style=\"stroke: #000000; stroke-width: 0.6\"/>\n      </g>\n     </g>\n    </g>\n    <g id=\"xtick_5\">\n     <g id=\"line2d_5\">\n      <g>\n       <use xlink:href=\"#mdb6e269e65\" x=\"100.112998\" y=\"215.519594\" style=\"stroke: #000000; stroke-width: 0.6\"/>\n      </g>\n     </g>\n    </g>\n    <g id=\"xtick_6\">\n     <g id=\"line2d_6\">\n      <g>\n       <use xlink:href=\"#mdb6e269e65\" x=\"116.229681\" y=\"215.519594\" style=\"stroke: #000000; stroke-width: 0.6\"/>\n      </g>\n     </g>\n    </g>\n    <g id=\"xtick_7\">\n     <g id=\"line2d_7\">\n      <g>\n       <use xlink:href=\"#mdb6e269e65\" x=\"128.730751\" y=\"215.519594\" style=\"stroke: #000000; stroke-width: 0.6\"/>\n      </g>\n     </g>\n    </g>\n    <g id=\"xtick_8\">\n     <g id=\"line2d_8\">\n      <g>\n       <use xlink:href=\"#mdb6e269e65\" x=\"138.944869\" y=\"215.519594\" style=\"stroke: #000000; stroke-width: 0.6\"/>\n      </g>\n     </g>\n    </g>\n    <g id=\"xtick_9\">\n     <g id=\"line2d_9\">\n      <g>\n       <use xlink:href=\"#mdb6e269e65\" x=\"147.580783\" y=\"215.519594\" style=\"stroke: #000000; stroke-width: 0.6\"/>\n      </g>\n     </g>\n    </g>\n    <g id=\"xtick_10\">\n     <g id=\"line2d_10\">\n      <g>\n       <use xlink:href=\"#mdb6e269e65\" x=\"155.061552\" y=\"215.519594\" style=\"stroke: #000000; stroke-width: 0.6\"/>\n      </g>\n     </g>\n    </g>\n    <g id=\"xtick_11\">\n     <g id=\"line2d_11\">\n      <g>\n       <use xlink:href=\"#mdb6e269e65\" x=\"161.660058\" y=\"215.519594\" style=\"stroke: #000000; stroke-width: 0.6\"/>\n      </g>\n     </g>\n    </g>\n    <g id=\"xtick_12\">\n     <g id=\"line2d_12\">\n      <g>\n       <use xlink:href=\"#mdb6e269e65\" x=\"206.394494\" y=\"215.519594\" style=\"stroke: #000000; stroke-width: 0.6\"/>\n      </g>\n     </g>\n    </g>\n    <g id=\"xtick_13\">\n     <g id=\"line2d_13\">\n      <g>\n       <use xlink:href=\"#mdb6e269e65\" x=\"229.109683\" y=\"215.519594\" style=\"stroke: #000000; stroke-width: 0.6\"/>\n      </g>\n     </g>\n    </g>\n    <g id=\"xtick_14\">\n     <g id=\"line2d_14\">\n      <g>\n       <use xlink:href=\"#mdb6e269e65\" x=\"245.226365\" y=\"215.519594\" style=\"stroke: #000000; stroke-width: 0.6\"/>\n      </g>\n     </g>\n    </g>\n    <g id=\"xtick_15\">\n     <g id=\"line2d_15\">\n      <g>\n       <use xlink:href=\"#mdb6e269e65\" x=\"257.727436\" y=\"215.519594\" style=\"stroke: #000000; stroke-width: 0.6\"/>\n      </g>\n     </g>\n    </g>\n    <g id=\"xtick_16\">\n     <g id=\"line2d_16\">\n      <g>\n       <use xlink:href=\"#mdb6e269e65\" x=\"267.941554\" y=\"215.519594\" style=\"stroke: #000000; stroke-width: 0.6\"/>\n      </g>\n     </g>\n    </g>\n    <g id=\"xtick_17\">\n     <g id=\"line2d_17\">\n      <g>\n       <use xlink:href=\"#mdb6e269e65\" x=\"276.577468\" y=\"215.519594\" style=\"stroke: #000000; stroke-width: 0.6\"/>\n      </g>\n     </g>\n    </g>\n    <g id=\"xtick_18\">\n     <g id=\"line2d_18\">\n      <g>\n       <use xlink:href=\"#mdb6e269e65\" x=\"284.058237\" y=\"215.519594\" style=\"stroke: #000000; stroke-width: 0.6\"/>\n      </g>\n     </g>\n    </g>\n    <g id=\"xtick_19\">\n     <g id=\"line2d_19\">\n      <g>\n       <use xlink:href=\"#mdb6e269e65\" x=\"290.656743\" y=\"215.519594\" style=\"stroke: #000000; stroke-width: 0.6\"/>\n      </g>\n     </g>\n    </g>\n    <g id=\"xtick_20\">\n     <g id=\"line2d_20\">\n      <g>\n       <use xlink:href=\"#mdb6e269e65\" x=\"335.391179\" y=\"215.519594\" style=\"stroke: #000000; stroke-width: 0.6\"/>\n      </g>\n     </g>\n    </g>\n    <g id=\"xtick_21\">\n     <g id=\"line2d_21\">\n      <g>\n       <use xlink:href=\"#mdb6e269e65\" x=\"358.106368\" y=\"215.519594\" style=\"stroke: #000000; stroke-width: 0.6\"/>\n      </g>\n     </g>\n    </g>\n    <g id=\"xtick_22\">\n     <g id=\"line2d_22\">\n      <g>\n       <use xlink:href=\"#mdb6e269e65\" x=\"374.22305\" y=\"215.519594\" style=\"stroke: #000000; stroke-width: 0.6\"/>\n      </g>\n     </g>\n    </g>\n    <g id=\"xtick_23\">\n     <g id=\"line2d_23\">\n      <g>\n       <use xlink:href=\"#mdb6e269e65\" x=\"386.724121\" y=\"215.519594\" style=\"stroke: #000000; stroke-width: 0.6\"/>\n      </g>\n     </g>\n    </g>\n    <g id=\"xtick_24\">\n     <g id=\"line2d_24\">\n      <g>\n       <use xlink:href=\"#mdb6e269e65\" x=\"396.938239\" y=\"215.519594\" style=\"stroke: #000000; stroke-width: 0.6\"/>\n      </g>\n     </g>\n    </g>\n    <g id=\"xtick_25\">\n     <g id=\"line2d_25\">\n      <g>\n       <use xlink:href=\"#mdb6e269e65\" x=\"405.574153\" y=\"215.519594\" style=\"stroke: #000000; stroke-width: 0.6\"/>\n      </g>\n     </g>\n    </g>\n    <g id=\"xtick_26\">\n     <g id=\"line2d_26\">\n      <g>\n       <use xlink:href=\"#mdb6e269e65\" x=\"413.054922\" y=\"215.519594\" style=\"stroke: #000000; stroke-width: 0.6\"/>\n      </g>\n     </g>\n    </g>\n    <g id=\"text_4\">\n     <!--  f [Hz] (sig1) -->\n     <g transform=\"translate(193.84793 242.828344)scale(0.1 -0.1)\">\n      <defs>\n       <path id=\"DejaVuSerif-20\" transform=\"scale(0.015625)\"/>\n       <path id=\"DejaVuSerif-66\" d=\"M 2753 4078 \nL 2450 4078 \nQ 2447 4313 2317 4434 \nQ 2188 4556 1941 4556 \nQ 1619 4556 1487 4379 \nQ 1356 4203 1356 3750 \nL 1356 3322 \nL 2284 3322 \nL 2284 2988 \nL 1356 2988 \nL 1356 331 \nL 2094 331 \nL 2094 0 \nL 231 0 \nL 231 331 \nL 781 331 \nL 781 2988 \nL 231 2988 \nL 231 3322 \nL 781 3322 \nL 781 3738 \nQ 781 4294 1070 4578 \nQ 1359 4863 1919 4863 \nQ 2128 4863 2337 4825 \nQ 2547 4788 2753 4709 \nL 2753 4078 \nz\n\" transform=\"scale(0.015625)\"/>\n       <path id=\"DejaVuSerif-5b\" d=\"M 550 4863 \nL 2003 4863 \nL 2003 4531 \nL 1147 4531 \nL 1147 -513 \nL 2003 -513 \nL 2003 -844 \nL 550 -844 \nL 550 4863 \nz\n\" transform=\"scale(0.015625)\"/>\n       <path id=\"DejaVuSerif-48\" d=\"M 353 0 \nL 353 331 \nL 947 331 \nL 947 4331 \nL 353 4331 \nL 353 4666 \nL 2175 4666 \nL 2175 4331 \nL 1581 4331 \nL 1581 2719 \nL 4000 2719 \nL 4000 4331 \nL 3406 4331 \nL 3406 4666 \nL 5228 4666 \nL 5228 4331 \nL 4634 4331 \nL 4634 331 \nL 5228 331 \nL 5228 0 \nL 3406 0 \nL 3406 331 \nL 4000 331 \nL 4000 2338 \nL 1581 2338 \nL 1581 331 \nL 2175 331 \nL 2175 0 \nL 353 0 \nz\n\" transform=\"scale(0.015625)\"/>\n       <path id=\"DejaVuSerif-7a\" d=\"M 256 0 \nL 256 269 \nL 2338 2988 \nL 691 2988 \nL 691 2413 \nL 359 2413 \nL 359 3322 \nL 3078 3322 \nL 3078 3053 \nL 997 331 \nL 2803 331 \nL 2803 934 \nL 3138 934 \nL 3138 0 \nL 256 0 \nz\n\" transform=\"scale(0.015625)\"/>\n       <path id=\"DejaVuSerif-5d\" d=\"M 1947 4863 \nL 1947 -844 \nL 494 -844 \nL 494 -513 \nL 1350 -513 \nL 1350 4531 \nL 494 4531 \nL 494 4863 \nL 1947 4863 \nz\n\" transform=\"scale(0.015625)\"/>\n       <path id=\"DejaVuSerif-28\" d=\"M 2041 -997 \nQ 1281 -656 893 83 \nQ 506 822 506 1931 \nQ 506 3044 893 3783 \nQ 1281 4522 2041 4863 \nL 2041 4556 \nQ 1559 4225 1350 3623 \nQ 1141 3022 1141 1931 \nQ 1141 844 1350 242 \nQ 1559 -359 2041 -691 \nL 2041 -997 \nz\n\" transform=\"scale(0.015625)\"/>\n       <path id=\"DejaVuSerif-73\" d=\"M 359 184 \nL 359 959 \nL 691 959 \nQ 703 588 923 403 \nQ 1144 219 1575 219 \nQ 1963 219 2166 364 \nQ 2369 509 2369 788 \nQ 2369 1006 2220 1140 \nQ 2072 1275 1594 1428 \nL 1178 1569 \nQ 750 1706 558 1912 \nQ 366 2119 366 2438 \nQ 366 2894 700 3153 \nQ 1034 3413 1625 3413 \nQ 1888 3413 2178 3344 \nQ 2469 3275 2778 3144 \nL 2778 2419 \nL 2447 2419 \nQ 2434 2741 2221 2922 \nQ 2009 3103 1644 3103 \nQ 1281 3103 1095 2975 \nQ 909 2847 909 2591 \nQ 909 2381 1050 2254 \nQ 1191 2128 1613 1997 \nL 2069 1856 \nQ 2541 1709 2748 1489 \nQ 2956 1269 2956 922 \nQ 2956 450 2595 179 \nQ 2234 -91 1600 -91 \nQ 1278 -91 972 -22 \nQ 666 47 359 184 \nz\n\" transform=\"scale(0.015625)\"/>\n       <path id=\"DejaVuSerif-69\" d=\"M 622 4353 \nQ 622 4497 726 4603 \nQ 831 4709 978 4709 \nQ 1122 4709 1226 4603 \nQ 1331 4497 1331 4353 \nQ 1331 4206 1228 4103 \nQ 1125 4000 978 4000 \nQ 831 4000 726 4103 \nQ 622 4206 622 4353 \nz\nM 1356 331 \nL 1900 331 \nL 1900 0 \nL 231 0 \nL 231 331 \nL 781 331 \nL 781 2988 \nL 231 2988 \nL 231 3322 \nL 1356 3322 \nL 1356 331 \nz\n\" transform=\"scale(0.015625)\"/>\n       <path id=\"DejaVuSerif-67\" d=\"M 3359 2988 \nL 3359 72 \nQ 3359 -644 2965 -1033 \nQ 2572 -1422 1844 -1422 \nQ 1516 -1422 1216 -1362 \nQ 916 -1303 641 -1184 \nL 641 -488 \nL 941 -488 \nQ 997 -813 1206 -963 \nQ 1416 -1113 1806 -1113 \nQ 2313 -1113 2548 -827 \nQ 2784 -541 2784 72 \nL 2784 519 \nQ 2616 206 2355 57 \nQ 2094 -91 1709 -91 \nQ 1097 -91 708 395 \nQ 319 881 319 1663 \nQ 319 2444 706 2928 \nQ 1094 3413 1709 3413 \nQ 2094 3413 2355 3264 \nQ 2616 3116 2784 2803 \nL 2784 3322 \nL 3909 3322 \nL 3909 2988 \nL 3359 2988 \nz\nM 2784 1825 \nQ 2784 2422 2554 2737 \nQ 2325 3053 1888 3053 \nQ 1444 3053 1217 2703 \nQ 991 2353 991 1663 \nQ 991 975 1217 622 \nQ 1444 269 1888 269 \nQ 2325 269 2554 583 \nQ 2784 897 2784 1497 \nL 2784 1825 \nz\n\" transform=\"scale(0.015625)\"/>\n       <path id=\"DejaVuSerif-29\" d=\"M 453 -997 \nL 453 -691 \nQ 934 -359 1145 242 \nQ 1356 844 1356 1931 \nQ 1356 3022 1145 3623 \nQ 934 4225 453 4556 \nL 453 4863 \nQ 1216 4522 1603 3783 \nQ 1991 3044 1991 1931 \nQ 1991 822 1603 83 \nQ 1216 -656 453 -997 \nz\n\" transform=\"scale(0.015625)\"/>\n      </defs>\n      <use xlink:href=\"#DejaVuSerif-20\"/>\n      <use xlink:href=\"#DejaVuSerif-66\" x=\"31.787109\"/>\n      <use xlink:href=\"#DejaVuSerif-20\" x=\"68.798828\"/>\n      <use xlink:href=\"#DejaVuSerif-5b\" x=\"100.585938\"/>\n      <use xlink:href=\"#DejaVuSerif-48\" x=\"139.599609\"/>\n      <use xlink:href=\"#DejaVuSerif-7a\" x=\"226.806641\"/>\n      <use xlink:href=\"#DejaVuSerif-5d\" x=\"279.492188\"/>\n      <use xlink:href=\"#DejaVuSerif-20\" x=\"318.505859\"/>\n      <use xlink:href=\"#DejaVuSerif-28\" x=\"350.292969\"/>\n      <use xlink:href=\"#DejaVuSerif-73\" x=\"389.306641\"/>\n      <use xlink:href=\"#DejaVuSerif-69\" x=\"440.625\"/>\n      <use xlink:href=\"#DejaVuSerif-67\" x=\"472.607422\"/>\n      <use xlink:href=\"#DejaVuSerif-31\" x=\"536.621094\"/>\n      <use xlink:href=\"#DejaVuSerif-29\" x=\"600.244141\"/>\n     </g>\n    </g>\n   </g>\n   <g id=\"matplotlib.axis_2\">\n    <g id=\"ytick_1\">\n     <g id=\"line2d_27\">\n      <defs>\n       <path id=\"m040628c580\" d=\"M 0 0 \nL -3.5 0 \n\" style=\"stroke: #000000; stroke-width: 0.8\"/>\n      </defs>\n      <g>\n       <use xlink:href=\"#m040628c580\" x=\"38.565938\" y=\"191.294185\" style=\"stroke: #000000; stroke-width: 0.8\"/>\n      </g>\n     </g>\n     <g id=\"text_5\">\n      <!-- $\\mathdefault{−1}$ -->\n      <g transform=\"translate(18.245938 194.713482)scale(0.09 -0.09)\">\n       <defs>\n        <path id=\"DejaVuSerif-2212\" d=\"M 678 2259 \nL 4684 2259 \nL 4684 1753 \nL 678 1753 \nL 678 2259 \nz\n\" transform=\"scale(0.015625)\"/>\n       </defs>\n       <use xlink:href=\"#DejaVuSerif-2212\" transform=\"translate(0 0.78125)\"/>\n       <use xlink:href=\"#DejaVuSerif-31\" transform=\"translate(83.789062 0.78125)\"/>\n      </g>\n     </g>\n    </g>\n    <g id=\"ytick_2\">\n     <g id=\"line2d_28\">\n      <g>\n       <use xlink:href=\"#m040628c580\" x=\"38.565938\" y=\"165.021556\" style=\"stroke: #000000; stroke-width: 0.8\"/>\n      </g>\n     </g>\n     <g id=\"text_6\">\n      <!-- $\\mathdefault{0}$ -->\n      <g transform=\"translate(25.805938 168.440853)scale(0.09 -0.09)\">\n       <use xlink:href=\"#DejaVuSerif-30\" transform=\"translate(0 0.78125)\"/>\n      </g>\n     </g>\n    </g>\n    <g id=\"ytick_3\">\n     <g id=\"line2d_29\">\n      <g>\n       <use xlink:href=\"#m040628c580\" x=\"38.565938\" y=\"138.748926\" style=\"stroke: #000000; stroke-width: 0.8\"/>\n      </g>\n     </g>\n     <g id=\"text_7\">\n      <!-- $\\mathdefault{1}$ -->\n      <g transform=\"translate(25.805938 142.168223)scale(0.09 -0.09)\">\n       <use xlink:href=\"#DejaVuSerif-31\" transform=\"translate(0 0.78125)\"/>\n      </g>\n     </g>\n    </g>\n    <g id=\"ytick_4\">\n     <g id=\"line2d_30\">\n      <g>\n       <use xlink:href=\"#m040628c580\" x=\"38.565938\" y=\"112.476297\" style=\"stroke: #000000; stroke-width: 0.8\"/>\n      </g>\n     </g>\n     <g id=\"text_8\">\n      <!-- $\\mathdefault{2}$ -->\n      <g transform=\"translate(25.805938 115.895594)scale(0.09 -0.09)\">\n       <use xlink:href=\"#DejaVuSerif-32\" transform=\"translate(0 0.78125)\"/>\n      </g>\n     </g>\n    </g>\n    <g id=\"ytick_5\">\n     <g id=\"line2d_31\">\n      <g>\n       <use xlink:href=\"#m040628c580\" x=\"38.565938\" y=\"86.203668\" style=\"stroke: #000000; stroke-width: 0.8\"/>\n      </g>\n     </g>\n     <g id=\"text_9\">\n      <!-- $\\mathdefault{3}$ -->\n      <g transform=\"translate(25.805938 89.622965)scale(0.09 -0.09)\">\n       <defs>\n        <path id=\"DejaVuSerif-33\" d=\"M 622 4469 \nQ 988 4606 1323 4678 \nQ 1659 4750 1953 4750 \nQ 2638 4750 3022 4454 \nQ 3406 4159 3406 3634 \nQ 3406 3213 3140 2930 \nQ 2875 2647 2388 2547 \nQ 2963 2466 3280 2130 \nQ 3597 1794 3597 1259 \nQ 3597 606 3158 257 \nQ 2719 -91 1894 -91 \nQ 1528 -91 1179 -12 \nQ 831 66 488 225 \nL 488 1131 \nL 838 1131 \nQ 869 681 1141 450 \nQ 1413 219 1906 219 \nQ 2384 219 2661 495 \nQ 2938 772 2938 1253 \nQ 2938 1803 2653 2086 \nQ 2369 2369 1819 2369 \nL 1522 2369 \nL 1522 2688 \nL 1678 2688 \nQ 2225 2688 2498 2914 \nQ 2772 3141 2772 3597 \nQ 2772 4006 2547 4223 \nQ 2322 4441 1900 4441 \nQ 1478 4441 1245 4241 \nQ 1013 4041 972 3647 \nL 622 3647 \nL 622 4469 \nz\n\" transform=\"scale(0.015625)\"/>\n       </defs>\n       <use xlink:href=\"#DejaVuSerif-33\" transform=\"translate(0 0.78125)\"/>\n      </g>\n     </g>\n    </g>\n    <g id=\"ytick_6\">\n     <g id=\"line2d_32\">\n      <g>\n       <use xlink:href=\"#m040628c580\" x=\"38.565938\" y=\"59.931038\" style=\"stroke: #000000; stroke-width: 0.8\"/>\n      </g>\n     </g>\n     <g id=\"text_10\">\n      <!-- $\\mathdefault{4}$ -->\n      <g transform=\"translate(25.805938 63.350335)scale(0.09 -0.09)\">\n       <defs>\n        <path id=\"DejaVuSerif-34\" d=\"M 2234 1581 \nL 2234 4063 \nL 641 1581 \nL 2234 1581 \nz\nM 3609 0 \nL 1484 0 \nL 1484 331 \nL 2234 331 \nL 2234 1247 \nL 197 1247 \nL 197 1588 \nL 2241 4750 \nL 2859 4750 \nL 2859 1581 \nL 3750 1581 \nL 3750 1247 \nL 2859 1247 \nL 2859 331 \nL 3609 331 \nL 3609 0 \nz\n\" transform=\"scale(0.015625)\"/>\n       </defs>\n       <use xlink:href=\"#DejaVuSerif-34\" transform=\"translate(0 0.78125)\"/>\n      </g>\n     </g>\n    </g>\n    <g id=\"ytick_7\">\n     <g id=\"line2d_33\">\n      <g>\n       <use xlink:href=\"#m040628c580\" x=\"38.565938\" y=\"33.658409\" style=\"stroke: #000000; stroke-width: 0.8\"/>\n      </g>\n     </g>\n     <g id=\"text_11\">\n      <!-- $\\mathdefault{5}$ -->\n      <g transform=\"translate(25.805938 37.077706)scale(0.09 -0.09)\">\n       <defs>\n        <path id=\"DejaVuSerif-35\" d=\"M 3219 4666 \nL 3219 4153 \nL 1081 4153 \nL 1081 2816 \nQ 1244 2928 1461 2984 \nQ 1678 3041 1947 3041 \nQ 2703 3041 3140 2622 \nQ 3578 2203 3578 1478 \nQ 3578 738 3136 323 \nQ 2694 -91 1894 -91 \nQ 1572 -91 1234 -12 \nQ 897 66 544 225 \nL 544 1131 \nL 897 1131 \nQ 925 688 1179 453 \nQ 1434 219 1894 219 \nQ 2388 219 2653 544 \nQ 2919 869 2919 1478 \nQ 2919 2084 2655 2407 \nQ 2391 2731 1894 2731 \nQ 1613 2731 1398 2631 \nQ 1184 2531 1019 2322 \nL 750 2322 \nL 750 4666 \nL 3219 4666 \nz\n\" transform=\"scale(0.015625)\"/>\n       </defs>\n       <use xlink:href=\"#DejaVuSerif-35\" transform=\"translate(0 0.09375)\"/>\n      </g>\n     </g>\n    </g>\n    <g id=\"text_12\">\n     <!-- [au] -->\n     <g transform=\"translate(11.958281 125.592531)rotate(-90)scale(0.11 -0.11)\">\n      <defs>\n       <path id=\"DejaVuSerif-61\" d=\"M 2547 1044 \nL 2547 1747 \nL 1806 1747 \nQ 1378 1747 1168 1562 \nQ 959 1378 959 997 \nQ 959 650 1171 447 \nQ 1384 244 1747 244 \nQ 2106 244 2326 466 \nQ 2547 688 2547 1044 \nz\nM 3122 2075 \nL 3122 331 \nL 3634 331 \nL 3634 0 \nL 2547 0 \nL 2547 359 \nQ 2356 128 2106 18 \nQ 1856 -91 1522 -91 \nQ 969 -91 644 203 \nQ 319 497 319 997 \nQ 319 1513 691 1797 \nQ 1063 2081 1741 2081 \nL 2547 2081 \nL 2547 2309 \nQ 2547 2688 2317 2895 \nQ 2088 3103 1672 3103 \nQ 1328 3103 1125 2947 \nQ 922 2791 872 2484 \nL 575 2484 \nL 575 3156 \nQ 875 3284 1158 3348 \nQ 1441 3413 1709 3413 \nQ 2400 3413 2761 3070 \nQ 3122 2728 3122 2075 \nz\n\" transform=\"scale(0.015625)\"/>\n       <path id=\"DejaVuSerif-75\" d=\"M 2266 3322 \nL 3341 3322 \nL 3341 331 \nL 3884 331 \nL 3884 0 \nL 2766 0 \nL 2766 588 \nQ 2606 256 2353 82 \nQ 2100 -91 1766 -91 \nQ 1213 -91 952 223 \nQ 691 538 691 1209 \nL 691 2988 \nL 172 2988 \nL 172 3322 \nL 1269 3322 \nL 1269 1388 \nQ 1269 781 1417 556 \nQ 1566 331 1947 331 \nQ 2347 331 2556 625 \nQ 2766 919 2766 1478 \nL 2766 2988 \nL 2266 2988 \nL 2266 3322 \nz\n\" transform=\"scale(0.015625)\"/>\n      </defs>\n      <use xlink:href=\"#DejaVuSerif-5b\"/>\n      <use xlink:href=\"#DejaVuSerif-61\" x=\"39.013672\"/>\n      <use xlink:href=\"#DejaVuSerif-75\" x=\"98.632812\"/>\n      <use xlink:href=\"#DejaVuSerif-5d\" x=\"163.037109\"/>\n     </g>\n    </g>\n    <g id=\"text_13\">\n     <!-- $\\times\\mathdefault{10^{−8}}\\mathdefault{−9.52 \\times 10^{−4}}$ -->\n     <g transform=\"translate(38.565938 10.438594)scale(0.09 -0.09)\">\n      <defs>\n       <path id=\"DejaVuSans-d7\" d=\"M 4488 3438 \nL 3059 2003 \nL 4488 575 \nL 4116 197 \nL 2681 1631 \nL 1247 197 \nL 878 575 \nL 2303 2003 \nL 878 3438 \nL 1247 3816 \nL 2681 2381 \nL 4116 3816 \nL 4488 3438 \nz\n\" transform=\"scale(0.015625)\"/>\n       <path id=\"DejaVuSerif-38\" d=\"M 2981 1275 \nQ 2981 1775 2732 2051 \nQ 2484 2328 2034 2328 \nQ 1584 2328 1336 2051 \nQ 1088 1775 1088 1275 \nQ 1088 772 1336 495 \nQ 1584 219 2034 219 \nQ 2484 219 2732 495 \nQ 2981 772 2981 1275 \nz\nM 2853 3541 \nQ 2853 3966 2637 4203 \nQ 2422 4441 2034 4441 \nQ 1650 4441 1433 4203 \nQ 1216 3966 1216 3541 \nQ 1216 3113 1433 2875 \nQ 1650 2638 2034 2638 \nQ 2422 2638 2637 2875 \nQ 2853 3113 2853 3541 \nz\nM 2516 2484 \nQ 3047 2413 3344 2092 \nQ 3641 1772 3641 1275 \nQ 3641 619 3225 264 \nQ 2809 -91 2034 -91 \nQ 1263 -91 845 264 \nQ 428 619 428 1275 \nQ 428 1772 725 2092 \nQ 1022 2413 1556 2484 \nQ 1084 2569 832 2842 \nQ 581 3116 581 3541 \nQ 581 4103 968 4426 \nQ 1356 4750 2034 4750 \nQ 2713 4750 3100 4426 \nQ 3488 4103 3488 3541 \nQ 3488 3116 3236 2842 \nQ 2984 2569 2516 2484 \nz\n\" transform=\"scale(0.015625)\"/>\n       <path id=\"DejaVuSerif-39\" d=\"M 2994 2091 \nQ 2784 1856 2512 1740 \nQ 2241 1625 1900 1625 \nQ 1206 1625 804 2044 \nQ 403 2463 403 3188 \nQ 403 3897 839 4323 \nQ 1275 4750 2003 4750 \nQ 2794 4750 3217 4161 \nQ 3641 3572 3641 2478 \nQ 3641 1253 3137 581 \nQ 2634 -91 1722 -91 \nQ 1475 -91 1203 -44 \nQ 931 3 647 97 \nL 647 872 \nL 997 872 \nQ 1038 556 1241 387 \nQ 1444 219 1784 219 \nQ 2391 219 2687 676 \nQ 2984 1134 2994 2091 \nz\nM 1978 4441 \nQ 1534 4441 1298 4117 \nQ 1063 3794 1063 3188 \nQ 1063 2581 1298 2256 \nQ 1534 1931 1978 1931 \nQ 2422 1931 2658 2245 \nQ 2894 2559 2894 3150 \nQ 2894 3772 2656 4106 \nQ 2419 4441 1978 4441 \nz\n\" transform=\"scale(0.015625)\"/>\n       <path id=\"DejaVuSerif-2e\" d=\"M 603 325 \nQ 603 500 722 622 \nQ 841 744 1019 744 \nQ 1191 744 1312 622 \nQ 1434 500 1434 325 \nQ 1434 153 1312 31 \nQ 1191 -91 1019 -91 \nQ 841 -91 722 29 \nQ 603 150 603 325 \nz\n\" transform=\"scale(0.015625)\"/>\n       <path id=\"DejaVuSerif-d7\" d=\"M 4481 3450 \nL 3034 2003 \nL 4481 563 \nL 4122 213 \nL 2681 1650 \nL 1241 213 \nL 884 563 \nL 2322 2003 \nL 884 3450 \nL 1241 3803 \nL 2681 2363 \nL 4122 3803 \nL 4481 3450 \nz\n\" transform=\"scale(0.015625)\"/>\n      </defs>\n      <use xlink:href=\"#DejaVuSans-d7\" transform=\"translate(0 0.7125)\"/>\n      <use xlink:href=\"#DejaVuSerif-31\" transform=\"translate(83.789062 0.7125)\"/>\n      <use xlink:href=\"#DejaVuSerif-30\" transform=\"translate(147.412109 0.7125)\"/>\n      <use xlink:href=\"#DejaVuSerif-2212\" transform=\"translate(211.943516 37.046875)scale(0.7)\"/>\n      <use xlink:href=\"#DejaVuSerif-38\" transform=\"translate(270.595859 37.046875)scale(0.7)\"/>\n      <use xlink:href=\"#DejaVuSerif-2212\" transform=\"translate(317.727305 0.7125)\"/>\n      <use xlink:href=\"#DejaVuSerif-39\" transform=\"translate(401.516367 0.7125)\"/>\n      <use xlink:href=\"#DejaVuSerif-2e\" transform=\"translate(465.139414 0.7125)\"/>\n      <use xlink:href=\"#DejaVuSerif-35\" transform=\"translate(496.926523 0.7125)\"/>\n      <use xlink:href=\"#DejaVuSerif-32\" transform=\"translate(560.54957 0.7125)\"/>\n      <use xlink:href=\"#DejaVuSerif-d7\" transform=\"translate(643.137461 0.7125)\"/>\n      <use xlink:href=\"#DejaVuSerif-31\" transform=\"translate(745.891367 0.7125)\"/>\n      <use xlink:href=\"#DejaVuSerif-30\" transform=\"translate(809.514414 0.7125)\"/>\n      <use xlink:href=\"#DejaVuSerif-2212\" transform=\"translate(874.04582 37.046875)scale(0.7)\"/>\n      <use xlink:href=\"#DejaVuSerif-34\" transform=\"translate(932.698164 37.046875)scale(0.7)\"/>\n     </g>\n    </g>\n   </g>\n   <g id=\"line2d_34\">\n    <path d=\"M 38.565938 206.334094 \nL 200.064312 206.221908 \nL 231.895876 205.98392 \nL 251.556547 205.627498 \nL 266.067996 205.148225 \nL 277.302665 204.563957 \nL 286.66489 203.863074 \nL 294.622781 203.053781 \nL 301.644449 202.123146 \nL 307.729895 201.106674 \nL 313.34723 199.953308 \nL 318.496453 198.675551 \nL 323.177566 197.295245 \nL 327.390567 195.843766 \nL 331.603568 194.162117 \nL 335.348458 192.445507 \nL 339.093347 190.490751 \nL 342.838237 188.265992 \nL 346.115016 186.06983 \nL 349.391795 183.612997 \nL 352.668573 180.866159 \nL 355.945352 177.797087 \nL 358.754019 174.88331 \nL 361.562687 171.68279 \nL 364.371354 168.169597 \nL 367.180021 164.315941 \nL 369.988689 160.092142 \nL 372.797356 155.466624 \nL 375.606023 150.405944 \nL 378.414691 144.874858 \nL 381.223358 138.836434 \nL 384.032026 132.252224 \nL 386.840693 125.082495 \nL 389.64936 117.286541 \nL 392.458028 108.823077 \nL 395.266695 99.65072 \nL 398.075363 89.728577 \nL 400.88403 79.016934 \nL 403.692697 67.478052 \nL 406.501365 55.077064 \nL 409.310032 41.782977 \nL 412.586811 25.110006 \nL 413.054922 22.624094 \nL 413.054922 22.624094 \n\" clip-path=\"url(#p6f10afee90)\" style=\"fill: none; stroke: #0000ff; stroke-width: 1.2; stroke-linecap: square\"/>\n   </g>\n   <g id=\"patch_3\">\n    <path d=\"M 38.565938 215.519594 \nL 38.565938 13.438594 \n\" style=\"fill: none; stroke: #000000; stroke-width: 0.8; stroke-linejoin: miter; stroke-linecap: square\"/>\n   </g>\n   <g id=\"patch_4\">\n    <path d=\"M 413.054922 215.519594 \nL 413.054922 13.438594 \n\" style=\"fill: none; stroke: #000000; stroke-width: 0.8; stroke-linejoin: miter; stroke-linecap: square\"/>\n   </g>\n   <g id=\"patch_5\">\n    <path d=\"M 38.565938 215.519594 \nL 413.054922 215.519594 \n\" style=\"fill: none; stroke: #000000; stroke-width: 0.8; stroke-linejoin: miter; stroke-linecap: square\"/>\n   </g>\n   <g id=\"patch_6\">\n    <path d=\"M 38.565938 13.438594 \nL 413.054922 13.438594 \n\" style=\"fill: none; stroke: #000000; stroke-width: 0.8; stroke-linejoin: miter; stroke-linecap: square\"/>\n   </g>\n   <g id=\"legend_1\">\n    <g id=\"patch_7\">\n     <path d=\"M 328.193984 36.394844 \nL 406.054922 36.394844 \nQ 408.054922 36.394844 408.054922 34.394844 \nL 408.054922 20.438594 \nQ 408.054922 18.438594 406.054922 18.438594 \nL 328.193984 18.438594 \nQ 326.193984 18.438594 326.193984 20.438594 \nL 326.193984 34.394844 \nQ 326.193984 36.394844 328.193984 36.394844 \nz\n\" style=\"fill: #ffffff; opacity: 0.8; stroke: #cccccc; stroke-linejoin: miter\"/>\n    </g>\n    <g id=\"line2d_35\">\n     <path d=\"M 330.193984 26.537031 \nL 340.193984 26.537031 \nL 350.193984 26.537031 \n\" style=\"fill: none; stroke: #0000ff; stroke-width: 1.2; stroke-linecap: square\"/>\n    </g>\n    <g id=\"text_14\">\n     <!-- refl_Q_f3 -->\n     <g transform=\"translate(358.193984 30.037031)scale(0.1 -0.1)\">\n      <defs>\n       <path id=\"DejaVuSerif-72\" d=\"M 3059 3328 \nL 3059 2497 \nL 2728 2497 \nQ 2713 2744 2591 2866 \nQ 2469 2988 2234 2988 \nQ 1809 2988 1582 2694 \nQ 1356 2400 1356 1850 \nL 1356 331 \nL 2022 331 \nL 2022 0 \nL 263 0 \nL 263 331 \nL 781 331 \nL 781 2994 \nL 231 2994 \nL 231 3322 \nL 1356 3322 \nL 1356 2731 \nQ 1525 3078 1790 3245 \nQ 2056 3413 2438 3413 \nQ 2578 3413 2733 3391 \nQ 2888 3369 3059 3328 \nz\n\" transform=\"scale(0.015625)\"/>\n       <path id=\"DejaVuSerif-65\" d=\"M 3469 1600 \nL 991 1600 \nL 991 1575 \nQ 991 903 1244 561 \nQ 1497 219 1991 219 \nQ 2369 219 2611 417 \nQ 2853 616 2950 1006 \nL 3413 1006 \nQ 3275 459 2904 184 \nQ 2534 -91 1931 -91 \nQ 1203 -91 761 389 \nQ 319 869 319 1663 \nQ 319 2450 753 2931 \nQ 1188 3413 1894 3413 \nQ 2647 3413 3050 2948 \nQ 3453 2484 3469 1600 \nz\nM 2791 1931 \nQ 2772 2513 2545 2808 \nQ 2319 3103 1894 3103 \nQ 1497 3103 1269 2806 \nQ 1041 2509 991 1931 \nL 2791 1931 \nz\n\" transform=\"scale(0.015625)\"/>\n       <path id=\"DejaVuSerif-6c\" d=\"M 1313 331 \nL 1856 331 \nL 1856 0 \nL 184 0 \nL 184 331 \nL 738 331 \nL 738 4531 \nL 184 4531 \nL 184 4863 \nL 1313 4863 \nL 1313 331 \nz\n\" transform=\"scale(0.015625)\"/>\n       <path id=\"DejaVuSerif-5f\" d=\"M 3200 -1259 \nL 3200 -1509 \nL 0 -1509 \nL 0 -1259 \nL 3200 -1259 \nz\n\" transform=\"scale(0.015625)\"/>\n       <path id=\"DejaVuSerif-51\" d=\"M 2700 -91 \nQ 1628 -91 993 567 \nQ 359 1225 359 2328 \nQ 359 2894 529 3339 \nQ 700 3784 1050 4134 \nQ 1356 4441 1750 4595 \nQ 2144 4750 2625 4750 \nQ 3641 4750 4266 4084 \nQ 4891 3419 4891 2328 \nQ 4891 1403 4422 773 \nQ 3953 144 3128 -38 \nQ 3297 -247 3539 -347 \nQ 3781 -447 4122 -447 \nL 4219 -447 \nL 4219 -1025 \nQ 3691 -1000 3314 -767 \nQ 2938 -534 2700 -91 \nz\nM 2625 244 \nQ 3391 244 3781 770 \nQ 4172 1297 4172 2328 \nQ 4172 3363 3781 3889 \nQ 3391 4416 2625 4416 \nQ 1856 4416 1465 3889 \nQ 1075 3363 1075 2328 \nQ 1075 1297 1465 770 \nQ 1856 244 2625 244 \nz\n\" transform=\"scale(0.015625)\"/>\n      </defs>\n      <use xlink:href=\"#DejaVuSerif-72\"/>\n      <use xlink:href=\"#DejaVuSerif-65\" x=\"47.802734\"/>\n      <use xlink:href=\"#DejaVuSerif-66\" x=\"106.982422\"/>\n      <use xlink:href=\"#DejaVuSerif-6c\" x=\"143.994141\"/>\n      <use xlink:href=\"#DejaVuSerif-5f\" x=\"175.976562\"/>\n      <use xlink:href=\"#DejaVuSerif-51\" x=\"225.976562\"/>\n      <use xlink:href=\"#DejaVuSerif-5f\" x=\"307.958984\"/>\n      <use xlink:href=\"#DejaVuSerif-66\" x=\"357.958984\"/>\n      <use xlink:href=\"#DejaVuSerif-33\" x=\"394.970703\"/>\n     </g>\n    </g>\n   </g>\n  </g>\n </g>\n <defs>\n  <clipPath id=\"p6f10afee90\">\n   <rect x=\"38.565938\" y=\"13.438594\" width=\"374.488984\" height=\"202.081\"/>\n  </clipPath>\n </defs>\n</svg>\n",
      "text/plain": [
       "<Figure size 1200x741.6 with 1 Axes>"
      ]
     },
     "metadata": {},
     "output_type": "display_data"
    },
    {
     "data": {
      "image/svg+xml": "<?xml version=\"1.0\" encoding=\"utf-8\" standalone=\"no\"?>\n<!DOCTYPE svg PUBLIC \"-//W3C//DTD SVG 1.1//EN\"\n  \"http://www.w3.org/Graphics/SVG/1.1/DTD/svg11.dtd\">\n<svg xmlns:xlink=\"http://www.w3.org/1999/xlink\" width=\"415.924727pt\" height=\"249.674016pt\" viewBox=\"0 0 415.924727 249.674016\" xmlns=\"http://www.w3.org/2000/svg\" version=\"1.1\">\n <metadata>\n  <rdf:RDF xmlns:dc=\"http://purl.org/dc/elements/1.1/\" xmlns:cc=\"http://creativecommons.org/ns#\" xmlns:rdf=\"http://www.w3.org/1999/02/22-rdf-syntax-ns#\">\n   <cc:Work>\n    <dc:type rdf:resource=\"http://purl.org/dc/dcmitype/StillImage\"/>\n    <dc:date>2022-12-07T19:48:10.229928</dc:date>\n    <dc:format>image/svg+xml</dc:format>\n    <dc:creator>\n     <cc:Agent>\n      <dc:title>Matplotlib v3.5.3, https://matplotlib.org/</dc:title>\n     </cc:Agent>\n    </dc:creator>\n   </cc:Work>\n  </rdf:RDF>\n </metadata>\n <defs>\n  <style type=\"text/css\">*{stroke-linejoin: round; stroke-linecap: butt}</style>\n </defs>\n <g id=\"figure_1\">\n  <g id=\"patch_1\">\n   <path d=\"M 0 249.674016 \nL 415.924727 249.674016 \nL 415.924727 0 \nL 0 0 \nz\n\" style=\"fill: #ffffff\"/>\n  </g>\n  <g id=\"axes_1\">\n   <g id=\"patch_2\">\n    <path d=\"M 62.505938 216.543391 \nL 412.324727 216.543391 \nL 412.324727 5.002624 \nL 62.505938 5.002624 \nz\n\" style=\"fill: #ffffff\"/>\n   </g>\n   <g id=\"matplotlib.axis_1\">\n    <g id=\"xtick_1\">\n     <g id=\"line2d_1\">\n      <defs>\n       <path id=\"m027c34a1bf\" d=\"M 0 0 \nL 0 3.5 \n\" style=\"stroke: #000000; stroke-width: 0.8\"/>\n      </defs>\n      <g>\n       <use xlink:href=\"#m027c34a1bf\" x=\"62.505938\" y=\"216.543391\" style=\"stroke: #000000; stroke-width: 0.8\"/>\n      </g>\n     </g>\n     <g id=\"text_1\">\n      <!-- $\\mathdefault{10^{0}}$ -->\n      <g transform=\"translate(54.585938 230.381984)scale(0.09 -0.09)\">\n       <defs>\n        <path id=\"DejaVuSerif-31\" d=\"M 909 0 \nL 909 331 \nL 1722 331 \nL 1722 4213 \nL 781 3603 \nL 781 4013 \nL 1919 4750 \nL 2350 4750 \nL 2350 331 \nL 3163 331 \nL 3163 0 \nL 909 0 \nz\n\" transform=\"scale(0.015625)\"/>\n        <path id=\"DejaVuSerif-30\" d=\"M 2034 219 \nQ 2513 219 2750 744 \nQ 2988 1269 2988 2328 \nQ 2988 3391 2750 3916 \nQ 2513 4441 2034 4441 \nQ 1556 4441 1318 3916 \nQ 1081 3391 1081 2328 \nQ 1081 1269 1318 744 \nQ 1556 219 2034 219 \nz\nM 2034 -91 \nQ 1275 -91 848 546 \nQ 422 1184 422 2328 \nQ 422 3475 848 4112 \nQ 1275 4750 2034 4750 \nQ 2797 4750 3222 4112 \nQ 3647 3475 3647 2328 \nQ 3647 1184 3222 546 \nQ 2797 -91 2034 -91 \nz\n\" transform=\"scale(0.015625)\"/>\n       </defs>\n       <use xlink:href=\"#DejaVuSerif-31\" transform=\"translate(0 0.7125)\"/>\n       <use xlink:href=\"#DejaVuSerif-30\" transform=\"translate(63.623047 0.7125)\"/>\n       <use xlink:href=\"#DejaVuSerif-30\" transform=\"translate(128.154453 37.046875)scale(0.7)\"/>\n      </g>\n     </g>\n    </g>\n    <g id=\"xtick_2\">\n     <g id=\"line2d_2\">\n      <g>\n       <use xlink:href=\"#m027c34a1bf\" x=\"183.004713\" y=\"216.543391\" style=\"stroke: #000000; stroke-width: 0.8\"/>\n      </g>\n     </g>\n     <g id=\"text_2\">\n      <!-- $\\mathdefault{10^{1}}$ -->\n      <g transform=\"translate(175.084713 230.381984)scale(0.09 -0.09)\">\n       <use xlink:href=\"#DejaVuSerif-31\" transform=\"translate(0 0.7125)\"/>\n       <use xlink:href=\"#DejaVuSerif-30\" transform=\"translate(63.623047 0.7125)\"/>\n       <use xlink:href=\"#DejaVuSerif-31\" transform=\"translate(128.154453 37.046875)scale(0.7)\"/>\n      </g>\n     </g>\n    </g>\n    <g id=\"xtick_3\">\n     <g id=\"line2d_3\">\n      <g>\n       <use xlink:href=\"#m027c34a1bf\" x=\"303.503489\" y=\"216.543391\" style=\"stroke: #000000; stroke-width: 0.8\"/>\n      </g>\n     </g>\n     <g id=\"text_3\">\n      <!-- $\\mathdefault{10^{2}}$ -->\n      <g transform=\"translate(295.583489 230.381984)scale(0.09 -0.09)\">\n       <defs>\n        <path id=\"DejaVuSerif-32\" d=\"M 819 3553 \nL 469 3553 \nL 469 4384 \nQ 803 4563 1142 4656 \nQ 1481 4750 1806 4750 \nQ 2534 4750 2956 4397 \nQ 3378 4044 3378 3438 \nQ 3378 2753 2422 1800 \nQ 2347 1728 2309 1691 \nL 1131 513 \nL 3078 513 \nL 3078 1088 \nL 3444 1088 \nL 3444 0 \nL 434 0 \nL 434 341 \nL 1850 1753 \nQ 2319 2222 2519 2614 \nQ 2719 3006 2719 3438 \nQ 2719 3909 2473 4175 \nQ 2228 4441 1797 4441 \nQ 1350 4441 1106 4219 \nQ 863 3997 819 3553 \nz\n\" transform=\"scale(0.015625)\"/>\n       </defs>\n       <use xlink:href=\"#DejaVuSerif-31\" transform=\"translate(0 0.7125)\"/>\n       <use xlink:href=\"#DejaVuSerif-30\" transform=\"translate(63.623047 0.7125)\"/>\n       <use xlink:href=\"#DejaVuSerif-32\" transform=\"translate(128.154453 37.046875)scale(0.7)\"/>\n      </g>\n     </g>\n    </g>\n    <g id=\"xtick_4\">\n     <g id=\"line2d_4\">\n      <defs>\n       <path id=\"m2b6569d5ea\" d=\"M 0 0 \nL 0 2 \n\" style=\"stroke: #000000; stroke-width: 0.6\"/>\n      </defs>\n      <g>\n       <use xlink:href=\"#m2b6569d5ea\" x=\"98.779683\" y=\"216.543391\" style=\"stroke: #000000; stroke-width: 0.6\"/>\n      </g>\n     </g>\n    </g>\n    <g id=\"xtick_5\">\n     <g id=\"line2d_5\">\n      <g>\n       <use xlink:href=\"#m2b6569d5ea\" x=\"119.998465\" y=\"216.543391\" style=\"stroke: #000000; stroke-width: 0.6\"/>\n      </g>\n     </g>\n    </g>\n    <g id=\"xtick_6\">\n     <g id=\"line2d_6\">\n      <g>\n       <use xlink:href=\"#m2b6569d5ea\" x=\"135.053429\" y=\"216.543391\" style=\"stroke: #000000; stroke-width: 0.6\"/>\n      </g>\n     </g>\n    </g>\n    <g id=\"xtick_7\">\n     <g id=\"line2d_7\">\n      <g>\n       <use xlink:href=\"#m2b6569d5ea\" x=\"146.730967\" y=\"216.543391\" style=\"stroke: #000000; stroke-width: 0.6\"/>\n      </g>\n     </g>\n    </g>\n    <g id=\"xtick_8\">\n     <g id=\"line2d_8\">\n      <g>\n       <use xlink:href=\"#m2b6569d5ea\" x=\"156.27221\" y=\"216.543391\" style=\"stroke: #000000; stroke-width: 0.6\"/>\n      </g>\n     </g>\n    </g>\n    <g id=\"xtick_9\">\n     <g id=\"line2d_9\">\n      <g>\n       <use xlink:href=\"#m2b6569d5ea\" x=\"164.339217\" y=\"216.543391\" style=\"stroke: #000000; stroke-width: 0.6\"/>\n      </g>\n     </g>\n    </g>\n    <g id=\"xtick_10\">\n     <g id=\"line2d_10\">\n      <g>\n       <use xlink:href=\"#m2b6569d5ea\" x=\"171.327175\" y=\"216.543391\" style=\"stroke: #000000; stroke-width: 0.6\"/>\n      </g>\n     </g>\n    </g>\n    <g id=\"xtick_11\">\n     <g id=\"line2d_11\">\n      <g>\n       <use xlink:href=\"#m2b6569d5ea\" x=\"177.490992\" y=\"216.543391\" style=\"stroke: #000000; stroke-width: 0.6\"/>\n      </g>\n     </g>\n    </g>\n    <g id=\"xtick_12\">\n     <g id=\"line2d_12\">\n      <g>\n       <use xlink:href=\"#m2b6569d5ea\" x=\"219.278459\" y=\"216.543391\" style=\"stroke: #000000; stroke-width: 0.6\"/>\n      </g>\n     </g>\n    </g>\n    <g id=\"xtick_13\">\n     <g id=\"line2d_13\">\n      <g>\n       <use xlink:href=\"#m2b6569d5ea\" x=\"240.49724\" y=\"216.543391\" style=\"stroke: #000000; stroke-width: 0.6\"/>\n      </g>\n     </g>\n    </g>\n    <g id=\"xtick_14\">\n     <g id=\"line2d_14\">\n      <g>\n       <use xlink:href=\"#m2b6569d5ea\" x=\"255.552205\" y=\"216.543391\" style=\"stroke: #000000; stroke-width: 0.6\"/>\n      </g>\n     </g>\n    </g>\n    <g id=\"xtick_15\">\n     <g id=\"line2d_15\">\n      <g>\n       <use xlink:href=\"#m2b6569d5ea\" x=\"267.229743\" y=\"216.543391\" style=\"stroke: #000000; stroke-width: 0.6\"/>\n      </g>\n     </g>\n    </g>\n    <g id=\"xtick_16\">\n     <g id=\"line2d_16\">\n      <g>\n       <use xlink:href=\"#m2b6569d5ea\" x=\"276.770986\" y=\"216.543391\" style=\"stroke: #000000; stroke-width: 0.6\"/>\n      </g>\n     </g>\n    </g>\n    <g id=\"xtick_17\">\n     <g id=\"line2d_17\">\n      <g>\n       <use xlink:href=\"#m2b6569d5ea\" x=\"284.837992\" y=\"216.543391\" style=\"stroke: #000000; stroke-width: 0.6\"/>\n      </g>\n     </g>\n    </g>\n    <g id=\"xtick_18\">\n     <g id=\"line2d_18\">\n      <g>\n       <use xlink:href=\"#m2b6569d5ea\" x=\"291.825951\" y=\"216.543391\" style=\"stroke: #000000; stroke-width: 0.6\"/>\n      </g>\n     </g>\n    </g>\n    <g id=\"xtick_19\">\n     <g id=\"line2d_19\">\n      <g>\n       <use xlink:href=\"#m2b6569d5ea\" x=\"297.989767\" y=\"216.543391\" style=\"stroke: #000000; stroke-width: 0.6\"/>\n      </g>\n     </g>\n    </g>\n    <g id=\"xtick_20\">\n     <g id=\"line2d_20\">\n      <g>\n       <use xlink:href=\"#m2b6569d5ea\" x=\"339.777235\" y=\"216.543391\" style=\"stroke: #000000; stroke-width: 0.6\"/>\n      </g>\n     </g>\n    </g>\n    <g id=\"xtick_21\">\n     <g id=\"line2d_21\">\n      <g>\n       <use xlink:href=\"#m2b6569d5ea\" x=\"360.996016\" y=\"216.543391\" style=\"stroke: #000000; stroke-width: 0.6\"/>\n      </g>\n     </g>\n    </g>\n    <g id=\"xtick_22\">\n     <g id=\"line2d_22\">\n      <g>\n       <use xlink:href=\"#m2b6569d5ea\" x=\"376.050981\" y=\"216.543391\" style=\"stroke: #000000; stroke-width: 0.6\"/>\n      </g>\n     </g>\n    </g>\n    <g id=\"xtick_23\">\n     <g id=\"line2d_23\">\n      <g>\n       <use xlink:href=\"#m2b6569d5ea\" x=\"387.728519\" y=\"216.543391\" style=\"stroke: #000000; stroke-width: 0.6\"/>\n      </g>\n     </g>\n    </g>\n    <g id=\"xtick_24\">\n     <g id=\"line2d_24\">\n      <g>\n       <use xlink:href=\"#m2b6569d5ea\" x=\"397.269762\" y=\"216.543391\" style=\"stroke: #000000; stroke-width: 0.6\"/>\n      </g>\n     </g>\n    </g>\n    <g id=\"xtick_25\">\n     <g id=\"line2d_25\">\n      <g>\n       <use xlink:href=\"#m2b6569d5ea\" x=\"405.336768\" y=\"216.543391\" style=\"stroke: #000000; stroke-width: 0.6\"/>\n      </g>\n     </g>\n    </g>\n    <g id=\"xtick_26\">\n     <g id=\"line2d_26\">\n      <g>\n       <use xlink:href=\"#m2b6569d5ea\" x=\"412.324727\" y=\"216.543391\" style=\"stroke: #000000; stroke-width: 0.6\"/>\n      </g>\n     </g>\n    </g>\n    <g id=\"text_4\">\n     <!--  f [Hz] (sig1) -->\n     <g transform=\"translate(205.452832 243.852141)scale(0.1 -0.1)\">\n      <defs>\n       <path id=\"DejaVuSerif-20\" transform=\"scale(0.015625)\"/>\n       <path id=\"DejaVuSerif-66\" d=\"M 2753 4078 \nL 2450 4078 \nQ 2447 4313 2317 4434 \nQ 2188 4556 1941 4556 \nQ 1619 4556 1487 4379 \nQ 1356 4203 1356 3750 \nL 1356 3322 \nL 2284 3322 \nL 2284 2988 \nL 1356 2988 \nL 1356 331 \nL 2094 331 \nL 2094 0 \nL 231 0 \nL 231 331 \nL 781 331 \nL 781 2988 \nL 231 2988 \nL 231 3322 \nL 781 3322 \nL 781 3738 \nQ 781 4294 1070 4578 \nQ 1359 4863 1919 4863 \nQ 2128 4863 2337 4825 \nQ 2547 4788 2753 4709 \nL 2753 4078 \nz\n\" transform=\"scale(0.015625)\"/>\n       <path id=\"DejaVuSerif-5b\" d=\"M 550 4863 \nL 2003 4863 \nL 2003 4531 \nL 1147 4531 \nL 1147 -513 \nL 2003 -513 \nL 2003 -844 \nL 550 -844 \nL 550 4863 \nz\n\" transform=\"scale(0.015625)\"/>\n       <path id=\"DejaVuSerif-48\" d=\"M 353 0 \nL 353 331 \nL 947 331 \nL 947 4331 \nL 353 4331 \nL 353 4666 \nL 2175 4666 \nL 2175 4331 \nL 1581 4331 \nL 1581 2719 \nL 4000 2719 \nL 4000 4331 \nL 3406 4331 \nL 3406 4666 \nL 5228 4666 \nL 5228 4331 \nL 4634 4331 \nL 4634 331 \nL 5228 331 \nL 5228 0 \nL 3406 0 \nL 3406 331 \nL 4000 331 \nL 4000 2338 \nL 1581 2338 \nL 1581 331 \nL 2175 331 \nL 2175 0 \nL 353 0 \nz\n\" transform=\"scale(0.015625)\"/>\n       <path id=\"DejaVuSerif-7a\" d=\"M 256 0 \nL 256 269 \nL 2338 2988 \nL 691 2988 \nL 691 2413 \nL 359 2413 \nL 359 3322 \nL 3078 3322 \nL 3078 3053 \nL 997 331 \nL 2803 331 \nL 2803 934 \nL 3138 934 \nL 3138 0 \nL 256 0 \nz\n\" transform=\"scale(0.015625)\"/>\n       <path id=\"DejaVuSerif-5d\" d=\"M 1947 4863 \nL 1947 -844 \nL 494 -844 \nL 494 -513 \nL 1350 -513 \nL 1350 4531 \nL 494 4531 \nL 494 4863 \nL 1947 4863 \nz\n\" transform=\"scale(0.015625)\"/>\n       <path id=\"DejaVuSerif-28\" d=\"M 2041 -997 \nQ 1281 -656 893 83 \nQ 506 822 506 1931 \nQ 506 3044 893 3783 \nQ 1281 4522 2041 4863 \nL 2041 4556 \nQ 1559 4225 1350 3623 \nQ 1141 3022 1141 1931 \nQ 1141 844 1350 242 \nQ 1559 -359 2041 -691 \nL 2041 -997 \nz\n\" transform=\"scale(0.015625)\"/>\n       <path id=\"DejaVuSerif-73\" d=\"M 359 184 \nL 359 959 \nL 691 959 \nQ 703 588 923 403 \nQ 1144 219 1575 219 \nQ 1963 219 2166 364 \nQ 2369 509 2369 788 \nQ 2369 1006 2220 1140 \nQ 2072 1275 1594 1428 \nL 1178 1569 \nQ 750 1706 558 1912 \nQ 366 2119 366 2438 \nQ 366 2894 700 3153 \nQ 1034 3413 1625 3413 \nQ 1888 3413 2178 3344 \nQ 2469 3275 2778 3144 \nL 2778 2419 \nL 2447 2419 \nQ 2434 2741 2221 2922 \nQ 2009 3103 1644 3103 \nQ 1281 3103 1095 2975 \nQ 909 2847 909 2591 \nQ 909 2381 1050 2254 \nQ 1191 2128 1613 1997 \nL 2069 1856 \nQ 2541 1709 2748 1489 \nQ 2956 1269 2956 922 \nQ 2956 450 2595 179 \nQ 2234 -91 1600 -91 \nQ 1278 -91 972 -22 \nQ 666 47 359 184 \nz\n\" transform=\"scale(0.015625)\"/>\n       <path id=\"DejaVuSerif-69\" d=\"M 622 4353 \nQ 622 4497 726 4603 \nQ 831 4709 978 4709 \nQ 1122 4709 1226 4603 \nQ 1331 4497 1331 4353 \nQ 1331 4206 1228 4103 \nQ 1125 4000 978 4000 \nQ 831 4000 726 4103 \nQ 622 4206 622 4353 \nz\nM 1356 331 \nL 1900 331 \nL 1900 0 \nL 231 0 \nL 231 331 \nL 781 331 \nL 781 2988 \nL 231 2988 \nL 231 3322 \nL 1356 3322 \nL 1356 331 \nz\n\" transform=\"scale(0.015625)\"/>\n       <path id=\"DejaVuSerif-67\" d=\"M 3359 2988 \nL 3359 72 \nQ 3359 -644 2965 -1033 \nQ 2572 -1422 1844 -1422 \nQ 1516 -1422 1216 -1362 \nQ 916 -1303 641 -1184 \nL 641 -488 \nL 941 -488 \nQ 997 -813 1206 -963 \nQ 1416 -1113 1806 -1113 \nQ 2313 -1113 2548 -827 \nQ 2784 -541 2784 72 \nL 2784 519 \nQ 2616 206 2355 57 \nQ 2094 -91 1709 -91 \nQ 1097 -91 708 395 \nQ 319 881 319 1663 \nQ 319 2444 706 2928 \nQ 1094 3413 1709 3413 \nQ 2094 3413 2355 3264 \nQ 2616 3116 2784 2803 \nL 2784 3322 \nL 3909 3322 \nL 3909 2988 \nL 3359 2988 \nz\nM 2784 1825 \nQ 2784 2422 2554 2737 \nQ 2325 3053 1888 3053 \nQ 1444 3053 1217 2703 \nQ 991 2353 991 1663 \nQ 991 975 1217 622 \nQ 1444 269 1888 269 \nQ 2325 269 2554 583 \nQ 2784 897 2784 1497 \nL 2784 1825 \nz\n\" transform=\"scale(0.015625)\"/>\n       <path id=\"DejaVuSerif-29\" d=\"M 453 -997 \nL 453 -691 \nQ 934 -359 1145 242 \nQ 1356 844 1356 1931 \nQ 1356 3022 1145 3623 \nQ 934 4225 453 4556 \nL 453 4863 \nQ 1216 4522 1603 3783 \nQ 1991 3044 1991 1931 \nQ 1991 822 1603 83 \nQ 1216 -656 453 -997 \nz\n\" transform=\"scale(0.015625)\"/>\n      </defs>\n      <use xlink:href=\"#DejaVuSerif-20\"/>\n      <use xlink:href=\"#DejaVuSerif-66\" x=\"31.787109\"/>\n      <use xlink:href=\"#DejaVuSerif-20\" x=\"68.798828\"/>\n      <use xlink:href=\"#DejaVuSerif-5b\" x=\"100.585938\"/>\n      <use xlink:href=\"#DejaVuSerif-48\" x=\"139.599609\"/>\n      <use xlink:href=\"#DejaVuSerif-7a\" x=\"226.806641\"/>\n      <use xlink:href=\"#DejaVuSerif-5d\" x=\"279.492188\"/>\n      <use xlink:href=\"#DejaVuSerif-20\" x=\"318.505859\"/>\n      <use xlink:href=\"#DejaVuSerif-28\" x=\"350.292969\"/>\n      <use xlink:href=\"#DejaVuSerif-73\" x=\"389.306641\"/>\n      <use xlink:href=\"#DejaVuSerif-69\" x=\"440.625\"/>\n      <use xlink:href=\"#DejaVuSerif-67\" x=\"472.607422\"/>\n      <use xlink:href=\"#DejaVuSerif-31\" x=\"536.621094\"/>\n      <use xlink:href=\"#DejaVuSerif-29\" x=\"600.244141\"/>\n     </g>\n    </g>\n   </g>\n   <g id=\"matplotlib.axis_2\">\n    <g id=\"ytick_1\">\n     <g id=\"line2d_27\">\n      <defs>\n       <path id=\"m8f5b33d431\" d=\"M 0 0 \nL -3.5 0 \n\" style=\"stroke: #000000; stroke-width: 0.8\"/>\n      </defs>\n      <g>\n       <use xlink:href=\"#m8f5b33d431\" x=\"62.505938\" y=\"205.363421\" style=\"stroke: #000000; stroke-width: 0.8\"/>\n      </g>\n     </g>\n     <g id=\"text_5\">\n      <!-- $\\mathdefault{0.00000}$ -->\n      <g transform=\"translate(18.245938 208.782718)scale(0.09 -0.09)\">\n       <defs>\n        <path id=\"DejaVuSerif-2e\" d=\"M 603 325 \nQ 603 500 722 622 \nQ 841 744 1019 744 \nQ 1191 744 1312 622 \nQ 1434 500 1434 325 \nQ 1434 153 1312 31 \nQ 1191 -91 1019 -91 \nQ 841 -91 722 29 \nQ 603 150 603 325 \nz\n\" transform=\"scale(0.015625)\"/>\n       </defs>\n       <use xlink:href=\"#DejaVuSerif-30\" transform=\"translate(0 0.78125)\"/>\n       <use xlink:href=\"#DejaVuSerif-2e\" transform=\"translate(63.623047 0.78125)\"/>\n       <use xlink:href=\"#DejaVuSerif-30\" transform=\"translate(95.410156 0.78125)\"/>\n       <use xlink:href=\"#DejaVuSerif-30\" transform=\"translate(159.033203 0.78125)\"/>\n       <use xlink:href=\"#DejaVuSerif-30\" transform=\"translate(222.65625 0.78125)\"/>\n       <use xlink:href=\"#DejaVuSerif-30\" transform=\"translate(286.279297 0.78125)\"/>\n       <use xlink:href=\"#DejaVuSerif-30\" transform=\"translate(349.902344 0.78125)\"/>\n      </g>\n     </g>\n    </g>\n    <g id=\"ytick_2\">\n     <g id=\"line2d_28\">\n      <g>\n       <use xlink:href=\"#m8f5b33d431\" x=\"62.505938\" y=\"165.694597\" style=\"stroke: #000000; stroke-width: 0.8\"/>\n      </g>\n     </g>\n     <g id=\"text_6\">\n      <!-- $\\mathdefault{0.00005}$ -->\n      <g transform=\"translate(18.245938 169.113893)scale(0.09 -0.09)\">\n       <defs>\n        <path id=\"DejaVuSerif-35\" d=\"M 3219 4666 \nL 3219 4153 \nL 1081 4153 \nL 1081 2816 \nQ 1244 2928 1461 2984 \nQ 1678 3041 1947 3041 \nQ 2703 3041 3140 2622 \nQ 3578 2203 3578 1478 \nQ 3578 738 3136 323 \nQ 2694 -91 1894 -91 \nQ 1572 -91 1234 -12 \nQ 897 66 544 225 \nL 544 1131 \nL 897 1131 \nQ 925 688 1179 453 \nQ 1434 219 1894 219 \nQ 2388 219 2653 544 \nQ 2919 869 2919 1478 \nQ 2919 2084 2655 2407 \nQ 2391 2731 1894 2731 \nQ 1613 2731 1398 2631 \nQ 1184 2531 1019 2322 \nL 750 2322 \nL 750 4666 \nL 3219 4666 \nz\n\" transform=\"scale(0.015625)\"/>\n       </defs>\n       <use xlink:href=\"#DejaVuSerif-30\" transform=\"translate(0 0.78125)\"/>\n       <use xlink:href=\"#DejaVuSerif-2e\" transform=\"translate(63.623047 0.78125)\"/>\n       <use xlink:href=\"#DejaVuSerif-30\" transform=\"translate(95.410156 0.78125)\"/>\n       <use xlink:href=\"#DejaVuSerif-30\" transform=\"translate(159.033203 0.78125)\"/>\n       <use xlink:href=\"#DejaVuSerif-30\" transform=\"translate(222.65625 0.78125)\"/>\n       <use xlink:href=\"#DejaVuSerif-30\" transform=\"translate(286.279297 0.78125)\"/>\n       <use xlink:href=\"#DejaVuSerif-35\" transform=\"translate(349.902344 0.78125)\"/>\n      </g>\n     </g>\n    </g>\n    <g id=\"ytick_3\">\n     <g id=\"line2d_29\">\n      <g>\n       <use xlink:href=\"#m8f5b33d431\" x=\"62.505938\" y=\"126.025772\" style=\"stroke: #000000; stroke-width: 0.8\"/>\n      </g>\n     </g>\n     <g id=\"text_7\">\n      <!-- $\\mathdefault{0.00010}$ -->\n      <g transform=\"translate(18.245938 129.445068)scale(0.09 -0.09)\">\n       <use xlink:href=\"#DejaVuSerif-30\" transform=\"translate(0 0.78125)\"/>\n       <use xlink:href=\"#DejaVuSerif-2e\" transform=\"translate(63.623047 0.78125)\"/>\n       <use xlink:href=\"#DejaVuSerif-30\" transform=\"translate(95.410156 0.78125)\"/>\n       <use xlink:href=\"#DejaVuSerif-30\" transform=\"translate(159.033203 0.78125)\"/>\n       <use xlink:href=\"#DejaVuSerif-30\" transform=\"translate(222.65625 0.78125)\"/>\n       <use xlink:href=\"#DejaVuSerif-31\" transform=\"translate(286.279297 0.78125)\"/>\n       <use xlink:href=\"#DejaVuSerif-30\" transform=\"translate(349.902344 0.78125)\"/>\n      </g>\n     </g>\n    </g>\n    <g id=\"ytick_4\">\n     <g id=\"line2d_30\">\n      <g>\n       <use xlink:href=\"#m8f5b33d431\" x=\"62.505938\" y=\"86.356947\" style=\"stroke: #000000; stroke-width: 0.8\"/>\n      </g>\n     </g>\n     <g id=\"text_8\">\n      <!-- $\\mathdefault{0.00015}$ -->\n      <g transform=\"translate(18.245938 89.776244)scale(0.09 -0.09)\">\n       <use xlink:href=\"#DejaVuSerif-30\" transform=\"translate(0 0.78125)\"/>\n       <use xlink:href=\"#DejaVuSerif-2e\" transform=\"translate(63.623047 0.78125)\"/>\n       <use xlink:href=\"#DejaVuSerif-30\" transform=\"translate(95.410156 0.78125)\"/>\n       <use xlink:href=\"#DejaVuSerif-30\" transform=\"translate(159.033203 0.78125)\"/>\n       <use xlink:href=\"#DejaVuSerif-30\" transform=\"translate(222.65625 0.78125)\"/>\n       <use xlink:href=\"#DejaVuSerif-31\" transform=\"translate(286.279297 0.78125)\"/>\n       <use xlink:href=\"#DejaVuSerif-35\" transform=\"translate(349.902344 0.78125)\"/>\n      </g>\n     </g>\n    </g>\n    <g id=\"ytick_5\">\n     <g id=\"line2d_31\">\n      <g>\n       <use xlink:href=\"#m8f5b33d431\" x=\"62.505938\" y=\"46.688122\" style=\"stroke: #000000; stroke-width: 0.8\"/>\n      </g>\n     </g>\n     <g id=\"text_9\">\n      <!-- $\\mathdefault{0.00020}$ -->\n      <g transform=\"translate(18.245938 50.107419)scale(0.09 -0.09)\">\n       <use xlink:href=\"#DejaVuSerif-30\" transform=\"translate(0 0.78125)\"/>\n       <use xlink:href=\"#DejaVuSerif-2e\" transform=\"translate(63.623047 0.78125)\"/>\n       <use xlink:href=\"#DejaVuSerif-30\" transform=\"translate(95.410156 0.78125)\"/>\n       <use xlink:href=\"#DejaVuSerif-30\" transform=\"translate(159.033203 0.78125)\"/>\n       <use xlink:href=\"#DejaVuSerif-30\" transform=\"translate(222.65625 0.78125)\"/>\n       <use xlink:href=\"#DejaVuSerif-32\" transform=\"translate(286.279297 0.78125)\"/>\n       <use xlink:href=\"#DejaVuSerif-30\" transform=\"translate(349.902344 0.78125)\"/>\n      </g>\n     </g>\n    </g>\n    <g id=\"ytick_6\">\n     <g id=\"line2d_32\">\n      <g>\n       <use xlink:href=\"#m8f5b33d431\" x=\"62.505938\" y=\"7.019297\" style=\"stroke: #000000; stroke-width: 0.8\"/>\n      </g>\n     </g>\n     <g id=\"text_10\">\n      <!-- $\\mathdefault{0.00025}$ -->\n      <g transform=\"translate(18.245938 10.438594)scale(0.09 -0.09)\">\n       <use xlink:href=\"#DejaVuSerif-30\" transform=\"translate(0 0.78125)\"/>\n       <use xlink:href=\"#DejaVuSerif-2e\" transform=\"translate(63.623047 0.78125)\"/>\n       <use xlink:href=\"#DejaVuSerif-30\" transform=\"translate(95.410156 0.78125)\"/>\n       <use xlink:href=\"#DejaVuSerif-30\" transform=\"translate(159.033203 0.78125)\"/>\n       <use xlink:href=\"#DejaVuSerif-30\" transform=\"translate(222.65625 0.78125)\"/>\n       <use xlink:href=\"#DejaVuSerif-32\" transform=\"translate(286.279297 0.78125)\"/>\n       <use xlink:href=\"#DejaVuSerif-35\" transform=\"translate(349.902344 0.78125)\"/>\n      </g>\n     </g>\n    </g>\n    <g id=\"text_11\">\n     <!-- [au] -->\n     <g transform=\"translate(11.958281 121.886445)rotate(-90)scale(0.11 -0.11)\">\n      <defs>\n       <path id=\"DejaVuSerif-61\" d=\"M 2547 1044 \nL 2547 1747 \nL 1806 1747 \nQ 1378 1747 1168 1562 \nQ 959 1378 959 997 \nQ 959 650 1171 447 \nQ 1384 244 1747 244 \nQ 2106 244 2326 466 \nQ 2547 688 2547 1044 \nz\nM 3122 2075 \nL 3122 331 \nL 3634 331 \nL 3634 0 \nL 2547 0 \nL 2547 359 \nQ 2356 128 2106 18 \nQ 1856 -91 1522 -91 \nQ 969 -91 644 203 \nQ 319 497 319 997 \nQ 319 1513 691 1797 \nQ 1063 2081 1741 2081 \nL 2547 2081 \nL 2547 2309 \nQ 2547 2688 2317 2895 \nQ 2088 3103 1672 3103 \nQ 1328 3103 1125 2947 \nQ 922 2791 872 2484 \nL 575 2484 \nL 575 3156 \nQ 875 3284 1158 3348 \nQ 1441 3413 1709 3413 \nQ 2400 3413 2761 3070 \nQ 3122 2728 3122 2075 \nz\n\" transform=\"scale(0.015625)\"/>\n       <path id=\"DejaVuSerif-75\" d=\"M 2266 3322 \nL 3341 3322 \nL 3341 331 \nL 3884 331 \nL 3884 0 \nL 2766 0 \nL 2766 588 \nQ 2606 256 2353 82 \nQ 2100 -91 1766 -91 \nQ 1213 -91 952 223 \nQ 691 538 691 1209 \nL 691 2988 \nL 172 2988 \nL 172 3322 \nL 1269 3322 \nL 1269 1388 \nQ 1269 781 1417 556 \nQ 1566 331 1947 331 \nQ 2347 331 2556 625 \nQ 2766 919 2766 1478 \nL 2766 2988 \nL 2266 2988 \nL 2266 3322 \nz\n\" transform=\"scale(0.015625)\"/>\n      </defs>\n      <use xlink:href=\"#DejaVuSerif-5b\"/>\n      <use xlink:href=\"#DejaVuSerif-61\" x=\"39.013672\"/>\n      <use xlink:href=\"#DejaVuSerif-75\" x=\"98.632812\"/>\n      <use xlink:href=\"#DejaVuSerif-5d\" x=\"163.037109\"/>\n     </g>\n    </g>\n   </g>\n   <g id=\"line2d_33\">\n    <path d=\"M 62.505938 206.927901 \nL 212.05347 206.816113 \nL 241.788067 206.578927 \nL 260.153553 206.223696 \nL 273.709031 205.746006 \nL 284.203595 205.16364 \nL 292.949065 204.464998 \nL 300.382714 203.658237 \nL 306.941816 202.730441 \nL 312.626372 201.71698 \nL 317.873654 200.566916 \nL 322.683662 199.292678 \nL 327.056397 197.916007 \nL 331.429132 196.293713 \nL 335.364593 194.588399 \nL 338.862781 192.84746 \nL 342.360969 190.864788 \nL 345.859157 188.607985 \nL 348.920071 186.379906 \nL 351.980985 183.887034 \nL 355.0419 181.099484 \nL 358.102814 177.984403 \nL 361.163729 174.505778 \nL 363.78737 171.205014 \nL 366.41101 167.581492 \nL 369.034651 163.606465 \nL 371.658292 159.249219 \nL 374.281933 154.477062 \nL 376.905574 149.255353 \nL 379.529215 143.547564 \nL 382.152856 137.315394 \nL 384.776497 130.518944 \nL 387.400138 123.116946 \nL 390.023779 115.067087 \nL 392.64742 106.326407 \nL 395.271061 96.851797 \nL 397.894702 86.600603 \nL 400.518342 75.531337 \nL 403.141983 63.604501 \nL 406.202898 48.557412 \nL 409.263812 32.242375 \nL 412.324727 14.618114 \nL 412.324727 14.618114 \n\" clip-path=\"url(#p241c40c179)\" style=\"fill: none; stroke: #0000ff; stroke-width: 1.2; stroke-linecap: square\"/>\n   </g>\n   <g id=\"patch_3\">\n    <path d=\"M 62.505938 216.543391 \nL 62.505938 5.002624 \n\" style=\"fill: none; stroke: #000000; stroke-width: 0.8; stroke-linejoin: miter; stroke-linecap: square\"/>\n   </g>\n   <g id=\"patch_4\">\n    <path d=\"M 412.324727 216.543391 \nL 412.324727 5.002624 \n\" style=\"fill: none; stroke: #000000; stroke-width: 0.8; stroke-linejoin: miter; stroke-linecap: square\"/>\n   </g>\n   <g id=\"patch_5\">\n    <path d=\"M 62.505938 216.543391 \nL 412.324727 216.543391 \n\" style=\"fill: none; stroke: #000000; stroke-width: 0.8; stroke-linejoin: miter; stroke-linecap: square\"/>\n   </g>\n   <g id=\"patch_6\">\n    <path d=\"M 62.505938 5.002624 \nL 412.324727 5.002624 \n\" style=\"fill: none; stroke: #000000; stroke-width: 0.8; stroke-linejoin: miter; stroke-linecap: square\"/>\n   </g>\n   <g id=\"legend_1\">\n    <g id=\"patch_7\">\n     <path d=\"M 345.551289 27.958874 \nL 405.324727 27.958874 \nQ 407.324727 27.958874 407.324727 25.958874 \nL 407.324727 12.002624 \nQ 407.324727 10.002624 405.324727 10.002624 \nL 345.551289 10.002624 \nQ 343.551289 10.002624 343.551289 12.002624 \nL 343.551289 25.958874 \nQ 343.551289 27.958874 345.551289 27.958874 \nz\n\" style=\"fill: #ffffff; opacity: 0.8; stroke: #cccccc; stroke-linejoin: miter\"/>\n    </g>\n    <g id=\"line2d_34\">\n     <path d=\"M 347.551289 18.101062 \nL 357.551289 18.101062 \nL 367.551289 18.101062 \n\" style=\"fill: none; stroke: #0000ff; stroke-width: 1.2; stroke-linecap: square\"/>\n    </g>\n    <g id=\"text_12\">\n     <!-- pop_I -->\n     <g transform=\"translate(375.551289 21.601062)scale(0.1 -0.1)\">\n      <defs>\n       <path id=\"DejaVuSerif-70\" d=\"M 1313 1825 \nL 1313 1497 \nQ 1313 897 1542 583 \nQ 1772 269 2209 269 \nQ 2650 269 2876 622 \nQ 3103 975 3103 1663 \nQ 3103 2353 2876 2703 \nQ 2650 3053 2209 3053 \nQ 1772 3053 1542 2737 \nQ 1313 2422 1313 1825 \nz\nM 738 2988 \nL 184 2988 \nL 184 3322 \nL 1313 3322 \nL 1313 2803 \nQ 1481 3116 1742 3264 \nQ 2003 3413 2388 3413 \nQ 3000 3413 3387 2928 \nQ 3775 2444 3775 1663 \nQ 3775 881 3387 395 \nQ 3000 -91 2388 -91 \nQ 2003 -91 1742 57 \nQ 1481 206 1313 519 \nL 1313 -997 \nL 1856 -997 \nL 1856 -1331 \nL 184 -1331 \nL 184 -997 \nL 738 -997 \nL 738 2988 \nz\n\" transform=\"scale(0.015625)\"/>\n       <path id=\"DejaVuSerif-6f\" d=\"M 1925 219 \nQ 2388 219 2623 584 \nQ 2859 950 2859 1663 \nQ 2859 2375 2623 2739 \nQ 2388 3103 1925 3103 \nQ 1463 3103 1227 2739 \nQ 991 2375 991 1663 \nQ 991 950 1228 584 \nQ 1466 219 1925 219 \nz\nM 1925 -91 \nQ 1200 -91 759 389 \nQ 319 869 319 1663 \nQ 319 2456 758 2934 \nQ 1197 3413 1925 3413 \nQ 2653 3413 3092 2934 \nQ 3531 2456 3531 1663 \nQ 3531 869 3092 389 \nQ 2653 -91 1925 -91 \nz\n\" transform=\"scale(0.015625)\"/>\n       <path id=\"DejaVuSerif-5f\" d=\"M 3200 -1259 \nL 3200 -1509 \nL 0 -1509 \nL 0 -1259 \nL 3200 -1259 \nz\n\" transform=\"scale(0.015625)\"/>\n       <path id=\"DejaVuSerif-49\" d=\"M 1581 331 \nL 2175 331 \nL 2175 0 \nL 353 0 \nL 353 331 \nL 947 331 \nL 947 4331 \nL 353 4331 \nL 353 4666 \nL 2175 4666 \nL 2175 4331 \nL 1581 4331 \nL 1581 331 \nz\n\" transform=\"scale(0.015625)\"/>\n      </defs>\n      <use xlink:href=\"#DejaVuSerif-70\"/>\n      <use xlink:href=\"#DejaVuSerif-6f\" x=\"64.013672\"/>\n      <use xlink:href=\"#DejaVuSerif-70\" x=\"124.21875\"/>\n      <use xlink:href=\"#DejaVuSerif-5f\" x=\"188.232422\"/>\n      <use xlink:href=\"#DejaVuSerif-49\" x=\"238.232422\"/>\n     </g>\n    </g>\n   </g>\n  </g>\n </g>\n <defs>\n  <clipPath id=\"p241c40c179\">\n   <rect x=\"62.505938\" y=\"5.002624\" width=\"349.818789\" height=\"211.540766\"/>\n  </clipPath>\n </defs>\n</svg>\n",
      "text/plain": [
       "<Figure size 1200x741.6 with 1 Axes>"
      ]
     },
     "metadata": {},
     "output_type": "display_data"
    },
    {
     "name": "stdout",
     "output_type": "stream",
     "text": [
      "+-------------------------------------------------------------+\n",
      "|                PRM/ETM tune Decoupling Method               |\n",
      "+--------------+-----------------------+----------------------+\n",
      "| SIGNAL V/rad |          PRCL         |         ARM          |\n",
      "+--------------+-----------------------+----------------------+\n",
      "|   pop_I_1f   | -1.97191808757891e-06 |  0.540386916614082   |\n",
      "|  refl_Q_3f   | -0.000952015724551771 | 0.000160848200852697 |\n",
      "+--------------+-----------------------+----------------------+\n"
     ]
    }
   ],
   "source": [
    "#### PRM/ARM tune Decoupling Method ###\n",
    "#### measure tf using fsig same as PDH error slope ####\n",
    "\n",
    "ETM_tun = kat_pd1s.deepcopy()\n",
    "ETM_tun.parse(\"\"\"\n",
    "fsig sig1 ETM 10 0\n",
    "xaxis sig1 f log 1 800 800\n",
    "\"\"\")\n",
    "ETM_tun.refl_Q_f3.phase1 = 46.256983240           #### set optimum phases #### \n",
    "ETM_tun.pop_I.phase1 = 166.927374301676\n",
    "out_etm = ETM_tun.run()\n",
    "out_etm.plot(['refl_Q_f3'])\n",
    "out_etm.plot(['pop_I'])\n",
    "\n",
    "PRM_tun = kat_pd1s.deepcopy()\n",
    "PRM_tun.parse(\"\"\"\n",
    "fsig sig1 PRM 10 0\n",
    "xaxis sig1 f log 1 800 800\n",
    "\"\"\")\n",
    "PRM_tun.refl_Q_f3.phase1 = 46.256983240\n",
    "PRM_tun.pop_I.phase1 = 166.927374301676\n",
    "out_prm = PRM_tun.run()\n",
    "out_prm.plot(['refl_Q_f3'])\n",
    "out_prm.plot(['pop_I'])\n",
    "\n",
    "\n",
    "#### print matrix ####\n",
    "\n",
    "from prettytable import PrettyTable\n",
    "\n",
    "t = PrettyTable(['SIGNAL V/rad','PRCL','ARM'])\n",
    "t.add_row(['pop_I_1f',out_prm['pop_I'][1], out_etm['pop_I'][1]])               \n",
    "t.add_row(['refl_Q_3f',out_prm['refl_Q_f3'][1],out_etm['refl_Q_f3'][1]])\n",
    "t.title = 'PRM/ETM tune Decoupling Method'\n",
    "print(t)\n"
   ]
  },
  {
   "cell_type": "markdown",
   "metadata": {},
   "source": [
    "<h2>LSC using Maximum Slope Method</h2>"
   ]
  },
  {
   "cell_type": "code",
   "execution_count": 7,
   "metadata": {},
   "outputs": [
    {
     "name": "stdout",
     "output_type": "stream",
     "text": [
      "--------------------------------------------------------------\n",
      "Running kat - Started at 2022-12-07 19:48:10.519193\n"
     ]
    },
    {
     "name": "stderr",
     "output_type": "stream",
     "text": [
      "100% | ETA:  0:00:00 | Calculating                                             "
     ]
    },
    {
     "name": "stdout",
     "output_type": "stream",
     "text": [
      "Used Finesse None at C:\\Users\\Parivesh\\anaconda3\\Library\\bin\\kat.exe\n",
      "\n",
      "Finished in 6.06721 seconds\n",
      "--------------------------------------------------------------\n",
      "Running kat - Started at 2022-12-07 19:48:16.611385\n"
     ]
    },
    {
     "name": "stderr",
     "output_type": "stream",
     "text": [
      "100% | ETA:  0:00:00 | Calculating                                             "
     ]
    },
    {
     "name": "stdout",
     "output_type": "stream",
     "text": [
      "Used Finesse None at C:\\Users\\Parivesh\\anaconda3\\Library\\bin\\kat.exe\n",
      "\n",
      "Finished in 5.80479 seconds\n",
      "+------------------------------------------------------------+\n",
      "|                 PRM/ETM tune Slope Method                  |\n",
      "+--------------+-----------------------+---------------------+\n",
      "| SIGNAL V/rad |          PRCL         |         ARM         |\n",
      "+--------------+-----------------------+---------------------+\n",
      "|   pop_I_1f   | -0.000819633887271368 |  -1.77672754869903  |\n",
      "|  refl_Q_3f   |  0.00205996944263719  | -0.0721320454759479 |\n",
      "+--------------+-----------------------+---------------------+\n"
     ]
    }
   ],
   "source": [
    "#### PRM/ARM tune Slope Method ###\n",
    "\n",
    "ETM_tun = kat_pd1s.deepcopy()\n",
    "ETM_tun.parse(\"\"\"\n",
    "fsig sig1 ETM 10 0\n",
    "xaxis sig1 f log 1 800 800\n",
    "\"\"\")\n",
    "\n",
    "ETM_tun.pop_I.phase1 = 59.32960894\n",
    "#ETM_tun.refl_Q_f3.phase1 = 166.85370741\n",
    "ETM_tun.refl_Q_f3.phase1 = 163.91061453\n",
    "out_etm = ETM_tun.run()\n",
    "\n",
    "\n",
    "PRM_tun = kat_pd1s.deepcopy()\n",
    "PRM_tun.parse(\"\"\"\n",
    "fsig sig1 PRM 10 0\n",
    "xaxis sig1 f log 1 800 800\n",
    "\"\"\")\n",
    "\n",
    "PRM_tun.pop_I.phase1 = 59.32960894\n",
    "#PRM_tun.refl_Q_f3.phase1 = 166.85370741+90\n",
    "PRM_tun.refl_Q_f3.phase1 = 163.91061453\n",
    "\n",
    "out_prm = PRM_tun.run()\n",
    "\n",
    "\n",
    "from prettytable import PrettyTable\n",
    "\n",
    "t = PrettyTable(['SIGNAL V/rad','PRCL','ARM'])\n",
    "t.add_row(['pop_I_1f',out_prm['pop_I'][1], out_etm['pop_I'][1]])                   \n",
    "t.add_row(['refl_Q_3f',out_prm['refl_Q_f3'][0],out_etm['refl_Q_f3'][1]])\n",
    "\n",
    "\n",
    "t.title = 'PRM/ETM tune Slope Method'\n",
    "print(t)\n"
   ]
  },
  {
   "cell_type": "markdown",
   "metadata": {},
   "source": [
    "<h2>ASC</h2>"
   ]
  },
  {
   "cell_type": "code",
   "execution_count": 8,
   "metadata": {},
   "outputs": [],
   "source": [
    "############ Angular sensing ########\n",
    "\n",
    "kat_qpds = kat.deepcopy()\n",
    "kat_qpds.parse(\"\"\" \n",
    "\n",
    "\n",
    "\n",
    "const sb1 55.556M\n",
    "const sb2 111.112M\n",
    "const sb3 166.668M \n",
    "\n",
    "#### REFL ######\n",
    "\n",
    "attr sr g 0                                 #guoy phase for det1\n",
    "attr sQPD1 g 0                                 #guoy phase for det1\n",
    "attr sQPD2 g 90                                #guoy phase for det2\n",
    "\n",
    "pd2 REFL_A $sb3 0 1 0 a11                       #Split detector1 refl\n",
    "pdtype REFL_A x-split   \n",
    "pd2 REFL_B $sb3 90 1 0 a12                       #Split detector2 refl\n",
    "pdtype REFL_B x-split  \n",
    "\n",
    "#put REFL_A f2 $x1\n",
    "#put REFL_B f2 $x1\n",
    "\n",
    "\n",
    "\n",
    "\n",
    "#### POP ######\n",
    "\n",
    "#attr s21 g 0                                 #guoy phase for det1\n",
    "attr sQPD11 g 0                                 #guoy phase for det1\n",
    "attr sQPD21 g 90                                #guoy phase for det2\n",
    "\n",
    "pd2 POP_A $sb1 0 1 0 a11a                       #Split detector1 refl\n",
    "pdtype POP_A x-split   \n",
    "pd2 POP_B $sb1 90 1 0 a12a                       #Split detector2 refl\n",
    "pdtype POP_B x-split  \n",
    "\n",
    "#put POP_A f2 $x1\n",
    "#put POP_B f2 $x1\n",
    "\n",
    "\n",
    "\"\"\")\n"
   ]
  },
  {
   "cell_type": "markdown",
   "metadata": {},
   "source": [
    "<h2>ASC sensing matrix</h2>"
   ]
  },
  {
   "cell_type": "code",
   "execution_count": 9,
   "metadata": {},
   "outputs": [
    {
     "name": "stdout",
     "output_type": "stream",
     "text": [
      "--------------------------------------------------------------\n",
      "Running kat - Started at 2022-12-07 19:48:22.586268\n",
      "Used Finesse None at C:\\Users\\Parivesh\\anaconda3\\Library\\bin\\kat.exe\n",
      "\n",
      "Finished in 0.139866 seconds\n",
      "\n",
      "--- Output info ---\n",
      "\n",
      "Run date and time: 2022-12-07 19:48:22.586267\n",
      "Detectors used: POP_A, POP_B, REFL_A, REFL_B\n",
      "\n",
      "No xaxis used\n",
      "REFL_A : min = -3.145435499902930e-06 max = -3.145435499902930e-06\n",
      "REFL_B : min = -1.874146984285150e-05 max = -1.874146984285150e-05\n",
      "POP_A  : min = 2.842827799927940e-01 max = 2.842827799927940e-01\n",
      "POP_B  : min = 8.128349188457711e-02 max = 8.128349188457711e-02\n",
      "--------------------------------------------------------------\n",
      "Running kat - Started at 2022-12-07 19:48:22.756642\n"
     ]
    },
    {
     "name": "stderr",
     "output_type": "stream",
     "text": [
      "100% | ETA:  0:00:00 | Calculating                                             "
     ]
    },
    {
     "name": "stdout",
     "output_type": "stream",
     "text": [
      "Used Finesse None at C:\\Users\\Parivesh\\anaconda3\\Library\\bin\\kat.exe\n",
      "\n",
      "Finished in 0.13109 seconds\n",
      "\n",
      "--- Output info ---\n",
      "\n",
      "Run date and time: 2022-12-07 19:48:22.756642\n",
      "Detectors used: POP_A, POP_B, REFL_A, REFL_B\n",
      "\n",
      "No xaxis used\n",
      "REFL_A : min = -4.642156476859390e-06 max = -4.642156476859390e-06\n",
      "REFL_B : min = -1.854557390905640e-05 max = -1.854557390905640e-05\n",
      "POP_A  : min = 6.232940740267850e-01 max = 6.232940740267850e-01\n",
      "POP_B  : min = 4.992796448636030e-01 max = 4.992796448636030e-01\n",
      "--------------------------------------------------------------\n",
      "Running kat - Started at 2022-12-07 19:48:22.912737\n",
      "Used Finesse None at C:\\Users\\Parivesh\\anaconda3\\Library\\bin\\kat.exe\n",
      "\n",
      "Finished in 0.133543 seconds\n",
      "\n",
      "--- Output info ---\n",
      "\n",
      "Run date and time: 2022-12-07 19:48:22.912736\n",
      "Detectors used: POP_A, POP_B, REFL_A, REFL_B\n",
      "\n",
      "No xaxis used\n",
      "REFL_A : min = -1.222446973773700e-05 max = -1.222446973773700e-05\n",
      "REFL_B : min = -1.910229732460470e-05 max = -1.910229732460470e-05\n",
      "POP_A  : min = -6.379327954927180e-02 max = -6.379327954927180e-02\n",
      "POP_B  : min = -1.312655671691850e+00 max = -1.312655671691850e+00\n"
     ]
    },
    {
     "name": "stderr",
     "output_type": "stream",
     "text": [
      "100% | ETA:  0:00:00 | Calculating                                             "
     ]
    }
   ],
   "source": [
    "ETM_ms = kat_qpds.deepcopy()\n",
    "ETM_ms.parse(\"\"\"\n",
    "fsig sig1 ETM xbeta 1 0 1\n",
    "fsig sig2 ITM xbeta 1 0 1\n",
    "\n",
    "\"\"\")\n",
    "ETM_ms.sQPD11.gouy = 280           #### set optimum gouy phase --> such that slope of POP/REFL_A and POP/REFL_B are orthogonal #####\n",
    "ETM_ms.sQPD21.gouy = 370\n",
    "ETM_ms.noxaxis = True\n",
    "ETM_ms_out = ETM_ms.run()\n",
    "ETM_ms_out.info()\n",
    "\n",
    "\n",
    "ITM_ms = kat_qpds.deepcopy()\n",
    "ITM_ms.parse(\"\"\"\n",
    "fsig sig1 ETM xbeta 1 0 -1\n",
    "fsig sig2 ITM xbeta 1 0 1\n",
    "\"\"\")\n",
    "ITM_ms.sQPD11.gouy = 280\n",
    "ITM_ms.sQPD21.gouy = 370\n",
    "ITM_ms.noxaxis = True\n",
    "ITM_ms_out = ITM_ms.run()\n",
    "ITM_ms_out.info()\n",
    "\n",
    "\n",
    "PRM_ms = kat_qpds.deepcopy()\n",
    "PRM_ms.parse(\"\"\"\n",
    "fsig sig1 PRM xbeta 1 0 1\n",
    "\"\"\")\n",
    "PRM_ms.sQPD1.gouy = 185\n",
    "PRM_ms.sQPD2.gouy = 275\n",
    "PRM_ms.noxaxis = True\n",
    "PRM_ms_out = PRM_ms.run()\n",
    "PRM_ms_out.info()\n",
    "\n"
   ]
  },
  {
   "cell_type": "code",
   "execution_count": 10,
   "metadata": {},
   "outputs": [
    {
     "name": "stdout",
     "output_type": "stream",
     "text": [
      "+-------------------------------------------------------------------------------------------+\n",
      "|                                  ITM/ETM/PRM Misalignment                                 |\n",
      "+--------------+-------------------------+-------------------------+------------------------+\n",
      "| SIGNAL V/rad |           ITM           |           ETM           |          PRM           |\n",
      "+--------------+-------------------------+-------------------------+------------------------+\n",
      "|    POP_A     |  0.0005045226159670262  |  0.00023011143184746444 | -5.163718639483054e-05 |\n",
      "|    POP_B     |  0.00040413968786561557 |   6.5794560977615e-05   | -0.0010625232950914696 |\n",
      "|    REFL_A    | -0.00022091325330979037 | -0.00014968655038310346 | -0.0005817441512823782 |\n",
      "|    REFL_B    |  -0.0008825560032647973 |  -0.0008918783964802265 | -0.0009090496343036457 |\n",
      "+--------------+-------------------------+-------------------------+------------------------+\n"
     ]
    }
   ],
   "source": [
    "from prettytable import PrettyTable\n",
    "\n",
    "t = PrettyTable(['SIGNAL V/rad','ITM','ETM','PRM'])\n",
    "t.add_row(['POP_A',ITM_ms_out['POP_A']/1235.41354599557,ETM_ms_out['POP_A']/1235.41354599557,PRM_ms_out['POP_A']/1235.41354599557])                    ###### Normalised using maximum slope value ########\n",
    "t.add_row(['POP_B',ITM_ms_out['POP_B']/1235.41354599557,ETM_ms_out['POP_B']/1235.41354599557,PRM_ms_out['POP_B']/1235.41354599557])\n",
    "t.add_row(['REFL_A',ITM_ms_out['REFL_A']/0.0210134811167242,ETM_ms_out['REFL_A']/0.0210134811167242,PRM_ms_out['REFL_A']/0.0210134811167242])\n",
    "t.add_row(['REFL_B',ITM_ms_out['REFL_B']/0.0210134811167242,ETM_ms_out['REFL_B']/0.0210134811167242,PRM_ms_out['REFL_B']/0.0210134811167242])\n",
    "t.title = 'ITM/ETM/PRM Misalignment'\n",
    "print(t)\n",
    "\n",
    "a = ITM_ms_out['POP_A']/1235.41354599557\n",
    "b = ETM_ms_out['POP_A']/1235.41354599557\n",
    "c = PRM_ms_out['POP_A']/1235.41354599557\n",
    "d = ITM_ms_out['POP_B']/1235.41354599557\n",
    "e = ETM_ms_out['POP_B']/1235.41354599557\n",
    "f = PRM_ms_out['POP_B']/1235.41354599557\n",
    "g = ITM_ms_out['REFL_A']/0.0210134811167242\n",
    "h = ETM_ms_out['REFL_A']/0.0210134811167242\n",
    "i = PRM_ms_out['REFL_A']/0.0210134811167242"
   ]
  },
  {
   "cell_type": "markdown",
   "metadata": {},
   "source": [
    "<h2>Diagonalsiation using row operations</h2>"
   ]
  },
  {
   "cell_type": "code",
   "execution_count": 11,
   "metadata": {},
   "outputs": [
    {
     "name": "stdout",
     "output_type": "stream",
     "text": [
      "[[ 5.04522616e-04  2.30111432e-04 -5.16371864e-05]\n",
      " [ 4.04139688e-04  6.57945610e-05 -1.06252330e-03]\n",
      " [-2.20913253e-04 -1.49686550e-04 -5.81744151e-04]]\n",
      "[ 0.71758879 -1.22187325]\n",
      "[[-5.54114894e-05 -2.71050543e-20  0.00000000e+00]\n",
      " [ 4.04139688e-04  6.57945610e-05 -1.06252330e-03]\n",
      " [-2.20913253e-04 -1.49686550e-04 -5.81744151e-04]]\n",
      "[-14.57505386   1.82644431]\n",
      "[[-5.54114894e-05 -2.71050543e-20  0.00000000e+00]\n",
      " [ 0.00000000e+00  3.39188709e-04  0.00000000e+00]\n",
      " [-2.20913253e-04 -1.49686550e-04 -5.81744151e-04]]\n",
      "[ 3.98677703 -0.44130759]\n",
      "[[-5.54114894e-05 -2.71050543e-20  0.00000000e+00]\n",
      " [ 0.00000000e+00  3.39188709e-04  0.00000000e+00]\n",
      " [ 0.00000000e+00  0.00000000e+00 -5.81744151e-04]]\n",
      "+------------------------------------------------------------------------------------------------------------------+\n",
      "|                                            RM/hard/soft Misalignment                                             |\n",
      "+--------------------------------------+-------------------------+------------------------+------------------------+\n",
      "|     Combination of SIGNAL V/rad      |        Soft mode        |       Hard mode        |          PRM           |\n",
      "+--------------------------------------+-------------------------+------------------------+------------------------+\n",
      "| (POP_A)+0.718(POP_B)+-1.222(REFL_A)  | -5.5411489396787095e-05 | -2.710505431213761e-20 |          0.0           |\n",
      "| (POP_B)+-14.575(POP_A)+1.826(REFL_A) |           0.0           | 0.0003391887092356344  |          0.0           |\n",
      "| (REFL_A)+3.987(POP_A)+-0.441(POP_B)  |           0.0           |          0.0           | -0.0005817441512823782 |\n",
      "+--------------------------------------+-------------------------+------------------------+------------------------+\n"
     ]
    }
   ],
   "source": [
    "#M1 = np.array([[ITM_ms_out['POP_A'],ETM_ms_out['POP_A'],PRM_ms_out['POP_A']], [ITM_ms_out['POP_B'],ETM_ms_out['POP_B'],PRM_ms_out['POP_B']], [ITM_ms_out['REFL_A'],ETM_ms_out['REFL_A'],PRM_ms_out['REFL_A']]])\n",
    "#print(M1)\n",
    "\n",
    "\n",
    "###### diagonalisation using row operations ######### \n",
    "###### REFL_B not used because only 3 degrees of freedom ######\n",
    "\n",
    "\n",
    "M1 = np.array([[a,b,c], [d,e,f], [g,h,i]])\n",
    "print(M1)\n",
    "\n",
    "A = np.array([[e, h], [f, i]])\n",
    "B = np.array([b, c])\n",
    "X1 = np.linalg.solve(A,B)\n",
    "\n",
    "print(X1)\n",
    "\n",
    "a = a - d*X1[0] - g*X1[1]\n",
    "b = b - e*X1[0] - h*X1[1]\n",
    "c = c - f*X1[0] - i*X1[1]\n",
    "M1 = np.array([[a,b,c], [d,e,f], [g,h,i]])\n",
    "print(M1)\n",
    "\n",
    "\n",
    "\n",
    "A = np.array([[a, g], [c, i]])\n",
    "B = np.array([d, f])\n",
    "X2 = np.linalg.solve(A,B)\n",
    "\n",
    "print(X2)\n",
    "\n",
    "e = e - b*X2[0] - h*X2[1]\n",
    "d = d - a*X2[0] - g*X2[1]\n",
    "f = f - c*X2[0] - i*X2[1]\n",
    "M1 = np.array([[a,b,c], [d,e,f], [g,h,i]])\n",
    "print(M1)\n",
    "\n",
    "A = np.array([[a, d], [b, e]])\n",
    "B = np.array([g, h])\n",
    "X3 = np.linalg.solve(A,B)\n",
    "\n",
    "print(X3)\n",
    "\n",
    "i = i - c*X3[0] - f*X3[1]\n",
    "g = g - a*X3[0] - d*X3[1]\n",
    "h = h - b*X3[0] - e*X3[1]\n",
    "M1 = np.array([[a,b,c], [d,e,f], [g,h,i]])\n",
    "print(M1)\n",
    "\n",
    "\n",
    "\n",
    "\n",
    "#### print diagonal matrix #######\n",
    "\n",
    "\n",
    "from prettytable import PrettyTable\n",
    "\n",
    "t = PrettyTable(['Combination of SIGNAL V/rad','Soft mode','Hard mode','PRM'])\n",
    "t.add_row([\"(POP_A)+\"+str(round(X1[0],3))+\"(POP_B)+\"+str(round(X1[1],3))+\"(REFL_A)\",a,b,c])                    ###### Normalised using maximum slope value ########\n",
    "t.add_row([\"(POP_B)+\"+str(round(X2[0],3))+\"(POP_A)+\"+str(round(X2[1],3))+\"(REFL_A)\",d,e,f])\n",
    "t.add_row([\"(REFL_A)+\"+str(round(X3[0],3))+\"(POP_A)+\"+str(round(X3[1],3))+\"(POP_B)\",g,h,i])\n",
    "\n",
    "t.title = 'RM/hard/soft Misalignment'\n",
    "print(t)\n",
    "\n"
   ]
  },
  {
   "cell_type": "code",
   "execution_count": 12,
   "metadata": {},
   "outputs": [
    {
     "name": "stdout",
     "output_type": "stream",
     "text": [
      "-0.000819633861460398\n"
     ]
    }
   ],
   "source": [
    "print(max(out_prm['pop_I']))"
   ]
  },
  {
   "cell_type": "code",
   "execution_count": null,
   "metadata": {},
   "outputs": [],
   "source": []
  }
 ],
 "metadata": {
  "kernelspec": {
   "display_name": "Python 3.9.15 ('base')",
   "language": "python",
   "name": "python3"
  },
  "language_info": {
   "codemirror_mode": {
    "name": "ipython",
    "version": 3
   },
   "file_extension": ".py",
   "mimetype": "text/x-python",
   "name": "python",
   "nbconvert_exporter": "python",
   "pygments_lexer": "ipython3",
   "version": "3.9.15"
  },
  "vscode": {
   "interpreter": {
    "hash": "47624b2bb3dc4c88571923476099f3ba28f698f5edc93b8ba13c075c510daf2f"
   }
  }
 },
 "nbformat": 4,
 "nbformat_minor": 2
}
